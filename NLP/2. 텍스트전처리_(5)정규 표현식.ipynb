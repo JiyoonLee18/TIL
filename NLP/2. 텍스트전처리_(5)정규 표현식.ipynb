{
 "cells": [
  {
   "cell_type": "markdown",
   "id": "9c99c520",
   "metadata": {},
   "source": [
    "## 정규 표현식(Regular Expression)\n",
    "- 파이썬에서 지원하고 있는 정규 표현식 모듈 re의 사용 방법\n",
    "- NLTK를 통한 정규 표현식을 이용한 토큰화"
   ]
  },
  {
   "cell_type": "markdown",
   "id": "8eb402d2",
   "metadata": {},
   "source": [
    "### 정규 표현식 문법과 모듈 함수\n",
    "#### . 기호\n",
    "- .은 한 개의 임의의 문자를 나타냄\n",
    "- ex. a.c: a와 c 사이에는 어떤 1개의 문자라도 올 수 있음 (akc, azc, avc, a5c, a!c)\n",
    "- ex. ab.: ab다음에는 어떤 한 글자가 존재할 수 있다는 패턴"
   ]
  },
  {
   "cell_type": "code",
   "execution_count": 1,
   "id": "928dc2f5",
   "metadata": {},
   "outputs": [],
   "source": [
    "import re"
   ]
  },
  {
   "cell_type": "code",
   "execution_count": 2,
   "id": "3c38bfb2",
   "metadata": {},
   "outputs": [],
   "source": [
    "r = re.compile(\"a.c\")\n",
    "r.search(\"kkk\") # 아무런 결과도 출력되지 않는다."
   ]
  },
  {
   "cell_type": "code",
   "execution_count": 3,
   "id": "56f228d5",
   "metadata": {},
   "outputs": [
    {
     "data": {
      "text/plain": [
       "<re.Match object; span=(0, 3), match='abc'>"
      ]
     },
     "execution_count": 3,
     "metadata": {},
     "output_type": "execute_result"
    }
   ],
   "source": [
    "r.search(\"abc\")"
   ]
  },
  {
   "cell_type": "markdown",
   "id": "0e5b8c12",
   "metadata": {},
   "source": [
    "#### ? 기호\n",
    "- ?는 ?앞의 문자가 존재할 수도 있고 존재하지 않을 수도 있는 경우를 나타냄\n",
    "- ex. ab?c: 정규 표현식에서의 b는 있다고 취급할 수도 있고, 없다고 취급할 수도 있음 (abc, ac)"
   ]
  },
  {
   "cell_type": "code",
   "execution_count": 4,
   "id": "fe37f845",
   "metadata": {},
   "outputs": [],
   "source": [
    "r = re.compile(\"ab?c\")\n",
    "r.search(\"abbc\") # 아무런 결과도 출력되지 않는다."
   ]
  },
  {
   "cell_type": "code",
   "execution_count": 5,
   "id": "27d4cec5",
   "metadata": {},
   "outputs": [
    {
     "data": {
      "text/plain": [
       "<re.Match object; span=(0, 3), match='abc'>"
      ]
     },
     "execution_count": 5,
     "metadata": {},
     "output_type": "execute_result"
    }
   ],
   "source": [
    "r.search(\"abc\")"
   ]
  },
  {
   "cell_type": "code",
   "execution_count": 6,
   "id": "4e7dd0ab",
   "metadata": {},
   "outputs": [
    {
     "data": {
      "text/plain": [
       "<re.Match object; span=(0, 2), match='ac'>"
      ]
     },
     "execution_count": 6,
     "metadata": {},
     "output_type": "execute_result"
    }
   ],
   "source": [
    "r.search(\"ac\")"
   ]
  },
  {
   "cell_type": "markdown",
   "id": "3d3ae00f",
   "metadata": {},
   "source": [
    "#### * 기호\n",
    "- *은 바로 앞의 문자가 0개 이상일 경우를 나타냄\n",
    "- 앞의 문자는 존재하지 않을 수도 있으며, 또는 여러 개일 수도 있음\n",
    "- ex. ab*c : ac, abc, abbc, abbbc\n",
    "- *앞에 붙어있는 b가 0부터 무한대로 반복될 수 있다는 뜻\n",
    "    - ac(o), abbbc(o)"
   ]
  },
  {
   "cell_type": "code",
   "execution_count": 7,
   "id": "649b771f",
   "metadata": {},
   "outputs": [],
   "source": [
    "r = re.compile(\"ab*c\")\n",
    "r.search(\"a\") # 아무런 결과도 출력되지 않는다."
   ]
  },
  {
   "cell_type": "code",
   "execution_count": 12,
   "id": "481fcecf",
   "metadata": {},
   "outputs": [],
   "source": [
    "r.search(\"bc\")"
   ]
  },
  {
   "cell_type": "code",
   "execution_count": 9,
   "id": "ab354879",
   "metadata": {},
   "outputs": [
    {
     "data": {
      "text/plain": [
       "<re.Match object; span=(0, 2), match='ac'>"
      ]
     },
     "execution_count": 9,
     "metadata": {},
     "output_type": "execute_result"
    }
   ],
   "source": [
    "r.search(\"ac\")"
   ]
  },
  {
   "cell_type": "code",
   "execution_count": 10,
   "id": "bb41f0c5",
   "metadata": {},
   "outputs": [
    {
     "data": {
      "text/plain": [
       "<re.Match object; span=(0, 3), match='abc'>"
      ]
     },
     "execution_count": 10,
     "metadata": {},
     "output_type": "execute_result"
    }
   ],
   "source": [
    "r.search(\"abc\") "
   ]
  },
  {
   "cell_type": "code",
   "execution_count": 11,
   "id": "15c169e6",
   "metadata": {},
   "outputs": [
    {
     "data": {
      "text/plain": [
       "<re.Match object; span=(0, 6), match='abbbbc'>"
      ]
     },
     "execution_count": 11,
     "metadata": {},
     "output_type": "execute_result"
    }
   ],
   "source": [
    "r.search(\"abbbbc\") "
   ]
  },
  {
   "cell_type": "markdown",
   "id": "501ba343",
   "metadata": {},
   "source": [
    "#### +기호\n",
    "- *와 유사, but.  다른 점은 앞의 문자가 최소 1개 이상\n",
    "- ab+c: ac(x), abc, abbc, abbbc(o)"
   ]
  },
  {
   "cell_type": "code",
   "execution_count": 13,
   "id": "b5dc547a",
   "metadata": {},
   "outputs": [],
   "source": [
    "r = re.compile(\"ab+c\")\n",
    "r.search(\"ac\") # 아무런 결과도 출력되지 않는다."
   ]
  },
  {
   "cell_type": "code",
   "execution_count": 14,
   "id": "f165251c",
   "metadata": {},
   "outputs": [
    {
     "data": {
      "text/plain": [
       "<re.Match object; span=(0, 3), match='abc'>"
      ]
     },
     "execution_count": 14,
     "metadata": {},
     "output_type": "execute_result"
    }
   ],
   "source": [
    "r.search(\"abc\") "
   ]
  },
  {
   "cell_type": "code",
   "execution_count": 15,
   "id": "38bd1e6a",
   "metadata": {},
   "outputs": [
    {
     "data": {
      "text/plain": [
       "<re.Match object; span=(0, 6), match='abbbbc'>"
      ]
     },
     "execution_count": 15,
     "metadata": {},
     "output_type": "execute_result"
    }
   ],
   "source": [
    "r.search(\"abbbbc\") "
   ]
  },
  {
   "cell_type": "markdown",
   "id": "14147f57",
   "metadata": {},
   "source": [
    "#### ^기호\n",
    "- ^는 시작되는 문자열을 지정\n",
    "- ex. ^ab: 문자열 ab로 시작되는 경우 매치"
   ]
  },
  {
   "cell_type": "code",
   "execution_count": 16,
   "id": "44409918",
   "metadata": {},
   "outputs": [],
   "source": [
    "r = re.compile(\"^ab\")\n",
    "\n",
    "# 아무런 결과도 출력되지 않는다.\n",
    "r.search(\"bbc\")\n",
    "r.search(\"zab\")"
   ]
  },
  {
   "cell_type": "code",
   "execution_count": 17,
   "id": "3e616d2e",
   "metadata": {},
   "outputs": [
    {
     "data": {
      "text/plain": [
       "<re.Match object; span=(0, 2), match='ab'>"
      ]
     },
     "execution_count": 17,
     "metadata": {},
     "output_type": "execute_result"
    }
   ],
   "source": [
    "r.search(\"abz\")"
   ]
  },
  {
   "cell_type": "markdown",
   "id": "829c4aee",
   "metadata": {},
   "source": [
    "#### {숫자} 기호\n",
    "- 문자에 해당 기호를 붙이면, 해당 문자를 숫자만큼 반복한 것을 나타냄\n",
    "- ex. ab{2}c: a와 c 사이에 b가 존재하면서 b가 2개인 문자열에 대해서 매치"
   ]
  },
  {
   "cell_type": "code",
   "execution_count": 18,
   "id": "6d7e2e47",
   "metadata": {},
   "outputs": [],
   "source": [
    "r = re.compile(\"ab{2}c\")\n",
    "\n",
    "# 아무런 결과도 출력되지 않는다.\n",
    "r.search(\"ac\")\n",
    "r.search(\"abc\")\n",
    "r.search(\"abbbbbc\")"
   ]
  },
  {
   "cell_type": "code",
   "execution_count": 19,
   "id": "de30a837",
   "metadata": {},
   "outputs": [
    {
     "data": {
      "text/plain": [
       "<re.Match object; span=(0, 4), match='abbc'>"
      ]
     },
     "execution_count": 19,
     "metadata": {},
     "output_type": "execute_result"
    }
   ],
   "source": [
    "r.search(\"abbc\")"
   ]
  },
  {
   "cell_type": "markdown",
   "id": "b50789d5",
   "metadata": {},
   "source": [
    "#### {숫자1, 숫자2} 기호\n",
    "- 문자에 해당 기호를 붙이면, 해당 문자를 숫자1 이상 숫자2 이하만큼 반복\n",
    "- ex. ab{2,8}c: a와 c 사이에 b가 존재하면서 b는 2개 이상 8개 이하인 문자열에 대해서 매치"
   ]
  },
  {
   "cell_type": "code",
   "execution_count": 20,
   "id": "d7e7e454",
   "metadata": {},
   "outputs": [],
   "source": [
    "r = re.compile(\"ab{2,8}c\")\n",
    "\n",
    "# 아무런 결과도 출력되지 않는다.\n",
    "r.search(\"ac\")\n",
    "r.search(\"abc\")\n",
    "r.search(\"abbbbbbbbbc\")"
   ]
  },
  {
   "cell_type": "code",
   "execution_count": 21,
   "id": "bc6ecaef",
   "metadata": {},
   "outputs": [
    {
     "data": {
      "text/plain": [
       "<re.Match object; span=(0, 4), match='abbc'>"
      ]
     },
     "execution_count": 21,
     "metadata": {},
     "output_type": "execute_result"
    }
   ],
   "source": [
    "r.search(\"abbc\")"
   ]
  },
  {
   "cell_type": "code",
   "execution_count": 22,
   "id": "26327305",
   "metadata": {},
   "outputs": [
    {
     "data": {
      "text/plain": [
       "<re.Match object; span=(0, 10), match='abbbbbbbbc'>"
      ]
     },
     "execution_count": 22,
     "metadata": {},
     "output_type": "execute_result"
    }
   ],
   "source": [
    "r.search(\"abbbbbbbbc\")"
   ]
  },
  {
   "cell_type": "markdown",
   "id": "ac9afd40",
   "metadata": {},
   "source": [
    "#### {숫자,} 기호\n",
    "- 문자에 해당 기호를 붙이면 해당 문자를 숫자 이상 만큼 반복\n",
    "- ex. a{2,}bc: bc가 붙으면서 a의 개수가 2개 이상인 경우인 문자열과 매치\n",
    "- 만약 {0,}을 쓴다면 *와 동일한 의미\n",
    "- {1,}을 쓴다면 +와 동일한 의미"
   ]
  },
  {
   "cell_type": "code",
   "execution_count": 23,
   "id": "a97f6fbb",
   "metadata": {},
   "outputs": [],
   "source": [
    "r = re.compile(\"a{2,}bc\")\n",
    "\n",
    "# 아무런 결과도 출력되지 않는다.\n",
    "r.search(\"bc\")\n",
    "r.search(\"aa\")"
   ]
  },
  {
   "cell_type": "code",
   "execution_count": 24,
   "id": "89dbf037",
   "metadata": {},
   "outputs": [
    {
     "data": {
      "text/plain": [
       "<re.Match object; span=(0, 4), match='aabc'>"
      ]
     },
     "execution_count": 24,
     "metadata": {},
     "output_type": "execute_result"
    }
   ],
   "source": [
    "r.search(\"aabc\")"
   ]
  },
  {
   "cell_type": "code",
   "execution_count": 25,
   "id": "675c6de0",
   "metadata": {},
   "outputs": [
    {
     "data": {
      "text/plain": [
       "<re.Match object; span=(0, 10), match='aaaaaaaabc'>"
      ]
     },
     "execution_count": 25,
     "metadata": {},
     "output_type": "execute_result"
    }
   ],
   "source": [
    "r.search(\"aaaaaaaabc\")"
   ]
  },
  {
   "cell_type": "markdown",
   "id": "8ffec37f",
   "metadata": {},
   "source": [
    "#### [ ] 기호\n",
    "- [ ]안에 문자들을 넣으면 그 문자들 중 한 개의 문자와 매치라는 의미\n",
    "    - [abc]: a 또는 b또는 c가 들어가있는 문자열과 매치\n",
    "- 범위를 지정하는 것도 가능\n",
    "    - [a-zA-Z]는 알파벳 전부\n",
    "    - [0-9]는 숫자 전부를 의미"
   ]
  },
  {
   "cell_type": "code",
   "execution_count": 26,
   "id": "0dc19221",
   "metadata": {},
   "outputs": [],
   "source": [
    "r = re.compile(\"[abc]\") # [abc]는 [a-c]와 같다.\n",
    "r.search(\"zzz\") # 아무런 결과도 출력되지 않는다."
   ]
  },
  {
   "cell_type": "code",
   "execution_count": 27,
   "id": "de00362b",
   "metadata": {},
   "outputs": [
    {
     "data": {
      "text/plain": [
       "<re.Match object; span=(0, 1), match='a'>"
      ]
     },
     "execution_count": 27,
     "metadata": {},
     "output_type": "execute_result"
    }
   ],
   "source": [
    "r.search(\"a\")"
   ]
  },
  {
   "cell_type": "code",
   "execution_count": 28,
   "id": "e8345267",
   "metadata": {},
   "outputs": [
    {
     "data": {
      "text/plain": [
       "<re.Match object; span=(0, 1), match='a'>"
      ]
     },
     "execution_count": 28,
     "metadata": {},
     "output_type": "execute_result"
    }
   ],
   "source": [
    "r.search(\"aaaaaaa\")   "
   ]
  },
  {
   "cell_type": "code",
   "execution_count": 29,
   "id": "8a1e6716",
   "metadata": {},
   "outputs": [
    {
     "data": {
      "text/plain": [
       "<re.Match object; span=(0, 1), match='b'>"
      ]
     },
     "execution_count": 29,
     "metadata": {},
     "output_type": "execute_result"
    }
   ],
   "source": [
    "r.search(\"baac\")"
   ]
  },
  {
   "cell_type": "code",
   "execution_count": 30,
   "id": "b69a1e52",
   "metadata": {},
   "outputs": [],
   "source": [
    "r = re.compile(\"[a-z]\")\n",
    "\n",
    "# 아무런 결과도 출력되지 않는다.\n",
    "r.search(\"AAA\")\n",
    "r.search(\"111\") "
   ]
  },
  {
   "cell_type": "code",
   "execution_count": 31,
   "id": "76cba3c0",
   "metadata": {},
   "outputs": [
    {
     "data": {
      "text/plain": [
       "<re.Match object; span=(0, 1), match='a'>"
      ]
     },
     "execution_count": 31,
     "metadata": {},
     "output_type": "execute_result"
    }
   ],
   "source": [
    "r.search(\"aBC\")"
   ]
  },
  {
   "cell_type": "markdown",
   "id": "938d3e9c",
   "metadata": {},
   "source": [
    "#### [^문자] 기호\n",
    "- [^문자]는 ^기호 뒤에 붙은 문자들을 제외한 모든 문자를 매치\n",
    "- [^abc]: a 또는 b 또는 c가 들어간 문자열을 제외한 모든 문자열을 매치"
   ]
  },
  {
   "cell_type": "code",
   "execution_count": 32,
   "id": "4093b7cc",
   "metadata": {},
   "outputs": [],
   "source": [
    "r = re.compile(\"[^abc]\")\n",
    "\n",
    "# 아무런 결과도 출력되지 않는다.\n",
    "r.search(\"a\")\n",
    "r.search(\"ab\") \n",
    "r.search(\"b\")"
   ]
  },
  {
   "cell_type": "code",
   "execution_count": 33,
   "id": "262ca876",
   "metadata": {},
   "outputs": [
    {
     "data": {
      "text/plain": [
       "<re.Match object; span=(0, 1), match='d'>"
      ]
     },
     "execution_count": 33,
     "metadata": {},
     "output_type": "execute_result"
    }
   ],
   "source": [
    "r.search(\"d\")"
   ]
  },
  {
   "cell_type": "code",
   "execution_count": 35,
   "id": "cc7566a2",
   "metadata": {},
   "outputs": [
    {
     "data": {
      "text/plain": [
       "<re.Match object; span=(0, 1), match='1'>"
      ]
     },
     "execution_count": 35,
     "metadata": {},
     "output_type": "execute_result"
    }
   ],
   "source": [
    "r.search(\"1\")"
   ]
  },
  {
   "cell_type": "code",
   "execution_count": 36,
   "id": "2efda9ee",
   "metadata": {},
   "outputs": [
    {
     "data": {
      "text/plain": [
       "<re.Match object; span=(1, 2), match='d'>"
      ]
     },
     "execution_count": 36,
     "metadata": {},
     "output_type": "execute_result"
    }
   ],
   "source": [
    "r.search(\"bddd\")"
   ]
  },
  {
   "cell_type": "markdown",
   "id": "67b7a03a",
   "metadata": {},
   "source": [
    "### 역 슬래쉬(\\)를 이용하여 자주 쓰이는 문자 규칙\n",
    "- \\d: 숫자와 매치\n",
    "- \\D: 숫자 아닌것과 매치\n",
    "- \\s: whitespace 문자와 매치\n",
    "- \\S: whitespace 문자가 아닌것과 매치\n",
    "- \\w: 문자 + 숫자ㅘ 매치\n",
    "- \\W: 문자+숫자가 아닌 문자와 매치"
   ]
  },
  {
   "cell_type": "markdown",
   "id": "1a7a2d96",
   "metadata": {},
   "source": [
    "### 정규 표현식 모듈 함수 예제\n",
    "#### re.match() 와 re.search()의 차이\n",
    "- search(): 정규 표현식 전체에 대해서 문자열이 매치하는지를 확인\n",
    "- match(): 문자열의 첫 부분부터 정규 표현식과 매치하는지를 확인\n",
    "    - 문자열 중간에 찾을 패턴이 있더라도 match 함수는 문자열의 시작에서 패턴이 일치하지 않으면 찾지 않음"
   ]
  },
  {
   "cell_type": "code",
   "execution_count": 37,
   "id": "3ef9d6de",
   "metadata": {},
   "outputs": [],
   "source": [
    "r = re.compile(\"ab.\")\n",
    "r.match(\"kkkabc\") # 아무런 결과도 출력되지 않는다."
   ]
  },
  {
   "cell_type": "code",
   "execution_count": 38,
   "id": "699c3b18",
   "metadata": {},
   "outputs": [
    {
     "data": {
      "text/plain": [
       "<re.Match object; span=(3, 6), match='abc'>"
      ]
     },
     "execution_count": 38,
     "metadata": {},
     "output_type": "execute_result"
    }
   ],
   "source": [
    "r.search(\"kkkabc\")"
   ]
  },
  {
   "cell_type": "code",
   "execution_count": 39,
   "id": "a9fb7058",
   "metadata": {},
   "outputs": [
    {
     "data": {
      "text/plain": [
       "<re.Match object; span=(0, 3), match='abc'>"
      ]
     },
     "execution_count": 39,
     "metadata": {},
     "output_type": "execute_result"
    }
   ],
   "source": [
    "r.match(\"abckkk\")"
   ]
  },
  {
   "cell_type": "markdown",
   "id": "cfa87311",
   "metadata": {},
   "source": [
    "- 정규 표현식이 ab. \n",
    "    - ab 다음에는 어떤 한 글자가 존재할 수 있다는 패턴을 의미\n",
    "    - search 모듈 함수에 kkkabc라는 문자열을 넣어 매치되는지 확인한다면 abc라는 문자열에서 매치되어 Match object를 리턴\n",
    "    - match 모듈 함수의 경우, 앞 부분이 ab.와 매치되지 않기때문에, 아무런 결과도 출력되지 않음\n",
    "    - 반면 abckkk로 매치 시도시, 시작 부분에서 패턴과 매치되었기 때문에 정상적으로 Match object를 리턴"
   ]
  },
  {
   "cell_type": "markdown",
   "id": "ba271003",
   "metadata": {},
   "source": [
    "#### re.split()\n",
    "- split() 함수는 입력된 정규 표현식을 기준으로 문자열들을 분리하여 리스트로 리턴"
   ]
  },
  {
   "cell_type": "code",
   "execution_count": 45,
   "id": "3f29e03b",
   "metadata": {},
   "outputs": [
    {
     "data": {
      "text/plain": [
       "['사과', '딸기', '수박', '메론', '바나나']"
      ]
     },
     "execution_count": 45,
     "metadata": {},
     "output_type": "execute_result"
    }
   ],
   "source": [
    "# 공백 기준 분리\n",
    "text = \"사과 딸기 수박 메론 바나나\"\n",
    "re.split(\" \", text)"
   ]
  },
  {
   "cell_type": "code",
   "execution_count": 46,
   "id": "98c19f46",
   "metadata": {},
   "outputs": [
    {
     "data": {
      "text/plain": [
       "['사과', '딸기', '수박', '메론', '바나나']"
      ]
     },
     "execution_count": 46,
     "metadata": {},
     "output_type": "execute_result"
    }
   ],
   "source": [
    "# 줄바꿈 기준 분리\n",
    "text = \"\"\"사과\n",
    "딸기\n",
    "수박\n",
    "메론\n",
    "바나나\"\"\"\n",
    "\n",
    "re.split(\"\\n\", text)"
   ]
  },
  {
   "cell_type": "code",
   "execution_count": 48,
   "id": "64140c5f",
   "metadata": {},
   "outputs": [
    {
     "data": {
      "text/plain": [
       "['사과', '딸기', '수박', '메론', '바나나']"
      ]
     },
     "execution_count": 48,
     "metadata": {},
     "output_type": "execute_result"
    }
   ],
   "source": [
    "text = \"사과+딸기+수박+메론+바나나\"\n",
    "\n",
    "re.split(\"\\+\", text)"
   ]
  },
  {
   "cell_type": "markdown",
   "id": "32de50ae",
   "metadata": {},
   "source": [
    "#### re.findall()\n",
    "- findall() 함수: 정규 표현식과 매치되는 모든 문자열들을 리스트로 리턴\n",
    "- 단, 매치되는 문자열이 없다면 빈 리스트를 리턴"
   ]
  },
  {
   "cell_type": "code",
   "execution_count": 49,
   "id": "3b4e53a7",
   "metadata": {},
   "outputs": [
    {
     "data": {
      "text/plain": [
       "['010', '1234', '1234', '30']"
      ]
     },
     "execution_count": 49,
     "metadata": {},
     "output_type": "execute_result"
    }
   ],
   "source": [
    "text = \"\"\"이름 : 김철수\n",
    "전화번호 : 010 - 1234 - 1234\n",
    "나이 : 30\n",
    "성별 : 남\"\"\"\n",
    "\n",
    "re.findall(\"\\d+\", text)"
   ]
  },
  {
   "cell_type": "code",
   "execution_count": 50,
   "id": "73ca2c64",
   "metadata": {},
   "outputs": [
    {
     "data": {
      "text/plain": [
       "[]"
      ]
     },
     "execution_count": 50,
     "metadata": {},
     "output_type": "execute_result"
    }
   ],
   "source": [
    "re.findall(\"\\d+\", \"문자열입니다.\")"
   ]
  },
  {
   "cell_type": "markdown",
   "id": "ec72e7ef",
   "metadata": {},
   "source": [
    "#### re.sub()\n",
    "- sub() 함수: 정규 표현식 패턴과 일치하는 문자열을 찾아 다른 문자열로 대체\n",
    "    - 영어문장에 각주 등과 같은 이유로 특수 문자가 섞여있는 경우, 특수 문자를 제거하고 싶다면 알파벳 외의 문자는 공백으로 처리하는 등의 용도"
   ]
  },
  {
   "cell_type": "code",
   "execution_count": 51,
   "id": "8a069e9f",
   "metadata": {},
   "outputs": [
    {
     "name": "stdout",
     "output_type": "stream",
     "text": [
      "Regular expression   A regular expression  regex or regexp     sometimes called a rational expression        is  in theoretical computer science and formal language theory  a sequence of characters that define a search pattern \n"
     ]
    }
   ],
   "source": [
    "text = \"Regular expression : A regular expression, regex or regexp[1] (sometimes called a rational expression)[2][3] is, in theoretical computer science and formal language theory, a sequence of characters that define a search pattern.\"\n",
    "\n",
    "preprocessed_text = re.sub('[^a-zA-Z]', ' ', text)\n",
    "print(preprocessed_text)"
   ]
  },
  {
   "cell_type": "markdown",
   "id": "cae0f349",
   "metadata": {},
   "source": [
    "#### 정규 표현식 텍스트 전처리 예제\n",
    "- \\s+ 는 공백을 찾아내는 정규식\n",
    "- 뒤에 붙는 +는 최소 1개 이상의 패턴을 찾아낸다는 의미\n",
    "- s는 공백을 의미하기 때문에 최소 1개 이상의 공백인 패턴을 찾아냄"
   ]
  },
  {
   "cell_type": "code",
   "execution_count": 52,
   "id": "3cdb7b8d",
   "metadata": {},
   "outputs": [],
   "source": [
    "text = \"\"\"100 John    PROF\n",
    "101 James   STUD\n",
    "102 Mac   STUD\"\"\""
   ]
  },
  {
   "cell_type": "code",
   "execution_count": 54,
   "id": "cf0834c4",
   "metadata": {},
   "outputs": [
    {
     "data": {
      "text/plain": [
       "['100', 'John', 'PROF', '101', 'James', 'STUD', '102', 'Mac', 'STUD']"
      ]
     },
     "execution_count": 54,
     "metadata": {},
     "output_type": "execute_result"
    }
   ],
   "source": [
    "re.split('\\s+', text)  "
   ]
  },
  {
   "cell_type": "markdown",
   "id": "c22153ac",
   "metadata": {},
   "source": [
    "- \\d+: \\d는 숫자에 해당되는 정규표현식\n",
    "- +를 붙이면 최소 1개 이상의 숫자에 해당하는 값을 의미"
   ]
  },
  {
   "cell_type": "code",
   "execution_count": 57,
   "id": "23867046",
   "metadata": {},
   "outputs": [
    {
     "data": {
      "text/plain": [
       "['100', '101', '102']"
      ]
     },
     "execution_count": 57,
     "metadata": {},
     "output_type": "execute_result"
    }
   ],
   "source": [
    "re.findall('\\d+',text)  "
   ]
  },
  {
   "cell_type": "code",
   "execution_count": 58,
   "id": "c17c6809",
   "metadata": {},
   "outputs": [
    {
     "data": {
      "text/plain": [
       "['1', '0', '0', '1', '0', '1', '1', '0', '2']"
      ]
     },
     "execution_count": 58,
     "metadata": {},
     "output_type": "execute_result"
    }
   ],
   "source": [
    "re.findall('\\d',text)  "
   ]
  },
  {
   "cell_type": "markdown",
   "id": "4c330063",
   "metadata": {},
   "source": [
    "- 텍스트로부터 대문자인 행의 값만 출력\n",
    "- 정규 표현식에 대문자를 기준으로 매치"
   ]
  },
  {
   "cell_type": "code",
   "execution_count": 59,
   "id": "81bc6c27",
   "metadata": {},
   "outputs": [
    {
     "data": {
      "text/plain": [
       "['J', 'P', 'R', 'O', 'F', 'J', 'S', 'T', 'U', 'D', 'M', 'S', 'T', 'U', 'D']"
      ]
     },
     "execution_count": 59,
     "metadata": {},
     "output_type": "execute_result"
    }
   ],
   "source": [
    "# 각각의 모든 대문자를 출력\n",
    "re.findall('[A-Z]',text)"
   ]
  },
  {
   "cell_type": "code",
   "execution_count": 60,
   "id": "28e57eb1",
   "metadata": {},
   "outputs": [
    {
     "data": {
      "text/plain": [
       "['PROF', 'STUD', 'STUD']"
      ]
     },
     "execution_count": 60,
     "metadata": {},
     "output_type": "execute_result"
    }
   ],
   "source": [
    "# 대문자가 연속적으로 4번 등장하는 경우라는 조건 추가\n",
    "re.findall('[A-Z]{4}',text)  "
   ]
  },
  {
   "cell_type": "code",
   "execution_count": 63,
   "id": "2c8668d1",
   "metadata": {
    "scrolled": true
   },
   "outputs": [
    {
     "data": {
      "text/plain": [
       "['J', 'PROF', 'J', 'STUD', 'M', 'STUD']"
      ]
     },
     "execution_count": 63,
     "metadata": {},
     "output_type": "execute_result"
    }
   ],
   "source": [
    "# 1개 이상의 대문자를 가지고 있는 경우 출력\n",
    "re.findall('[A-Z]+',text)"
   ]
  },
  {
   "cell_type": "code",
   "execution_count": 68,
   "id": "d23e91c8",
   "metadata": {},
   "outputs": [
    {
     "data": {
      "text/plain": [
       "['John', 'James', 'Mac']"
      ]
     },
     "execution_count": 68,
     "metadata": {},
     "output_type": "execute_result"
    }
   ],
   "source": [
    "# 대문자가 나오고, 소문자가 1개 이상 나오는 경우\n",
    "re.findall('[A-Z][a-z]+',text)"
   ]
  },
  {
   "cell_type": "code",
   "execution_count": 71,
   "id": "ac87e0ab",
   "metadata": {},
   "outputs": [
    {
     "data": {
      "text/plain": [
       "['Jo', 'Ja', 'Ma']"
      ]
     },
     "execution_count": 71,
     "metadata": {},
     "output_type": "execute_result"
    }
   ],
   "source": [
    "# 대문자가 나오고 소문자가 1개 나오게 출력\n",
    "re.findall('[A-Z]+[a-z]',text)"
   ]
  },
  {
   "cell_type": "markdown",
   "id": "4a08e0f7",
   "metadata": {},
   "source": [
    "### 정규 표현식을 이용한 토큰화\n",
    "- NLTK에서는 정규 표현식을 사용해서 단어 토큰화를 수행하는 RegexpTokenizer를 지원\n",
    "-  RegexpTokenizer()에서 괄호 안에 하나의 토큰으로 규정하기를 원하는 정규 표현식을 넣어서 토큰화를 수행"
   ]
  },
  {
   "cell_type": "code",
   "execution_count": 72,
   "id": "9c0381b2",
   "metadata": {},
   "outputs": [
    {
     "name": "stdout",
     "output_type": "stream",
     "text": [
      "['Don', 't', 'be', 'fooled', 'by', 'the', 'dark', 'sounding', 'name', 'Mr', 'Jone', 's', 'Orphanage', 'is', 'as', 'cheery', 'as', 'cheery', 'goes', 'for', 'a', 'pastry', 'shop']\n",
      "[\"Don't\", 'be', 'fooled', 'by', 'the', 'dark', 'sounding', 'name,', 'Mr.', \"Jone's\", 'Orphanage', 'is', 'as', 'cheery', 'as', 'cheery', 'goes', 'for', 'a', 'pastry', 'shop']\n"
     ]
    }
   ],
   "source": [
    "from nltk.tokenize import RegexpTokenizer\n",
    "\n",
    "text = \"Don't be fooled by the dark sounding name, Mr. Jone's Orphanage is as cheery as cheery goes for a pastry shop\"\n",
    "\n",
    "# \\w+ 는 문자 또는 숫자가 1개 이상인 경우\n",
    "tokenizer1 = RegexpTokenizer(\"[\\w]+\")\n",
    "# \\s+는 공백을 기준으로 토큰화\n",
    "# gaps=true는 해당 정규 표현식을 토큰으로 나누기 위한 기준으로 사용한다는 의미\n",
    "tokenizer2 = RegexpTokenizer(\"\\s+\", gaps=True)\n",
    "\n",
    "print(tokenizer1.tokenize(text))\n",
    "print(tokenizer2.tokenize(text))"
   ]
  },
  {
   "cell_type": "code",
   "execution_count": null,
   "id": "37576922",
   "metadata": {},
   "outputs": [],
   "source": []
  }
 ],
 "metadata": {
  "kernelspec": {
   "display_name": "Python 3 (ipykernel)",
   "language": "python",
   "name": "python3"
  },
  "language_info": {
   "codemirror_mode": {
    "name": "ipython",
    "version": 3
   },
   "file_extension": ".py",
   "mimetype": "text/x-python",
   "name": "python",
   "nbconvert_exporter": "python",
   "pygments_lexer": "ipython3",
   "version": "3.9.12"
  },
  "toc": {
   "base_numbering": 1,
   "nav_menu": {},
   "number_sections": true,
   "sideBar": true,
   "skip_h1_title": false,
   "title_cell": "Table of Contents",
   "title_sidebar": "Contents",
   "toc_cell": false,
   "toc_position": {},
   "toc_section_display": true,
   "toc_window_display": false
  }
 },
 "nbformat": 4,
 "nbformat_minor": 5
}
