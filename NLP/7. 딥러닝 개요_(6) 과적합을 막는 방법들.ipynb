{
 "cells": [
  {
   "cell_type": "markdown",
   "id": "e4f2cd71",
   "metadata": {},
   "source": [
    "## 과적합(Overfitting)을 막는 방법들\n",
    "- https://wikidocs.net/61374\n",
    "- 학습 데이터에 모델이 과적합되는 현상은 모델의 성능을 떨어트리는 주요 이슈\n",
    "- 모델의 과적합을 막을 수 있는 여러가지 방법"
   ]
  },
  {
   "cell_type": "markdown",
   "id": "3db59e9f",
   "metadata": {},
   "source": [
    "### 데이터의 양을 늘리기\n",
    "- 모델은 데이터의 양이 적을 경우, 노이즈까지 학습되기 때문에, 과적합 현상 발생 확률 증가\n",
    "- -> 데이터의 양을 늘릴 수록 모델은 데이터의 일반적인 패턴을 학습하여 과적합을 방지 가능\n",
    "- 데이터 증식 또는 증강(Data Augmentation): 기존의 데이터를 조금씩 변형&추가하여 데이터의 양을 늘리는 방식\n",
    "    - 이미지: 데이터 증식 많이 사용, 이미지 회전, 노이즈 추가, 일부분 수정 등\n",
    "    - 텍스트: 데이터 증강 많이 사용, 번역 후 재번역을 통해 새로운 데이터 생성 (=역번역(Back Translation))등\n",
    "    \n",
    "    "
   ]
  },
  {
   "cell_type": "markdown",
   "id": "a8567913",
   "metadata": {},
   "source": [
    "### 모델의 복잡도 줄이기\n",
    "- 인공 신경망의 복잡도: 은닉층(hidden layer)의 수나 매개변수의 수 등으로 결정\n",
    "    - 인공 신경망에서는 모델에 있는 매개변수들의 수 = 수용력(capacity)\n",
    "- 과적합 현상 포착시 인공 신경망 모델에 대해서 할 수 있는 한 가지 조치"
   ]
  },
  {
   "cell_type": "markdown",
   "id": "732dcb8e",
   "metadata": {},
   "source": [
    "### 가중치 규제(Regularization) 적용하기\n",
    "- 복잡한 모델이 간단한 모델보다 과적합될 가능성 높음\n",
    "- 간단한 모델은 적은 수의 매개변수를 가진 모델을 말함\n",
    "- 가중치 규제(Regularization): 복잡한 모델을 좀 더 간단하게 하는 방법\n",
    "    - L1 규제(L1노름): 가중치 w들의 절대값 합계를 비용 함수에 추가 <br>\n",
    "        - 기존 비용함수에 모든 가중치에 대해서  <math xmlns=\"http://www.w3.org/1998/Math/MathML\">\n",
    "  <mi>&#x3BB;</mi>\n",
    "  <mo>&#x2223;</mo>\n",
    "  <mi>w</mi>\n",
    "  <mo>&#x2223;</mo>\n",
    "</math> 를 더한 값을 비용함수로 함\n",
    "    - L2 규제(L2노름): 모든 가중치 w들의 제곱합을 비용 함수에 추가\n",
    "        - 기존 비용함수에 모든 가중치에 대해서 <math xmlns=\"http://www.w3.org/1998/Math/MathML\">\n",
    "  <mfrac>\n",
    "    <mn>1</mn>\n",
    "    <mn>2</mn>\n",
    "  </mfrac>\n",
    "  <mi>&#x3BB;</mi>\n",
    "  <msup>\n",
    "    <mi>w</mi>\n",
    "    <mn>2</mn>\n",
    "  </msup>\n",
    "</math> 를 더한 값을 비용함수로 함\n",
    "    - 람다는 규제의 강도를 정하는 하이퍼파라미터\n",
    "        - 람다가 크다면 모델이 훈련 데이터에 대해서 적합한 매개 변수를 찾는 것보다 규제를 위해 추가된 항들을 작게 유지하는 것을 우선한다는 의미 (람다값이 커질 수록 더한 값들이 커지기 때문에)\n",
    "- 두 식 모두 비용 함수를 최소화하기 위해서는 가중치 w들의 값이 작아져야 한다는 특징\n",
    "    - L1규제: \n",
    "        - 비용 함수가 최소가 되게 하는 가중치와 편향을 찾는 동시에\n",
    "        - 가중치들의 절대값의 합도 최소가 되어야함\n",
    "        - 가중치 w의 값들은 0또는 0에 가까이 작아져야 하므로, 어떤 특성들은 모델을 만들때 거의 사용되지 않게됨\n",
    "        - 어떤 특성들이 모델에 영향을 주고 있는지를 정확히 판단하고자 할 때 유용\n",
    "    - L2규제: \n",
    "        - 가중치들의 제곱을 최소화\n",
    "        - w의 값이 완전히 0이 되기보다는 0에 가까워지는 경향\n",
    "        - L1이 필요한 경우(특수한?경우)를 제외하고는 L2규제가 더 효과적\n",
    "        - 인공신경망에서 가중치 감쇠(weight decay)라고 부름"
   ]
  },
  {
   "cell_type": "markdown",
   "id": "32123c71",
   "metadata": {},
   "source": [
    "### 드롭아웃(Dropout)\n",
    "- 학습 과정에서 신경망의 일부를 사용하지 않는 방법\n",
    "    - 예) 드롭아웃의 비율: 0.5라면, 학습 과정마다 랜덤으로 절반의 뉴런을 사용하지 않고, 절반의 뉴런만을 사용\n",
    "- 드롭아웃은 신경망 학습 시에만 사용하고, 예측 시에는 사용하지 않는 것이 일반적\n",
    "    - 학습 시, 인공 신경망이 특정 뉴런 또는 특정 조합에 너무 의존적이게 되는 것을 방지\n",
    "    - 매번 랜덤 선택으로 뉴런들을 사용하지 않으므로 서로 다른 신경망들을 앙상블하여 사용하는 것 같은 효과"
   ]
  },
  {
   "cell_type": "code",
   "execution_count": 1,
   "id": "3feaafce",
   "metadata": {},
   "outputs": [],
   "source": [
    "# 케라스\n",
    "from tensorflow.keras.models import Sequential\n",
    "from tensorflow.keras.layers import Dropout, Dense\n",
    "\n",
    "max_words = 10000\n",
    "num_classes = 46\n",
    "\n",
    "model = Sequential()\n",
    "model.add(Dense(256, input_shape=(max_words,), activation='relu'))\n",
    "model.add(Dropout(0.5)) # 드롭아웃 추가. 비율은 50%\n",
    "model.add(Dense(128, activation='relu'))\n",
    "model.add(Dropout(0.5)) # 드롭아웃 추가. 비율은 50%\n",
    "model.add(Dense(num_classes, activation='softmax'))"
   ]
  }
 ],
 "metadata": {
  "kernelspec": {
   "display_name": "Python 3 (ipykernel)",
   "language": "python",
   "name": "python3"
  },
  "language_info": {
   "codemirror_mode": {
    "name": "ipython",
    "version": 3
   },
   "file_extension": ".py",
   "mimetype": "text/x-python",
   "name": "python",
   "nbconvert_exporter": "python",
   "pygments_lexer": "ipython3",
   "version": "3.9.12"
  },
  "toc": {
   "base_numbering": 1,
   "nav_menu": {},
   "number_sections": true,
   "sideBar": true,
   "skip_h1_title": false,
   "title_cell": "Table of Contents",
   "title_sidebar": "Contents",
   "toc_cell": false,
   "toc_position": {},
   "toc_section_display": true,
   "toc_window_display": false
  }
 },
 "nbformat": 4,
 "nbformat_minor": 5
}
