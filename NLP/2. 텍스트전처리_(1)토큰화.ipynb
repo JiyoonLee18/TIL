{
 "cells": [
  {
   "cell_type": "markdown",
   "id": "e3b72b09",
   "metadata": {},
   "source": [
    "# 텍스트 전처리\n",
    "- https://wikidocs.net/21694\n",
    "- 텍스트 전처리: 풀고자 하는 문제의 용도에 맞게 텍스트를 사전에 처리하는 작업\n",
    "- 텍스트를 제대로 전처리 하지 않으면 자연어 처리 기법들이 제대로 작동하지 않음"
   ]
  },
  {
   "cell_type": "markdown",
   "id": "87b98d9b",
   "metadata": {},
   "source": [
    "## 토큰화 Tokenization\n",
    "- 주어진 코퍼스(corpus)에서 토큰(token)이라 불리는 단위로 나누는 작업을 토큰화(tokenization)라고 함\n",
    "    - 코퍼스: (=말뭉치) 자연언어 연구를 위해 특정한 목적을 가지고 언어의 표본을 추출한 집합 (출처: https://ko.wikipedia.org/wiki/%EB%A7%90%EB%AD%89%EC%B9%98)\n",
    "- 토근의 단위가 상황에 따라 다르지만, 보통 의미있는 단위로 토큰을 정의함"
   ]
  },
  {
   "cell_type": "markdown",
   "id": "78f2f549",
   "metadata": {},
   "source": [
    "### 단어 토큰화 Word Tokenization\n",
    "- 단어 토큰화: 토큰의 기준을 단어로 하는 경우\n",
    "- 단어: 단어 단위 외에도 단어구, 의미를 갖는 문자열 등\n",
    "\n",
    "### 토큰화 중 생기는 선택의 순간\n",
    "- 토큰화 기준 생각해야 하는 경우 발생\n",
    "    - ex) 영어에서의 아포스트로피 (')가 들어있는 단어\n",
    "    - 기존 공개된 도구들을 사용했을 때, 결과가 사용자의 목적과 일치한다면, 해당 도구 사용 가능\n",
    "- NLTK: 영어 코퍼스를 토큰화하기 위한 도구 제공"
   ]
  },
  {
   "cell_type": "code",
   "execution_count": 1,
   "id": "2966d0dc",
   "metadata": {},
   "outputs": [],
   "source": [
    "from nltk.tokenize import word_tokenize\n",
    "from nltk.tokenize import WordPunctTokenizer\n",
    "from tensorflow.keras.preprocessing.text import text_to_word_sequence"
   ]
  },
  {
   "cell_type": "code",
   "execution_count": 9,
   "id": "86d102ec",
   "metadata": {},
   "outputs": [],
   "source": [
    "# import nltk\n",
    "# nltk.download('punkt')"
   ]
  },
  {
   "cell_type": "code",
   "execution_count": 11,
   "id": "5669b665",
   "metadata": {},
   "outputs": [
    {
     "name": "stdout",
     "output_type": "stream",
     "text": [
      "단어 토큰화1 : ['Do', \"n't\", 'be', 'fooled', 'by', 'the', 'dark', 'sounding', 'name', ',', 'Mr.', 'Jone', \"'s\", 'Orphanage', 'is', 'as', 'cheery', 'as', 'cheery', 'goes', 'for', 'a', 'pastry', 'shop', '.']\n"
     ]
    }
   ],
   "source": [
    "# word_tokenize\n",
    "print('단어 토큰화1 :',word_tokenize(\"Don't be fooled by the dark sounding name, Mr. Jone's Orphanage is as cheery as cheery goes for a pastry shop.\"))"
   ]
  },
  {
   "cell_type": "markdown",
   "id": "d819ace9",
   "metadata": {},
   "source": [
    "- NLTK word_tokenize\n",
    "    - Don't를 Do와 n't로 분리\n",
    "    - Jone's는 Jone과 's로 분리"
   ]
  },
  {
   "cell_type": "code",
   "execution_count": 12,
   "id": "f0ce0e53",
   "metadata": {},
   "outputs": [
    {
     "name": "stdout",
     "output_type": "stream",
     "text": [
      "단어 토큰화2 : ['Don', \"'\", 't', 'be', 'fooled', 'by', 'the', 'dark', 'sounding', 'name', ',', 'Mr', '.', 'Jone', \"'\", 's', 'Orphanage', 'is', 'as', 'cheery', 'as', 'cheery', 'goes', 'for', 'a', 'pastry', 'shop', '.']\n"
     ]
    }
   ],
   "source": [
    "# WordPunctTokenizer\n",
    "print('단어 토큰화2 :',WordPunctTokenizer().tokenize(\"Don't be fooled by the dark sounding name, Mr. Jone's Orphanage is as cheery as cheery goes for a pastry shop.\"))"
   ]
  },
  {
   "cell_type": "markdown",
   "id": "0614b48e",
   "metadata": {},
   "source": [
    "- NLTK WordPunctTokenizer\n",
    "    - 구두점을 별도로 분류하는 특징을 갖음\n",
    "    - Don't를 Don과 '와 t로 분리\n",
    "    - Jone's를 Jone과 '와 s로 분리"
   ]
  },
  {
   "cell_type": "code",
   "execution_count": 13,
   "id": "7c09812a",
   "metadata": {},
   "outputs": [
    {
     "name": "stdout",
     "output_type": "stream",
     "text": [
      "단어 토큰화3 : [\"don't\", 'be', 'fooled', 'by', 'the', 'dark', 'sounding', 'name', 'mr', \"jone's\", 'orphanage', 'is', 'as', 'cheery', 'as', 'cheery', 'goes', 'for', 'a', 'pastry', 'shop']\n"
     ]
    }
   ],
   "source": [
    "# text_to_word_sequence\n",
    "print('단어 토큰화3 :',text_to_word_sequence(\"Don't be fooled by the dark sounding name, Mr. Jone's Orphanage is as cheery as cheery goes for a pastry shop.\"))"
   ]
  },
  {
   "cell_type": "markdown",
   "id": "b1238752",
   "metadata": {},
   "source": [
    "- 케라스의 text_to_word_sequence\n",
    "    - 기본적으로 모든 알파벳을 소문자로 바꾸면서 마침표나 컴마, 느낌표 등의 구두점을 제거\n",
    "    - 하지만 don't나 jone's와 같은 경우 아포스트로피는 보존"
   ]
  },
  {
   "cell_type": "markdown",
   "id": "b0385ed7",
   "metadata": {},
   "source": [
    "### 토근화 고려 사항\n",
    "- 구두점이나 특수 문자를 단순 제외해서는 안됨\n",
    "    - 마침표와 같은 경우 문장의 경계를 알 수 있는데 도움이 되기 때문에\n",
    "    - 단어 자체에 구두점을 갖고 있는 경우가 있음 (ex. Ph.D) 등  \n",
    "- 줄임말과 단어 내에 띄어쓰기가 있는 경우\n",
    "    - 아포스트로피('): we're, I'm 등의 줄임말 (이 때 re와 m을 \"접어\"라고 함)\n",
    "    - 띄어쓰기가 있는 경우에도 하나의 토큰으로 봐야하는 경우 (ex. New York)\n",
    "- 표준 토큰화 예제\n",
    "    - 표준으로 쓰이고 있는 토큰화 방법 중 하나인 Penn Treebank Tokenization\n",
    "    - 규칙1. 하이푼으로 구성된 단어는 하나로 유지(예시에서의 home-based와 같이)\n",
    "    - 규칙2. doesn't와 같이 아포스트로피로 '접어'가 함께하는 단어는 분리함 (예시 참고)"
   ]
  },
  {
   "cell_type": "code",
   "execution_count": 14,
   "id": "051dce94",
   "metadata": {},
   "outputs": [
    {
     "name": "stdout",
     "output_type": "stream",
     "text": [
      "트리뱅크 워드토크나이저 : ['Starting', 'a', 'home-based', 'restaurant', 'may', 'be', 'an', 'ideal.', 'it', 'does', \"n't\", 'have', 'a', 'food', 'chain', 'or', 'restaurant', 'of', 'their', 'own', '.']\n"
     ]
    }
   ],
   "source": [
    "from nltk.tokenize import TreebankWordTokenizer\n",
    "tokenizer = TreebankWordTokenizer()\n",
    "text = \"Starting a home-based restaurant may be an ideal. it doesn't have a food chain or restaurant of their own.\"\n",
    "print('트리뱅크 워드토크나이저 :',tokenizer.tokenize(text))"
   ]
  },
  {
   "cell_type": "markdown",
   "id": "199a77a7",
   "metadata": {},
   "source": [
    "### 문장토큰화 Sentence Tokenization\n",
    "- 토큰의 단위가 문장일 경우\n",
    "- 문장 분류 Sentence segmentation 이라고도 부름\n",
    "- 마침표와 같은 구분자를 통해서도 문장을 구분하기는 어려움. (문장 마칠 때 이외에도 다양하게 쓰이기 때문에)"
   ]
  },
  {
   "cell_type": "code",
   "execution_count": 15,
   "id": "0a04213b",
   "metadata": {},
   "outputs": [
    {
     "name": "stdout",
     "output_type": "stream",
     "text": [
      "문장 토큰화1 : ['His barber kept his word.', 'But keeping such a huge secret to himself was driving him crazy.', 'Finally, the barber went up a mountain and almost to the edge of a cliff.', 'He dug a hole in the midst of some reeds.', 'He looked about, to make sure no one was near.']\n"
     ]
    }
   ],
   "source": [
    "# NLTK sent_tokenize\n",
    "from nltk.tokenize import sent_tokenize\n",
    "\n",
    "text = \"His barber kept his word. But keeping such a huge secret to himself was driving him crazy. Finally, the barber went up a mountain and almost to the edge of a cliff. He dug a hole in the midst of some reeds. He looked about, to make sure no one was near.\"\n",
    "print('문장 토큰화1 :',sent_tokenize(text))"
   ]
  },
  {
   "cell_type": "code",
   "execution_count": 16,
   "id": "fc321d3e",
   "metadata": {},
   "outputs": [
    {
     "name": "stdout",
     "output_type": "stream",
     "text": [
      "문장 토큰화2 : ['I am actively looking for Ph.D. students.', 'and you are a Ph.D student.']\n"
     ]
    }
   ],
   "source": [
    "text = \"I am actively looking for Ph.D. students. and you are a Ph.D student.\"\n",
    "print('문장 토큰화2 :',sent_tokenize(text))"
   ]
  },
  {
   "cell_type": "markdown",
   "id": "09d93b9e",
   "metadata": {},
   "source": [
    "- NLTK는 단순히 마침표를 구분자로 하여 문장을 구분하지 않기 때문에, Ph.D.를 문장 내의 단어로 인식 성공"
   ]
  },
  {
   "cell_type": "code",
   "execution_count": 19,
   "id": "2fc58acf",
   "metadata": {},
   "outputs": [],
   "source": [
    "# pip install KSS"
   ]
  },
  {
   "cell_type": "markdown",
   "id": "ae451767",
   "metadata": {},
   "source": [
    "- 한국어에 대한 문장 토큰화 도구\n",
    "    - 박상길님이 개발한 KSS (Korean Sentence Splitter)"
   ]
  },
  {
   "cell_type": "code",
   "execution_count": 18,
   "id": "c019cd95",
   "metadata": {},
   "outputs": [
    {
     "name": "stderr",
     "output_type": "stream",
     "text": [
      "[Kss]: Because there's no supported C++ morpheme analyzer, Kss will take pecab as a backend. :D\n",
      "For your information, Kss also supports mecab backend.\n",
      "We recommend you to install mecab or konlpy.tag.Mecab for faster execution of Kss.\n",
      "Please refer to following web sites for details:\n",
      "- mecab: https://cleancode-ws.tistory.com/97\n",
      "- konlpy.tag.Mecab: https://uwgdqo.tistory.com/363\n",
      "\n"
     ]
    },
    {
     "name": "stdout",
     "output_type": "stream",
     "text": [
      "한국어 문장 토큰화 : ['딥 러닝 자연어 처리가 재미있기는 합니다.', '그런데 문제는 영어보다 한국어로 할 때 너무 어렵습니다.', '이제 해보면 알걸요?']\n"
     ]
    }
   ],
   "source": [
    "import kss\n",
    "\n",
    "text = '딥 러닝 자연어 처리가 재미있기는 합니다. 그런데 문제는 영어보다 한국어로 할 때 너무 어렵습니다. 이제 해보면 알걸요?'\n",
    "print('한국어 문장 토큰화 :',kss.split_sentences(text))"
   ]
  },
  {
   "cell_type": "markdown",
   "id": "6abcf7d9",
   "metadata": {},
   "source": [
    "### 한국어에서의 토큰화의 어려움\n",
    "- 영어의 경우, New York과 같은 합성어나 he's 와 같이 줄임말에 대한 예외처리만 하면, 띄어쓰기 토큰화를 수행해도 단어 토큰화 잘 작동\n",
    "- 반면 한국어의 경우, 띄어쓰기만으로는 부족함\n",
    "    - 한국어의 경우, 띄어쓰기 단위가 되는 단위를 '어절'이라고 하는데, 어절 토큰화는 한국어 NLP에서 지양되고 있음\n",
    "    - 어절 토큰화 != 단어 토큰화\n",
    "    - 한국어가 영어와 다른 형태를 가지는 언어인 \"교착어\"이기 때문에 (교착어란 조사, 어미 등을 붙여서 말을 만드는 언어)"
   ]
  },
  {
   "cell_type": "markdown",
   "id": "b3e7c746",
   "metadata": {},
   "source": [
    "- 1) 교착어의 특성\n",
    "    - 영어와 달리 한국어에서는 '조사'라는 것이 존재\n",
    "        - 한국어에 그 (he, him)라는 주어나 목적어가 들어간 문장이 있으면, '그가','그에게','그를','그와' 와 같이 다양한 조사가 '그'라는 글자 뒤에 띄어쓰기 없이 바로 붙음\n",
    "        - 자연어처리를 하다보면 같은 단어임에도 서로 다른 조사가 붙어서 다른 단어로 인식되면 자연어 처리가 힘들어짐\n",
    "        - 따라서 한국어 NLP에서는 조사는 분리 필요\n",
    "    - 한국어 토큰화에서는 \"형태소 morpheme\"란 개념 이해 필요\n",
    "    - 형태소: 뜻을 가진 가장 작은 말의 단위. 두 가지 형태소 존재\n",
    "        - 자립 형태소: 접사, 어미, 조사와 상관없이 자립하여 사용할 수 있는 형태소. 그 자체로 단어가 됨. 체헌(명사, 대명사, 수사), 수식언(관형사, 부사), 감탄사 등이 있음\n",
    "        - 의존 형태소: 다른 형태소와 결합하여 사용되는 형태소. 접사, 어미, 조사, 어간 뜻함\n",
    "        - 문장 : 에디가 책을 읽었다\n",
    "        - 자립 형태소 : 에디, 책\n",
    "        - 의존 형태소 : -가, -을, 읽-, -었, -다"
   ]
  },
  {
   "cell_type": "markdown",
   "id": "0c7706e0",
   "metadata": {},
   "source": [
    "- 2) 한국어는 띄어쓰기가 영어보다 잘 지켜지지 않는다\n",
    "    - EX1) 제가이렇게띄어쓰기를전혀하지않고글을썼다고하더라도글을이해할수있습니다.\n",
    "    - EX2) Tobeornottobethatisthequestion\n",
    "    - 이에 띄어쓰기가 잘 안지켜지는 한국어 코퍼스가 많아짐"
   ]
  },
  {
   "cell_type": "markdown",
   "id": "eb86093d",
   "metadata": {},
   "source": [
    "### 품사 태깅 Part of speech tagging\n",
    "- 단어 토큰화 과정에서 각 단어가 어떤 품사로 쓰였는지를 구분\n",
    "- NLTK에서는 Penn Treebank POS Tags라는 기준 사용하여 품사 태깅\n",
    "    -  PRP는 인칭 대명사, VBP는 동사, RB는 부사, VBG는 현재부사, IN은 전치사, NNP는 고유 명사, NNS는 복수형 명사, CC는 접속사, DT는 관사를 의미"
   ]
  },
  {
   "cell_type": "code",
   "execution_count": 23,
   "id": "af5b84a8",
   "metadata": {},
   "outputs": [],
   "source": [
    "# nltk.download('averaged_perceptron_tagger')"
   ]
  },
  {
   "cell_type": "code",
   "execution_count": 24,
   "id": "5121893b",
   "metadata": {},
   "outputs": [
    {
     "name": "stdout",
     "output_type": "stream",
     "text": [
      "단어 토큰화 : ['I', 'am', 'actively', 'looking', 'for', 'Ph.D.', 'students', '.', 'and', 'you', 'are', 'a', 'Ph.D.', 'student', '.']\n",
      "품사 태깅 : [('I', 'PRP'), ('am', 'VBP'), ('actively', 'RB'), ('looking', 'VBG'), ('for', 'IN'), ('Ph.D.', 'NNP'), ('students', 'NNS'), ('.', '.'), ('and', 'CC'), ('you', 'PRP'), ('are', 'VBP'), ('a', 'DT'), ('Ph.D.', 'NNP'), ('student', 'NN'), ('.', '.')]\n"
     ]
    }
   ],
   "source": [
    "# NLTK Penn Treebank POS Tags\n",
    "from nltk.tokenize import word_tokenize\n",
    "from nltk.tag import pos_tag\n",
    "\n",
    "text = \"I am actively looking for Ph.D. students. and you are a Ph.D. student.\"\n",
    "tokenized_sentence = word_tokenize(text)\n",
    "\n",
    "print('단어 토큰화 :',tokenized_sentence)\n",
    "print('품사 태깅 :',pos_tag(tokenized_sentence))"
   ]
  },
  {
   "cell_type": "markdown",
   "id": "c0edfb55",
   "metadata": {},
   "source": [
    "- KoNLPy(코엔엘파이)\n",
    "    - 형태소 분석기로 Okt(Open Korea Text), 메캅(Mecab), 코모란(Komoran), 한나눔(Hannanum), 꼬꼬마(Kkma)가 있음\n",
    "    - Okt(Open Korea Text)\n",
    "        - 1) morphs : 형태소 추출\n",
    "        - 2) pos : 품사 태깅(Part-of-speech tagging)\n",
    "        - 3) nouns : 명사 추출\n",
    "    - 조사를 기본적으로 분리하고 있음을 확인가능\n",
    "    - 형태소 분석기의 선택은 사용하고자 하는 필요 용도에 어떤 형태소 분석기가 가장 적절한지를 판단하고 사용"
   ]
  },
  {
   "cell_type": "code",
   "execution_count": 27,
   "id": "fd22ed20",
   "metadata": {},
   "outputs": [],
   "source": [
    "# pip install konlpy"
   ]
  },
  {
   "cell_type": "code",
   "execution_count": 28,
   "id": "4c5704f9",
   "metadata": {},
   "outputs": [
    {
     "name": "stdout",
     "output_type": "stream",
     "text": [
      "OKT 형태소 분석 : ['열심히', '코딩', '한', '당신', ',', '연휴', '에는', '여행', '을', '가봐요']\n",
      "OKT 품사 태깅 : [('열심히', 'Adverb'), ('코딩', 'Noun'), ('한', 'Josa'), ('당신', 'Noun'), (',', 'Punctuation'), ('연휴', 'Noun'), ('에는', 'Josa'), ('여행', 'Noun'), ('을', 'Josa'), ('가봐요', 'Verb')]\n",
      "OKT 명사 추출 : ['코딩', '당신', '연휴', '여행']\n"
     ]
    }
   ],
   "source": [
    "# Konlpy의 Okt\n",
    "from konlpy.tag import Okt\n",
    "okt = Okt()\n",
    "\n",
    "print('OKT 형태소 분석 :',okt.morphs(\"열심히 코딩한 당신, 연휴에는 여행을 가봐요\"))\n",
    "print('OKT 품사 태깅 :',okt.pos(\"열심히 코딩한 당신, 연휴에는 여행을 가봐요\"))\n",
    "print('OKT 명사 추출 :',okt.nouns(\"열심히 코딩한 당신, 연휴에는 여행을 가봐요\")) "
   ]
  },
  {
   "cell_type": "code",
   "execution_count": 29,
   "id": "47893e22",
   "metadata": {},
   "outputs": [
    {
     "name": "stdout",
     "output_type": "stream",
     "text": [
      "꼬꼬마 형태소 분석 : ['열심히', '코딩', '하', 'ㄴ', '당신', ',', '연휴', '에', '는', '여행', '을', '가보', '아요']\n",
      "꼬꼬마 품사 태깅 : [('열심히', 'MAG'), ('코딩', 'NNG'), ('하', 'XSV'), ('ㄴ', 'ETD'), ('당신', 'NP'), (',', 'SP'), ('연휴', 'NNG'), ('에', 'JKM'), ('는', 'JX'), ('여행', 'NNG'), ('을', 'JKO'), ('가보', 'VV'), ('아요', 'EFN')]\n",
      "꼬꼬마 명사 추출 : ['코딩', '당신', '연휴', '여행']\n"
     ]
    }
   ],
   "source": [
    "# # Konlpy의 꼬꼬마\n",
    "from konlpy.tag import Kkma\n",
    "kkma = Kkma()\n",
    "print('꼬꼬마 형태소 분석 :',kkma.morphs(\"열심히 코딩한 당신, 연휴에는 여행을 가봐요\"))\n",
    "print('꼬꼬마 품사 태깅 :',kkma.pos(\"열심히 코딩한 당신, 연휴에는 여행을 가봐요\"))\n",
    "print('꼬꼬마 명사 추출 :',kkma.nouns(\"열심히 코딩한 당신, 연휴에는 여행을 가봐요\"))"
   ]
  }
 ],
 "metadata": {
  "kernelspec": {
   "display_name": "Python 3 (ipykernel)",
   "language": "python",
   "name": "python3"
  },
  "language_info": {
   "codemirror_mode": {
    "name": "ipython",
    "version": 3
   },
   "file_extension": ".py",
   "mimetype": "text/x-python",
   "name": "python",
   "nbconvert_exporter": "python",
   "pygments_lexer": "ipython3",
   "version": "3.9.12"
  },
  "toc": {
   "base_numbering": 1,
   "nav_menu": {},
   "number_sections": true,
   "sideBar": true,
   "skip_h1_title": false,
   "title_cell": "Table of Contents",
   "title_sidebar": "Contents",
   "toc_cell": false,
   "toc_position": {},
   "toc_section_display": true,
   "toc_window_display": false
  }
 },
 "nbformat": 4,
 "nbformat_minor": 5
}
