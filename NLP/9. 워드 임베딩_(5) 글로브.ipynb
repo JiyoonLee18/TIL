{
 "cells": [
  {
   "cell_type": "markdown",
   "id": "c2a002ed",
   "metadata": {},
   "source": [
    "## 글로브(GloVe)\n",
    "- https://wikidocs.net/22885\n",
    "- 카운트 기반과 예측 기반을 모두 사용하는 방법론, 임베딩 방법론\n",
    "- 기존의 카운트 기반의 LSA(Latent Semantic Analysis)와 예측 기반의 Word2Vec의 단점을 지적, 보완 목적\n",
    "- 실제로도 Word2Vec만큼 뛰어난 성능 (두 가지 전부 사용해보고 성능 좋은거 선택할것)"
   ]
  },
  {
   "cell_type": "markdown",
   "id": "641210d4",
   "metadata": {},
   "source": [
    "### 기존 방법론에 대한 비판\n",
    "- LSA: 전체적인 통계 정보를 입력으로 받아 차원을 축소(Truncated SVD)하여 잠재된 의미를 끌어내는 방법론  \n",
    "    - DTM이나 TF-IDF 행렬과 같이 각 문서에서의 각 단어의 빈도수를 카운트 한 행렬\n",
    "    - 단점: 단어 의미의 유추 작업(Analogy task)에는 성능 부족\n",
    "        - 왕:남자 = 여왕:? (정답은 여자)\n",
    "- Word2Vec: 실제값과 예측값에 대한 오차를 손실 함수를 통해 줄여나가며 학습하는 예측 기반의 방법론\n",
    "     - 임베딩 벡터가 윈도우 크기 내에서만 주변 단어를 고려 (전체적인 통계 정보를 반영x)"
   ]
  },
  {
   "attachments": {
    "image.png": {
     "image/png": "[encoded data removed]"
    }
   },
   "cell_type": "markdown",
   "id": "5bd66766",
   "metadata": {},
   "source": [
    "### 윈도우 기반 동시 등장 행렬(Window based Co-occurrence Matrix)\n",
    "- 단어의 동시 등장 행렬은 행과 열을 전체 단어 집합의 단어들로 구성\n",
    "- i 단어의 윈도우 크기(Window Size) 내에서 k 단어가 등장한 횟수를 i행 k열에 기재한 행렬\n",
    "- 예)\n",
    "    - I like deep learning\n",
    "    - I like NLP\n",
    "    - I enjoy flying\n",
    "    - 윈도우 크기=1\n",
    "    - 행렬을 전치해도 동일한 행렬이 된다는 특징\n",
    "    ![image.png](attachment:image.png)"
   ]
  },
  {
   "attachments": {
    "image.png": {
     "image/png": "[encoded data removed]"
    }
   },
   "cell_type": "markdown",
   "id": "4d147fde",
   "metadata": {},
   "source": [
    "### 동시 등장 확률(Co-occurrence Probability)\n",
    "- P(k|i): 특정 단어i의 전체 등장 횟수를 카운트하고, 특정 단어 i가 등장했을 때 어떤 단어 k가 등장한 횟수를 카운트하여 계산한 조건부 확률\n",
    "![image.png](attachment:image.png)"
   ]
  },
  {
   "cell_type": "markdown",
   "id": "e303baa2",
   "metadata": {},
   "source": [
    "- ice가 등장했을 때 solid(단단한)가 등장할 확률 0.00019은 steam(증기)이 등장했을 때 solid가 등장할 확률인 0.000022보다 약 8.9배 크다\n",
    "    - P(solid l ice) / P(solid l steam)를 계산한 값은 8.9\n",
    "- gas는 ice보다는 steam과 더 자주 등장\n",
    "    - P(gas l ice) / P(gas l steam)를 계산한 값은 1보다 훨씬 작은 값인 0.085\n",
    "- k가 water인 경우에는 solid와 steam 두 단어 모두와 동시 등장하는 경우가 많으므로 1에 가까운 값\n",
    "- k가 fasion인 경우에는 solid와 steam 두 단어 모두와 동시 등장하는 경우가 적으므로 1에 가까운 값"
   ]
  },
  {
   "cell_type": "markdown",
   "id": "f298935e",
   "metadata": {},
   "source": [
    "### 손실 함수(Loss function)\n",
    "- GloVE의 아이디어: 임베딩 된 중심 단어와 주변 단어 벡터의 내적이 전체 코퍼스에서의 동시 등장 확률이 되도록 만드는 것\n",
    "    - 즉, 이를 만족하도록 임베딩 벡터를 만드는 것이 목표\n",
    "- "
   ]
  },
  {
   "cell_type": "markdown",
   "id": "da68407f",
   "metadata": {},
   "source": [
    "### GloVe 훈련시키기"
   ]
  },
  {
   "cell_type": "code",
   "execution_count": 6,
   "id": "2c170849",
   "metadata": {},
   "outputs": [
    {
     "name": "stdout",
     "output_type": "stream",
     "text": [
      "Note: you may need to restart the kernel to use updated packages.\n"
     ]
    },
    {
     "name": "stderr",
     "output_type": "stream",
     "text": [
      "ERROR: Could not find a version that satisfies the requirement glove_python_binary (from versions: none)\n",
      "ERROR: No matching distribution found for glove_python_binary\n"
     ]
    }
   ],
   "source": [
    "pip install glove_python_binary"
   ]
  },
  {
   "cell_type": "code",
   "execution_count": 1,
   "id": "b272668f",
   "metadata": {},
   "outputs": [],
   "source": [
    "import pickle"
   ]
  },
  {
   "cell_type": "code",
   "execution_count": 2,
   "id": "5805f2d4",
   "metadata": {},
   "outputs": [],
   "source": [
    "with open(\"result.pickle\",\"rb\") as fi:\n",
    "    result = pickle.load(fi) #result 불러오기"
   ]
  },
  {
   "cell_type": "code",
   "execution_count": 11,
   "id": "e16dd805",
   "metadata": {},
   "outputs": [
    {
     "ename": "ModuleNotFoundError",
     "evalue": "No module named 'glove'",
     "output_type": "error",
     "traceback": [
      "\u001b[1;31m---------------------------------------------------------------------------\u001b[0m",
      "\u001b[1;31mModuleNotFoundError\u001b[0m                       Traceback (most recent call last)",
      "Input \u001b[1;32mIn [11]\u001b[0m, in \u001b[0;36m<cell line: 1>\u001b[1;34m()\u001b[0m\n\u001b[1;32m----> 1\u001b[0m \u001b[38;5;28;01mfrom\u001b[39;00m \u001b[38;5;21;01mglove\u001b[39;00m \u001b[38;5;28;01mimport\u001b[39;00m Corpus, Glove\n\u001b[0;32m      3\u001b[0m corpus \u001b[38;5;241m=\u001b[39m Corpus() \n\u001b[0;32m      5\u001b[0m \u001b[38;5;66;03m# 훈련 데이터로부터 GloVe에서 사용할 동시 등장 행렬 생성\u001b[39;00m\n",
      "\u001b[1;31mModuleNotFoundError\u001b[0m: No module named 'glove'"
     ]
    }
   ],
   "source": [
    "from glove import Corpus, Glove\n",
    "\n",
    "corpus = Corpus() \n",
    "\n",
    "# 훈련 데이터로부터 GloVe에서 사용할 동시 등장 행렬 생성\n",
    "corpus.fit(result, window=5)\n",
    "glove = Glove(no_components=100, learning_rate=0.05)\n",
    "\n",
    "# 학습에 이용할 쓰레드의 개수는 4로 설정, 에포크는 20.\n",
    "glove.fit(corpus.matrix, epochs=20, no_threads=4, verbose=True)\n",
    "glove.add_dictionary(corpus.dictionary)"
   ]
  },
  {
   "cell_type": "code",
   "execution_count": 9,
   "id": "7308094a",
   "metadata": {
    "scrolled": true
   },
   "outputs": [
    {
     "ename": "NameError",
     "evalue": "name 'glove' is not defined",
     "output_type": "error",
     "traceback": [
      "\u001b[1;31m---------------------------------------------------------------------------\u001b[0m",
      "\u001b[1;31mNameError\u001b[0m                                 Traceback (most recent call last)",
      "Input \u001b[1;32mIn [9]\u001b[0m, in \u001b[0;36m<cell line: 1>\u001b[1;34m()\u001b[0m\n\u001b[1;32m----> 1\u001b[0m \u001b[38;5;28mprint\u001b[39m(\u001b[43mglove\u001b[49m\u001b[38;5;241m.\u001b[39mmost_similar(\u001b[38;5;124m\"\u001b[39m\u001b[38;5;124mman\u001b[39m\u001b[38;5;124m\"\u001b[39m))\n",
      "\u001b[1;31mNameError\u001b[0m: name 'glove' is not defined"
     ]
    }
   ],
   "source": [
    "print(glove.most_similar(\"man\"))"
   ]
  },
  {
   "cell_type": "code",
   "execution_count": null,
   "id": "e49d673c",
   "metadata": {},
   "outputs": [],
   "source": [
    "print(glove.most_similar(\"boy\"))"
   ]
  },
  {
   "cell_type": "code",
   "execution_count": null,
   "id": "87cbe25d",
   "metadata": {},
   "outputs": [],
   "source": [
    "print(glove.most_similar(\"university\"))"
   ]
  }
 ],
 "metadata": {
  "kernelspec": {
   "display_name": "Python 3 (ipykernel)",
   "language": "python",
   "name": "python3"
  },
  "language_info": {
   "codemirror_mode": {
    "name": "ipython",
    "version": 3
   },
   "file_extension": ".py",
   "mimetype": "text/x-python",
   "name": "python",
   "nbconvert_exporter": "python",
   "pygments_lexer": "ipython3",
   "version": "3.9.12"
  },
  "toc": {
   "base_numbering": 1,
   "nav_menu": {},
   "number_sections": true,
   "sideBar": true,
   "skip_h1_title": false,
   "title_cell": "Table of Contents",
   "title_sidebar": "Contents",
   "toc_cell": false,
   "toc_position": {},
   "toc_section_display": true,
   "toc_window_display": false
  }
 },
 "nbformat": 4,
 "nbformat_minor": 5
}
