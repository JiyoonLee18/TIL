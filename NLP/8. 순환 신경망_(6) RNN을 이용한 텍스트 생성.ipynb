{
 "cells": [
  {
   "cell_type": "markdown",
   "id": "ba68540d",
   "metadata": {},
   "source": [
    "## RNN을 이용한 텍스트 생성(Text Generation using RNN)\n",
    "- https://wikidocs.net/45101\n",
    "- 다 대 일(many-to-one) 구조의 RNN을 사용하여 문맥을 반영해서 텍스트를 생성하는 모델"
   ]
  },
  {
   "attachments": {
    "image.png": {
     "image/png": "[encoded data removed]"
    }
   },
   "cell_type": "markdown",
   "id": "e63ef760",
   "metadata": {},
   "source": [
    "### RNN을 이용하여 텍스트 생성하기\n",
    "- 예)세 가지 문장\n",
    "    - 경마장에 있는 말이 뛰고 있다\n",
    "    - 그의 말이 법이다\n",
    "    - 가는 말이 고와야 오는 말이 곱다\n",
    "- 전체 문장의 앞의 단어들을 전부 고려하여 학습하도록 데이터를 재구성하면 -> 11개 샘플\n",
    "![image.png](attachment:image.png)"
   ]
  },
  {
   "cell_type": "markdown",
   "id": "6a9a56f5",
   "metadata": {},
   "source": [
    "#### 데이터에 대한 이해와 전처리"
   ]
  },
  {
   "cell_type": "code",
   "execution_count": 1,
   "id": "87f96b39",
   "metadata": {},
   "outputs": [],
   "source": [
    "import numpy as np\n",
    "from tensorflow.keras.preprocessing.text import Tokenizer\n",
    "from tensorflow.keras.preprocessing.sequence import pad_sequences\n",
    "from tensorflow.keras.utils import to_categorical"
   ]
  },
  {
   "cell_type": "code",
   "execution_count": 2,
   "id": "2b651e8d",
   "metadata": {},
   "outputs": [],
   "source": [
    "text = \"\"\"경마장에 있는 말이 뛰고 있다\\n\n",
    "그의 말이 법이다\\n\n",
    "가는 말이 고와야 오는 말이 곱다\\n\"\"\""
   ]
  },
  {
   "cell_type": "code",
   "execution_count": 6,
   "id": "917f8360",
   "metadata": {},
   "outputs": [
    {
     "name": "stdout",
     "output_type": "stream",
     "text": [
      "단어 집합의 크기 : 12\n"
     ]
    }
   ],
   "source": [
    "tokenizer = Tokenizer()\n",
    "tokenizer.fit_on_texts([text])\n",
    "vocab_size = len(tokenizer.word_index) + 1 # 패딩을 위한 0을 고려하여 +1\n",
    "print('단어 집합의 크기 : %d' % vocab_size)"
   ]
  },
  {
   "cell_type": "code",
   "execution_count": 7,
   "id": "0ed39267",
   "metadata": {},
   "outputs": [
    {
     "name": "stdout",
     "output_type": "stream",
     "text": [
      "{'말이': 1, '경마장에': 2, '있는': 3, '뛰고': 4, '있다': 5, '그의': 6, '법이다': 7, '가는': 8, '고와야': 9, '오는': 10, '곱다': 11}\n"
     ]
    }
   ],
   "source": [
    "# 각 단어와 단어에 부여된 정수 인덱스를 출력\n",
    "print(tokenizer.word_index)"
   ]
  },
  {
   "cell_type": "code",
   "execution_count": 8,
   "id": "e37e7e2e",
   "metadata": {},
   "outputs": [
    {
     "name": "stdout",
     "output_type": "stream",
     "text": [
      "학습에 사용할 샘플의 개수: 11\n"
     ]
    }
   ],
   "source": [
    "# 훈련 데이터 생성\n",
    "sequences = list()\n",
    "for line in text.split('\\n'): # 줄바꿈 문자를 기준으로 문장 토큰화\n",
    "    encoded = tokenizer.texts_to_sequences([line])[0]\n",
    "    for i in range(1, len(encoded)):\n",
    "        sequence = encoded[:i+1]\n",
    "        sequences.append(sequence)\n",
    "\n",
    "print('학습에 사용할 샘플의 개수: %d' % len(sequences))"
   ]
  },
  {
   "cell_type": "code",
   "execution_count": 9,
   "id": "0b3807a3",
   "metadata": {},
   "outputs": [
    {
     "name": "stdout",
     "output_type": "stream",
     "text": [
      "[[2, 3], [2, 3, 1], [2, 3, 1, 4], [2, 3, 1, 4, 5], [6, 1], [6, 1, 7], [8, 1], [8, 1, 9], [8, 1, 9, 10], [8, 1, 9, 10, 1], [8, 1, 9, 10, 1, 11]]\n"
     ]
    }
   ],
   "source": [
    "# 전체 샘플 출력\n",
    "print(sequences)"
   ]
  },
  {
   "cell_type": "markdown",
   "id": "b9a57de6",
   "metadata": {},
   "source": [
    "- 아직 레이블로 사용될 단어를 분리하지 않은 훈련 데이터\n",
    "    - [2, 3]은 [경마장에, 있는]\n",
    "    - [2, 3, 1]은 [경마장에, 있는, 말이]\n",
    "- 맨 우측에 있는 단어에 대해서만 레이블로 분리\n",
    "    - [2, 3]은 [경마장에, 있는] -> 있는 을 레이블로"
   ]
  },
  {
   "cell_type": "markdown",
   "id": "7849d81a",
   "metadata": {},
   "source": [
    "- 전체 샘플에 대해서 길이를 일치 시켜줌\n",
    "    - 가장 긴 샘플의 길이를 기준으로 진행"
   ]
  },
  {
   "cell_type": "code",
   "execution_count": 10,
   "id": "eeaf494e",
   "metadata": {},
   "outputs": [
    {
     "name": "stdout",
     "output_type": "stream",
     "text": [
      "샘플의 최대 길이 : 6\n"
     ]
    }
   ],
   "source": [
    "# 코드로도 확인 가능\n",
    "max_len = max(len(l) for l in sequences) # 모든 샘플에서 길이가 가장 긴 샘플의 길이 출력\n",
    "print('샘플의 최대 길이 : {}'.format(max_len))"
   ]
  },
  {
   "cell_type": "code",
   "execution_count": 12,
   "id": "6c94a017",
   "metadata": {},
   "outputs": [],
   "source": [
    "# 전체 샘플의 길이를 6으로 패딩\n",
    "# padding의 인자로 'pre'를 주면 길이가 6보다 짧은 샘플의 앞에 0으로 채움\n",
    "sequences = pad_sequences(sequences, maxlen=max_len, padding='pre')"
   ]
  },
  {
   "cell_type": "code",
   "execution_count": 13,
   "id": "aef596ce",
   "metadata": {},
   "outputs": [
    {
     "name": "stdout",
     "output_type": "stream",
     "text": [
      "[[ 0  0  0  0  2  3]\n",
      " [ 0  0  0  2  3  1]\n",
      " [ 0  0  2  3  1  4]\n",
      " [ 0  2  3  1  4  5]\n",
      " [ 0  0  0  0  6  1]\n",
      " [ 0  0  0  6  1  7]\n",
      " [ 0  0  0  0  8  1]\n",
      " [ 0  0  0  8  1  9]\n",
      " [ 0  0  8  1  9 10]\n",
      " [ 0  8  1  9 10  1]\n",
      " [ 8  1  9 10  1 11]]\n"
     ]
    }
   ],
   "source": [
    "print(sequences)"
   ]
  },
  {
   "cell_type": "code",
   "execution_count": 22,
   "id": "87da9a56",
   "metadata": {},
   "outputs": [],
   "source": [
    "# 마지막 단어를 레이블로 분리\n",
    "sequences = np.array(sequences)\n",
    "X = sequences[:,:-1]\n",
    "y = sequences[:,-1]"
   ]
  },
  {
   "cell_type": "code",
   "execution_count": 23,
   "id": "511c2c05",
   "metadata": {},
   "outputs": [
    {
     "data": {
      "text/plain": [
       "array([[ 0,  0,  0,  0,  2],\n",
       "       [ 0,  0,  0,  2,  3],\n",
       "       [ 0,  0,  2,  3,  1],\n",
       "       [ 0,  2,  3,  1,  4],\n",
       "       [ 0,  0,  0,  0,  6],\n",
       "       [ 0,  0,  0,  6,  1],\n",
       "       [ 0,  0,  0,  0,  8],\n",
       "       [ 0,  0,  0,  8,  1],\n",
       "       [ 0,  0,  8,  1,  9],\n",
       "       [ 0,  8,  1,  9, 10],\n",
       "       [ 8,  1,  9, 10,  1]])"
      ]
     },
     "execution_count": 23,
     "metadata": {},
     "output_type": "execute_result"
    }
   ],
   "source": [
    "X"
   ]
  },
  {
   "cell_type": "code",
   "execution_count": 24,
   "id": "8a1d8fe7",
   "metadata": {},
   "outputs": [
    {
     "data": {
      "text/plain": [
       "array([ 3,  1,  4,  5,  1,  7,  1,  9, 10,  1, 11])"
      ]
     },
     "execution_count": 24,
     "metadata": {},
     "output_type": "execute_result"
    }
   ],
   "source": [
    "y "
   ]
  },
  {
   "cell_type": "code",
   "execution_count": 25,
   "id": "f485aa1e",
   "metadata": {},
   "outputs": [
    {
     "data": {
      "text/plain": [
       "array([[0., 0., 0., 1., 0., 0., 0., 0., 0., 0., 0., 0.],\n",
       "       [0., 1., 0., 0., 0., 0., 0., 0., 0., 0., 0., 0.],\n",
       "       [0., 0., 0., 0., 1., 0., 0., 0., 0., 0., 0., 0.],\n",
       "       [0., 0., 0., 0., 0., 1., 0., 0., 0., 0., 0., 0.],\n",
       "       [0., 1., 0., 0., 0., 0., 0., 0., 0., 0., 0., 0.],\n",
       "       [0., 0., 0., 0., 0., 0., 0., 1., 0., 0., 0., 0.],\n",
       "       [0., 1., 0., 0., 0., 0., 0., 0., 0., 0., 0., 0.],\n",
       "       [0., 0., 0., 0., 0., 0., 0., 0., 0., 1., 0., 0.],\n",
       "       [0., 0., 0., 0., 0., 0., 0., 0., 0., 0., 1., 0.],\n",
       "       [0., 1., 0., 0., 0., 0., 0., 0., 0., 0., 0., 0.],\n",
       "       [0., 0., 0., 0., 0., 0., 0., 0., 0., 0., 0., 1.]], dtype=float32)"
      ]
     },
     "execution_count": 25,
     "metadata": {},
     "output_type": "execute_result"
    }
   ],
   "source": [
    "# 원-핫 인코딩 수행\n",
    "y = to_categorical(y, num_classes=vocab_size)\n",
    "y"
   ]
  },
  {
   "cell_type": "markdown",
   "id": "9090303c",
   "metadata": {},
   "source": [
    "#### 모델 설계하기"
   ]
  },
  {
   "cell_type": "code",
   "execution_count": 26,
   "id": "4b613d2d",
   "metadata": {},
   "outputs": [],
   "source": [
    "# RNN 모델에 데이터를 훈련\n",
    "from tensorflow.keras.models import Sequential\n",
    "from tensorflow.keras.layers import Embedding, Dense, SimpleRNN"
   ]
  },
  {
   "cell_type": "markdown",
   "id": "216b8e02",
   "metadata": {},
   "source": [
    "- 하이퍼파라미터인 임베딩 벡터의 차원은 10, 은닉 상태의 크기는 32\n",
    "- 다 대 일 구조의 RNN을 사용\n",
    "- 마지막 시점에서 모든 가능한 단어 중 하나의 단어를 예측하는 다중 클래스 분류 문제를 수행하는 모델\n",
    "    - 다중 클래스 분류 -> 활성화 함수: 소프트맥스\n",
    "    - 손실함수: 크로스엔트로피 함수\n",
    "- 에포크 200"
   ]
  },
  {
   "cell_type": "code",
   "execution_count": 27,
   "id": "7b3a6b76",
   "metadata": {},
   "outputs": [
    {
     "name": "stdout",
     "output_type": "stream",
     "text": [
      "Epoch 1/200\n",
      "1/1 - 1s - loss: 2.4914 - accuracy: 0.0000e+00 - 847ms/epoch - 847ms/step\n",
      "Epoch 2/200\n",
      "1/1 - 0s - loss: 2.4784 - accuracy: 0.0909 - 3ms/epoch - 3ms/step\n",
      "Epoch 3/200\n",
      "1/1 - 0s - loss: 2.4656 - accuracy: 0.2727 - 3ms/epoch - 3ms/step\n",
      "Epoch 4/200\n",
      "1/1 - 0s - loss: 2.4530 - accuracy: 0.3636 - 2ms/epoch - 2ms/step\n",
      "Epoch 5/200\n",
      "1/1 - 0s - loss: 2.4404 - accuracy: 0.5455 - 3ms/epoch - 3ms/step\n",
      "Epoch 6/200\n",
      "1/1 - 0s - loss: 2.4277 - accuracy: 0.5455 - 2ms/epoch - 2ms/step\n",
      "Epoch 7/200\n",
      "1/1 - 0s - loss: 2.4147 - accuracy: 0.5455 - 3ms/epoch - 3ms/step\n",
      "Epoch 8/200\n",
      "1/1 - 0s - loss: 2.4015 - accuracy: 0.5455 - 3ms/epoch - 3ms/step\n",
      "Epoch 9/200\n",
      "1/1 - 0s - loss: 2.3877 - accuracy: 0.5455 - 2ms/epoch - 2ms/step\n",
      "Epoch 10/200\n",
      "1/1 - 0s - loss: 2.3734 - accuracy: 0.5455 - 3ms/epoch - 3ms/step\n",
      "Epoch 11/200\n",
      "1/1 - 0s - loss: 2.3585 - accuracy: 0.5455 - 4ms/epoch - 4ms/step\n",
      "Epoch 12/200\n",
      "1/1 - 0s - loss: 2.3428 - accuracy: 0.5455 - 3ms/epoch - 3ms/step\n",
      "Epoch 13/200\n",
      "1/1 - 0s - loss: 2.3262 - accuracy: 0.5455 - 3ms/epoch - 3ms/step\n",
      "Epoch 14/200\n",
      "1/1 - 0s - loss: 2.3088 - accuracy: 0.5455 - 3ms/epoch - 3ms/step\n",
      "Epoch 15/200\n",
      "1/1 - 0s - loss: 2.2905 - accuracy: 0.5455 - 3ms/epoch - 3ms/step\n",
      "Epoch 16/200\n",
      "1/1 - 0s - loss: 2.2712 - accuracy: 0.5455 - 4ms/epoch - 4ms/step\n",
      "Epoch 17/200\n",
      "1/1 - 0s - loss: 2.2510 - accuracy: 0.5455 - 4ms/epoch - 4ms/step\n",
      "Epoch 18/200\n",
      "1/1 - 0s - loss: 2.2298 - accuracy: 0.5455 - 3ms/epoch - 3ms/step\n",
      "Epoch 19/200\n",
      "1/1 - 0s - loss: 2.2078 - accuracy: 0.4545 - 4ms/epoch - 4ms/step\n",
      "Epoch 20/200\n",
      "1/1 - 0s - loss: 2.1849 - accuracy: 0.4545 - 4ms/epoch - 4ms/step\n",
      "Epoch 21/200\n",
      "1/1 - 0s - loss: 2.1613 - accuracy: 0.4545 - 3ms/epoch - 3ms/step\n",
      "Epoch 22/200\n",
      "1/1 - 0s - loss: 2.1372 - accuracy: 0.4545 - 5ms/epoch - 5ms/step\n",
      "Epoch 23/200\n",
      "1/1 - 0s - loss: 2.1128 - accuracy: 0.4545 - 4ms/epoch - 4ms/step\n",
      "Epoch 24/200\n",
      "1/1 - 0s - loss: 2.0882 - accuracy: 0.3636 - 2ms/epoch - 2ms/step\n",
      "Epoch 25/200\n",
      "1/1 - 0s - loss: 2.0639 - accuracy: 0.3636 - 4ms/epoch - 4ms/step\n",
      "Epoch 26/200\n",
      "1/1 - 0s - loss: 2.0402 - accuracy: 0.3636 - 3ms/epoch - 3ms/step\n",
      "Epoch 27/200\n",
      "1/1 - 0s - loss: 2.0173 - accuracy: 0.3636 - 4ms/epoch - 4ms/step\n",
      "Epoch 28/200\n",
      "1/1 - 0s - loss: 1.9955 - accuracy: 0.3636 - 3ms/epoch - 3ms/step\n",
      "Epoch 29/200\n",
      "1/1 - 0s - loss: 1.9752 - accuracy: 0.3636 - 2ms/epoch - 2ms/step\n",
      "Epoch 30/200\n",
      "1/1 - 0s - loss: 1.9564 - accuracy: 0.3636 - 2ms/epoch - 2ms/step\n",
      "Epoch 31/200\n",
      "1/1 - 0s - loss: 1.9391 - accuracy: 0.3636 - 4ms/epoch - 4ms/step\n",
      "Epoch 32/200\n",
      "1/1 - 0s - loss: 1.9232 - accuracy: 0.3636 - 3ms/epoch - 3ms/step\n",
      "Epoch 33/200\n",
      "1/1 - 0s - loss: 1.9084 - accuracy: 0.3636 - 3ms/epoch - 3ms/step\n",
      "Epoch 34/200\n",
      "1/1 - 0s - loss: 1.8943 - accuracy: 0.3636 - 4ms/epoch - 4ms/step\n",
      "Epoch 35/200\n",
      "1/1 - 0s - loss: 1.8806 - accuracy: 0.3636 - 3ms/epoch - 3ms/step\n",
      "Epoch 36/200\n",
      "1/1 - 0s - loss: 1.8667 - accuracy: 0.3636 - 2ms/epoch - 2ms/step\n",
      "Epoch 37/200\n",
      "1/1 - 0s - loss: 1.8524 - accuracy: 0.3636 - 4ms/epoch - 4ms/step\n",
      "Epoch 38/200\n",
      "1/1 - 0s - loss: 1.8376 - accuracy: 0.3636 - 4ms/epoch - 4ms/step\n",
      "Epoch 39/200\n",
      "1/1 - 0s - loss: 1.8221 - accuracy: 0.3636 - 3ms/epoch - 3ms/step\n",
      "Epoch 40/200\n",
      "1/1 - 0s - loss: 1.8062 - accuracy: 0.3636 - 3ms/epoch - 3ms/step\n",
      "Epoch 41/200\n",
      "1/1 - 0s - loss: 1.7898 - accuracy: 0.3636 - 2ms/epoch - 2ms/step\n",
      "Epoch 42/200\n",
      "1/1 - 0s - loss: 1.7731 - accuracy: 0.3636 - 3ms/epoch - 3ms/step\n",
      "Epoch 43/200\n",
      "1/1 - 0s - loss: 1.7564 - accuracy: 0.3636 - 2ms/epoch - 2ms/step\n",
      "Epoch 44/200\n",
      "1/1 - 0s - loss: 1.7397 - accuracy: 0.3636 - 2ms/epoch - 2ms/step\n",
      "Epoch 45/200\n",
      "1/1 - 0s - loss: 1.7229 - accuracy: 0.3636 - 4ms/epoch - 4ms/step\n",
      "Epoch 46/200\n",
      "1/1 - 0s - loss: 1.7060 - accuracy: 0.3636 - 2ms/epoch - 2ms/step\n",
      "Epoch 47/200\n",
      "1/1 - 0s - loss: 1.6890 - accuracy: 0.3636 - 1ms/epoch - 1ms/step\n",
      "Epoch 48/200\n",
      "1/1 - 0s - loss: 1.6717 - accuracy: 0.3636 - 3ms/epoch - 3ms/step\n",
      "Epoch 49/200\n",
      "1/1 - 0s - loss: 1.6540 - accuracy: 0.3636 - 4ms/epoch - 4ms/step\n",
      "Epoch 50/200\n",
      "1/1 - 0s - loss: 1.6358 - accuracy: 0.3636 - 3ms/epoch - 3ms/step\n",
      "Epoch 51/200\n",
      "1/1 - 0s - loss: 1.6171 - accuracy: 0.3636 - 2ms/epoch - 2ms/step\n",
      "Epoch 52/200\n",
      "1/1 - 0s - loss: 1.5979 - accuracy: 0.4545 - 3ms/epoch - 3ms/step\n",
      "Epoch 53/200\n",
      "1/1 - 0s - loss: 1.5783 - accuracy: 0.4545 - 3ms/epoch - 3ms/step\n",
      "Epoch 54/200\n",
      "1/1 - 0s - loss: 1.5582 - accuracy: 0.5455 - 2ms/epoch - 2ms/step\n",
      "Epoch 55/200\n",
      "1/1 - 0s - loss: 1.5377 - accuracy: 0.5455 - 3ms/epoch - 3ms/step\n",
      "Epoch 56/200\n",
      "1/1 - 0s - loss: 1.5168 - accuracy: 0.5455 - 2ms/epoch - 2ms/step\n",
      "Epoch 57/200\n",
      "1/1 - 0s - loss: 1.4957 - accuracy: 0.5455 - 3ms/epoch - 3ms/step\n",
      "Epoch 58/200\n",
      "1/1 - 0s - loss: 1.4743 - accuracy: 0.5455 - 2ms/epoch - 2ms/step\n",
      "Epoch 59/200\n",
      "1/1 - 0s - loss: 1.4527 - accuracy: 0.5455 - 3ms/epoch - 3ms/step\n",
      "Epoch 60/200\n",
      "1/1 - 0s - loss: 1.4308 - accuracy: 0.5455 - 2ms/epoch - 2ms/step\n",
      "Epoch 61/200\n",
      "1/1 - 0s - loss: 1.4087 - accuracy: 0.6364 - 3ms/epoch - 3ms/step\n",
      "Epoch 62/200\n",
      "1/1 - 0s - loss: 1.3864 - accuracy: 0.6364 - 2ms/epoch - 2ms/step\n",
      "Epoch 63/200\n",
      "1/1 - 0s - loss: 1.3639 - accuracy: 0.6364 - 2ms/epoch - 2ms/step\n",
      "Epoch 64/200\n",
      "1/1 - 0s - loss: 1.3413 - accuracy: 0.6364 - 2ms/epoch - 2ms/step\n",
      "Epoch 65/200\n",
      "1/1 - 0s - loss: 1.3188 - accuracy: 0.6364 - 3ms/epoch - 3ms/step\n",
      "Epoch 66/200\n",
      "1/1 - 0s - loss: 1.2963 - accuracy: 0.6364 - 2ms/epoch - 2ms/step\n",
      "Epoch 67/200\n",
      "1/1 - 0s - loss: 1.2739 - accuracy: 0.6364 - 2ms/epoch - 2ms/step\n",
      "Epoch 68/200\n",
      "1/1 - 0s - loss: 1.2519 - accuracy: 0.6364 - 2ms/epoch - 2ms/step\n",
      "Epoch 69/200\n",
      "1/1 - 0s - loss: 1.2301 - accuracy: 0.6364 - 3ms/epoch - 3ms/step\n",
      "Epoch 70/200\n",
      "1/1 - 0s - loss: 1.2088 - accuracy: 0.6364 - 2ms/epoch - 2ms/step\n",
      "Epoch 71/200\n",
      "1/1 - 0s - loss: 1.1878 - accuracy: 0.6364 - 1000us/epoch - 1000us/step\n",
      "Epoch 72/200\n",
      "1/1 - 0s - loss: 1.1672 - accuracy: 0.6364 - 1ms/epoch - 1ms/step\n",
      "Epoch 73/200\n",
      "1/1 - 0s - loss: 1.1471 - accuracy: 0.6364 - 2ms/epoch - 2ms/step\n",
      "Epoch 74/200\n",
      "1/1 - 0s - loss: 1.1273 - accuracy: 0.6364 - 3ms/epoch - 3ms/step\n",
      "Epoch 75/200\n",
      "1/1 - 0s - loss: 1.1079 - accuracy: 0.6364 - 1ms/epoch - 1ms/step\n",
      "Epoch 76/200\n",
      "1/1 - 0s - loss: 1.0888 - accuracy: 0.6364 - 998us/epoch - 998us/step\n",
      "Epoch 77/200\n",
      "1/1 - 0s - loss: 1.0702 - accuracy: 0.6364 - 2ms/epoch - 2ms/step\n",
      "Epoch 78/200\n",
      "1/1 - 0s - loss: 1.0519 - accuracy: 0.6364 - 3ms/epoch - 3ms/step\n",
      "Epoch 79/200\n",
      "1/1 - 0s - loss: 1.0340 - accuracy: 0.6364 - 2ms/epoch - 2ms/step\n",
      "Epoch 80/200\n",
      "1/1 - 0s - loss: 1.0166 - accuracy: 0.6364 - 2ms/epoch - 2ms/step\n",
      "Epoch 81/200\n",
      "1/1 - 0s - loss: 0.9996 - accuracy: 0.6364 - 2ms/epoch - 2ms/step\n",
      "Epoch 82/200\n",
      "1/1 - 0s - loss: 0.9829 - accuracy: 0.6364 - 3ms/epoch - 3ms/step\n",
      "Epoch 83/200\n",
      "1/1 - 0s - loss: 0.9667 - accuracy: 0.6364 - 3ms/epoch - 3ms/step\n",
      "Epoch 84/200\n",
      "1/1 - 0s - loss: 0.9509 - accuracy: 0.6364 - 2ms/epoch - 2ms/step\n",
      "Epoch 85/200\n",
      "1/1 - 0s - loss: 0.9354 - accuracy: 0.7273 - 1ms/epoch - 1ms/step\n",
      "Epoch 86/200\n",
      "1/1 - 0s - loss: 0.9202 - accuracy: 0.7273 - 2ms/epoch - 2ms/step\n",
      "Epoch 87/200\n",
      "1/1 - 0s - loss: 0.9052 - accuracy: 0.7273 - 3ms/epoch - 3ms/step\n",
      "Epoch 88/200\n",
      "1/1 - 0s - loss: 0.8906 - accuracy: 0.7273 - 2ms/epoch - 2ms/step\n",
      "Epoch 89/200\n",
      "1/1 - 0s - loss: 0.8763 - accuracy: 0.7273 - 999us/epoch - 999us/step\n",
      "Epoch 90/200\n",
      "1/1 - 0s - loss: 0.8622 - accuracy: 0.7273 - 3ms/epoch - 3ms/step\n",
      "Epoch 91/200\n",
      "1/1 - 0s - loss: 0.8484 - accuracy: 0.7273 - 3ms/epoch - 3ms/step\n",
      "Epoch 92/200\n",
      "1/1 - 0s - loss: 0.8349 - accuracy: 0.7273 - 2ms/epoch - 2ms/step\n",
      "Epoch 93/200\n",
      "1/1 - 0s - loss: 0.8216 - accuracy: 0.7273 - 2ms/epoch - 2ms/step\n",
      "Epoch 94/200\n",
      "1/1 - 0s - loss: 0.8085 - accuracy: 0.7273 - 2ms/epoch - 2ms/step\n",
      "Epoch 95/200\n",
      "1/1 - 0s - loss: 0.7957 - accuracy: 0.7273 - 2ms/epoch - 2ms/step\n",
      "Epoch 96/200\n",
      "1/1 - 0s - loss: 0.7830 - accuracy: 0.7273 - 3ms/epoch - 3ms/step\n",
      "Epoch 97/200\n",
      "1/1 - 0s - loss: 0.7706 - accuracy: 0.8182 - 1ms/epoch - 1ms/step\n",
      "Epoch 98/200\n",
      "1/1 - 0s - loss: 0.7584 - accuracy: 0.8182 - 2ms/epoch - 2ms/step\n",
      "Epoch 99/200\n",
      "1/1 - 0s - loss: 0.7464 - accuracy: 0.8182 - 3ms/epoch - 3ms/step\n",
      "Epoch 100/200\n",
      "1/1 - 0s - loss: 0.7346 - accuracy: 0.8182 - 3ms/epoch - 3ms/step\n",
      "Epoch 101/200\n",
      "1/1 - 0s - loss: 0.7230 - accuracy: 0.8182 - 1ms/epoch - 1ms/step\n",
      "Epoch 102/200\n",
      "1/1 - 0s - loss: 0.7116 - accuracy: 0.8182 - 1ms/epoch - 1ms/step\n",
      "Epoch 103/200\n",
      "1/1 - 0s - loss: 0.7004 - accuracy: 0.8182 - 2ms/epoch - 2ms/step\n",
      "Epoch 104/200\n",
      "1/1 - 0s - loss: 0.6893 - accuracy: 0.8182 - 3ms/epoch - 3ms/step\n"
     ]
    },
    {
     "name": "stdout",
     "output_type": "stream",
     "text": [
      "Epoch 105/200\n",
      "1/1 - 0s - loss: 0.6785 - accuracy: 0.8182 - 2ms/epoch - 2ms/step\n",
      "Epoch 106/200\n",
      "1/1 - 0s - loss: 0.6678 - accuracy: 0.8182 - 2ms/epoch - 2ms/step\n",
      "Epoch 107/200\n",
      "1/1 - 0s - loss: 0.6572 - accuracy: 0.8182 - 3ms/epoch - 3ms/step\n",
      "Epoch 108/200\n",
      "1/1 - 0s - loss: 0.6469 - accuracy: 0.9091 - 2ms/epoch - 2ms/step\n",
      "Epoch 109/200\n",
      "1/1 - 0s - loss: 0.6367 - accuracy: 0.9091 - 3ms/epoch - 3ms/step\n",
      "Epoch 110/200\n",
      "1/1 - 0s - loss: 0.6266 - accuracy: 0.9091 - 2ms/epoch - 2ms/step\n",
      "Epoch 111/200\n",
      "1/1 - 0s - loss: 0.6168 - accuracy: 0.9091 - 2ms/epoch - 2ms/step\n",
      "Epoch 112/200\n",
      "1/1 - 0s - loss: 0.6070 - accuracy: 0.9091 - 2ms/epoch - 2ms/step\n",
      "Epoch 113/200\n",
      "1/1 - 0s - loss: 0.5975 - accuracy: 0.9091 - 2ms/epoch - 2ms/step\n",
      "Epoch 114/200\n",
      "1/1 - 0s - loss: 0.5880 - accuracy: 0.9091 - 2ms/epoch - 2ms/step\n",
      "Epoch 115/200\n",
      "1/1 - 0s - loss: 0.5788 - accuracy: 0.9091 - 1ms/epoch - 1ms/step\n",
      "Epoch 116/200\n",
      "1/1 - 0s - loss: 0.5697 - accuracy: 0.9091 - 2ms/epoch - 2ms/step\n",
      "Epoch 117/200\n",
      "1/1 - 0s - loss: 0.5607 - accuracy: 0.9091 - 2ms/epoch - 2ms/step\n",
      "Epoch 118/200\n",
      "1/1 - 0s - loss: 0.5519 - accuracy: 0.9091 - 2ms/epoch - 2ms/step\n",
      "Epoch 119/200\n",
      "1/1 - 0s - loss: 0.5432 - accuracy: 0.9091 - 2ms/epoch - 2ms/step\n",
      "Epoch 120/200\n",
      "1/1 - 0s - loss: 0.5346 - accuracy: 0.9091 - 3ms/epoch - 3ms/step\n",
      "Epoch 121/200\n",
      "1/1 - 0s - loss: 0.5262 - accuracy: 0.9091 - 3ms/epoch - 3ms/step\n",
      "Epoch 122/200\n",
      "1/1 - 0s - loss: 0.5179 - accuracy: 0.9091 - 2ms/epoch - 2ms/step\n",
      "Epoch 123/200\n",
      "1/1 - 0s - loss: 0.5098 - accuracy: 0.9091 - 2ms/epoch - 2ms/step\n",
      "Epoch 124/200\n",
      "1/1 - 0s - loss: 0.5018 - accuracy: 0.9091 - 2ms/epoch - 2ms/step\n",
      "Epoch 125/200\n",
      "1/1 - 0s - loss: 0.4939 - accuracy: 0.9091 - 2ms/epoch - 2ms/step\n",
      "Epoch 126/200\n",
      "1/1 - 0s - loss: 0.4861 - accuracy: 0.9091 - 3ms/epoch - 3ms/step\n",
      "Epoch 127/200\n",
      "1/1 - 0s - loss: 0.4785 - accuracy: 0.9091 - 3ms/epoch - 3ms/step\n",
      "Epoch 128/200\n",
      "1/1 - 0s - loss: 0.4709 - accuracy: 0.9091 - 2ms/epoch - 2ms/step\n",
      "Epoch 129/200\n",
      "1/1 - 0s - loss: 0.4635 - accuracy: 0.9091 - 1ms/epoch - 1ms/step\n",
      "Epoch 130/200\n",
      "1/1 - 0s - loss: 0.4562 - accuracy: 0.9091 - 3ms/epoch - 3ms/step\n",
      "Epoch 131/200\n",
      "1/1 - 0s - loss: 0.4490 - accuracy: 0.9091 - 1ms/epoch - 1ms/step\n",
      "Epoch 132/200\n",
      "1/1 - 0s - loss: 0.4419 - accuracy: 0.9091 - 2ms/epoch - 2ms/step\n",
      "Epoch 133/200\n",
      "1/1 - 0s - loss: 0.4349 - accuracy: 0.9091 - 1ms/epoch - 1ms/step\n",
      "Epoch 134/200\n",
      "1/1 - 0s - loss: 0.4280 - accuracy: 0.9091 - 1ms/epoch - 1ms/step\n",
      "Epoch 135/200\n",
      "1/1 - 0s - loss: 0.4212 - accuracy: 0.9091 - 4ms/epoch - 4ms/step\n",
      "Epoch 136/200\n",
      "1/1 - 0s - loss: 0.4145 - accuracy: 1.0000 - 2ms/epoch - 2ms/step\n",
      "Epoch 137/200\n",
      "1/1 - 0s - loss: 0.4079 - accuracy: 1.0000 - 2ms/epoch - 2ms/step\n",
      "Epoch 138/200\n",
      "1/1 - 0s - loss: 0.4014 - accuracy: 1.0000 - 3ms/epoch - 3ms/step\n",
      "Epoch 139/200\n",
      "1/1 - 0s - loss: 0.3950 - accuracy: 1.0000 - 2ms/epoch - 2ms/step\n",
      "Epoch 140/200\n",
      "1/1 - 0s - loss: 0.3887 - accuracy: 1.0000 - 1000us/epoch - 1000us/step\n",
      "Epoch 141/200\n",
      "1/1 - 0s - loss: 0.3824 - accuracy: 1.0000 - 3ms/epoch - 3ms/step\n",
      "Epoch 142/200\n",
      "1/1 - 0s - loss: 0.3763 - accuracy: 1.0000 - 2ms/epoch - 2ms/step\n",
      "Epoch 143/200\n",
      "1/1 - 0s - loss: 0.3702 - accuracy: 1.0000 - 3ms/epoch - 3ms/step\n",
      "Epoch 144/200\n",
      "1/1 - 0s - loss: 0.3642 - accuracy: 1.0000 - 2ms/epoch - 2ms/step\n",
      "Epoch 145/200\n",
      "1/1 - 0s - loss: 0.3582 - accuracy: 1.0000 - 2ms/epoch - 2ms/step\n",
      "Epoch 146/200\n",
      "1/1 - 0s - loss: 0.3524 - accuracy: 1.0000 - 1ms/epoch - 1ms/step\n",
      "Epoch 147/200\n",
      "1/1 - 0s - loss: 0.3466 - accuracy: 1.0000 - 3ms/epoch - 3ms/step\n",
      "Epoch 148/200\n",
      "1/1 - 0s - loss: 0.3410 - accuracy: 1.0000 - 2ms/epoch - 2ms/step\n",
      "Epoch 149/200\n",
      "1/1 - 0s - loss: 0.3354 - accuracy: 1.0000 - 3ms/epoch - 3ms/step\n",
      "Epoch 150/200\n",
      "1/1 - 0s - loss: 0.3298 - accuracy: 1.0000 - 2ms/epoch - 2ms/step\n",
      "Epoch 151/200\n",
      "1/1 - 0s - loss: 0.3244 - accuracy: 1.0000 - 2ms/epoch - 2ms/step\n",
      "Epoch 152/200\n",
      "1/1 - 0s - loss: 0.3190 - accuracy: 1.0000 - 3ms/epoch - 3ms/step\n",
      "Epoch 153/200\n",
      "1/1 - 0s - loss: 0.3137 - accuracy: 1.0000 - 3ms/epoch - 3ms/step\n",
      "Epoch 154/200\n",
      "1/1 - 0s - loss: 0.3085 - accuracy: 1.0000 - 2ms/epoch - 2ms/step\n",
      "Epoch 155/200\n",
      "1/1 - 0s - loss: 0.3033 - accuracy: 1.0000 - 2ms/epoch - 2ms/step\n",
      "Epoch 156/200\n",
      "1/1 - 0s - loss: 0.2982 - accuracy: 1.0000 - 2ms/epoch - 2ms/step\n",
      "Epoch 157/200\n",
      "1/1 - 0s - loss: 0.2932 - accuracy: 1.0000 - 3ms/epoch - 3ms/step\n",
      "Epoch 158/200\n",
      "1/1 - 0s - loss: 0.2882 - accuracy: 1.0000 - 2ms/epoch - 2ms/step\n",
      "Epoch 159/200\n",
      "1/1 - 0s - loss: 0.2834 - accuracy: 1.0000 - 2ms/epoch - 2ms/step\n",
      "Epoch 160/200\n",
      "1/1 - 0s - loss: 0.2785 - accuracy: 1.0000 - 2ms/epoch - 2ms/step\n",
      "Epoch 161/200\n",
      "1/1 - 0s - loss: 0.2738 - accuracy: 1.0000 - 4ms/epoch - 4ms/step\n",
      "Epoch 162/200\n",
      "1/1 - 0s - loss: 0.2691 - accuracy: 1.0000 - 1ms/epoch - 1ms/step\n",
      "Epoch 163/200\n",
      "1/1 - 0s - loss: 0.2645 - accuracy: 1.0000 - 1ms/epoch - 1ms/step\n",
      "Epoch 164/200\n",
      "1/1 - 0s - loss: 0.2600 - accuracy: 1.0000 - 2ms/epoch - 2ms/step\n",
      "Epoch 165/200\n",
      "1/1 - 0s - loss: 0.2555 - accuracy: 1.0000 - 2ms/epoch - 2ms/step\n",
      "Epoch 166/200\n",
      "1/1 - 0s - loss: 0.2510 - accuracy: 1.0000 - 3ms/epoch - 3ms/step\n",
      "Epoch 167/200\n",
      "1/1 - 0s - loss: 0.2467 - accuracy: 1.0000 - 2ms/epoch - 2ms/step\n",
      "Epoch 168/200\n",
      "1/1 - 0s - loss: 0.2424 - accuracy: 1.0000 - 2ms/epoch - 2ms/step\n",
      "Epoch 169/200\n",
      "1/1 - 0s - loss: 0.2381 - accuracy: 1.0000 - 2ms/epoch - 2ms/step\n",
      "Epoch 170/200\n",
      "1/1 - 0s - loss: 0.2340 - accuracy: 1.0000 - 3ms/epoch - 3ms/step\n",
      "Epoch 171/200\n",
      "1/1 - 0s - loss: 0.2298 - accuracy: 1.0000 - 3ms/epoch - 3ms/step\n",
      "Epoch 172/200\n",
      "1/1 - 0s - loss: 0.2258 - accuracy: 1.0000 - 2ms/epoch - 2ms/step\n",
      "Epoch 173/200\n",
      "1/1 - 0s - loss: 0.2218 - accuracy: 1.0000 - 2ms/epoch - 2ms/step\n",
      "Epoch 174/200\n",
      "1/1 - 0s - loss: 0.2178 - accuracy: 1.0000 - 2ms/epoch - 2ms/step\n",
      "Epoch 175/200\n",
      "1/1 - 0s - loss: 0.2139 - accuracy: 1.0000 - 2ms/epoch - 2ms/step\n",
      "Epoch 176/200\n",
      "1/1 - 0s - loss: 0.2101 - accuracy: 1.0000 - 997us/epoch - 997us/step\n",
      "Epoch 177/200\n",
      "1/1 - 0s - loss: 0.2063 - accuracy: 1.0000 - 2ms/epoch - 2ms/step\n",
      "Epoch 178/200\n",
      "1/1 - 0s - loss: 0.2026 - accuracy: 1.0000 - 2ms/epoch - 2ms/step\n",
      "Epoch 179/200\n",
      "1/1 - 0s - loss: 0.1989 - accuracy: 1.0000 - 3ms/epoch - 3ms/step\n",
      "Epoch 180/200\n",
      "1/1 - 0s - loss: 0.1953 - accuracy: 1.0000 - 2ms/epoch - 2ms/step\n",
      "Epoch 181/200\n",
      "1/1 - 0s - loss: 0.1917 - accuracy: 1.0000 - 2ms/epoch - 2ms/step\n",
      "Epoch 182/200\n",
      "1/1 - 0s - loss: 0.1882 - accuracy: 1.0000 - 2ms/epoch - 2ms/step\n",
      "Epoch 183/200\n",
      "1/1 - 0s - loss: 0.1847 - accuracy: 1.0000 - 2ms/epoch - 2ms/step\n",
      "Epoch 184/200\n",
      "1/1 - 0s - loss: 0.1813 - accuracy: 1.0000 - 3ms/epoch - 3ms/step\n",
      "Epoch 185/200\n",
      "1/1 - 0s - loss: 0.1780 - accuracy: 1.0000 - 2ms/epoch - 2ms/step\n",
      "Epoch 186/200\n",
      "1/1 - 0s - loss: 0.1747 - accuracy: 1.0000 - 3ms/epoch - 3ms/step\n",
      "Epoch 187/200\n",
      "1/1 - 0s - loss: 0.1714 - accuracy: 1.0000 - 3ms/epoch - 3ms/step\n",
      "Epoch 188/200\n",
      "1/1 - 0s - loss: 0.1682 - accuracy: 1.0000 - 3ms/epoch - 3ms/step\n",
      "Epoch 189/200\n",
      "1/1 - 0s - loss: 0.1651 - accuracy: 1.0000 - 2ms/epoch - 2ms/step\n",
      "Epoch 190/200\n",
      "1/1 - 0s - loss: 0.1620 - accuracy: 1.0000 - 2ms/epoch - 2ms/step\n",
      "Epoch 191/200\n",
      "1/1 - 0s - loss: 0.1589 - accuracy: 1.0000 - 2ms/epoch - 2ms/step\n",
      "Epoch 192/200\n",
      "1/1 - 0s - loss: 0.1559 - accuracy: 1.0000 - 3ms/epoch - 3ms/step\n",
      "Epoch 193/200\n",
      "1/1 - 0s - loss: 0.1530 - accuracy: 1.0000 - 2ms/epoch - 2ms/step\n",
      "Epoch 194/200\n",
      "1/1 - 0s - loss: 0.1501 - accuracy: 1.0000 - 2ms/epoch - 2ms/step\n",
      "Epoch 195/200\n",
      "1/1 - 0s - loss: 0.1472 - accuracy: 1.0000 - 3ms/epoch - 3ms/step\n",
      "Epoch 196/200\n",
      "1/1 - 0s - loss: 0.1445 - accuracy: 1.0000 - 3ms/epoch - 3ms/step\n",
      "Epoch 197/200\n",
      "1/1 - 0s - loss: 0.1417 - accuracy: 1.0000 - 3ms/epoch - 3ms/step\n",
      "Epoch 198/200\n",
      "1/1 - 0s - loss: 0.1390 - accuracy: 1.0000 - 3ms/epoch - 3ms/step\n",
      "Epoch 199/200\n",
      "1/1 - 0s - loss: 0.1364 - accuracy: 1.0000 - 1ms/epoch - 1ms/step\n",
      "Epoch 200/200\n",
      "1/1 - 0s - loss: 0.1338 - accuracy: 1.0000 - 1ms/epoch - 1ms/step\n"
     ]
    },
    {
     "data": {
      "text/plain": [
       "<keras.callbacks.History at 0x20e8f6b17f0>"
      ]
     },
     "execution_count": 27,
     "metadata": {},
     "output_type": "execute_result"
    }
   ],
   "source": [
    "embedding_dim = 10\n",
    "hidden_units = 32\n",
    "\n",
    "model = Sequential()\n",
    "# 전결합층(Fully Connected Layer)을 출력층으로 단어 집합 크기만큼의 뉴런을 배치하여 모델을 설계\n",
    "model.add(Embedding(vocab_size, embedding_dim))\n",
    "model.add(SimpleRNN(hidden_units))\n",
    "model.add(Dense(vocab_size, activation='softmax'))\n",
    "model.compile(loss='categorical_crossentropy', optimizer='adam', metrics=['accuracy'])\n",
    "model.fit(X, y, epochs=200, verbose=2)"
   ]
  },
  {
   "cell_type": "code",
   "execution_count": 28,
   "id": "d1c9aacf",
   "metadata": {},
   "outputs": [],
   "source": [
    "# 문장 생성하는 함수\n",
    "def sentence_generation(model, tokenizer, current_word, n): # 모델, 토크나이저, 현재 단어, 반복할 횟수\n",
    "    init_word = current_word\n",
    "    sentence = ''\n",
    "\n",
    "    # n번 반복\n",
    "    for _ in range(n):\n",
    "        # 현재 단어에 대한 정수 인코딩과 패딩\n",
    "        encoded = tokenizer.texts_to_sequences([current_word])[0]\n",
    "        encoded = pad_sequences([encoded], maxlen=5, padding='pre')\n",
    "        # 입력한 X(현재 단어)에 대해서 Y를 예측하고 Y(예측한 단어)를 result에 저장.\n",
    "        result = model.predict(encoded, verbose=0)\n",
    "        result = np.argmax(result, axis=1)\n",
    "\n",
    "        for word, index in tokenizer.word_index.items(): \n",
    "            # 만약 예측한 단어와 인덱스와 동일한 단어가 있다면 break\n",
    "            if index == result:\n",
    "                break\n",
    "\n",
    "        # 현재 단어 + ' ' + 예측 단어를 현재 단어로 변경\n",
    "        current_word = current_word + ' '  + word\n",
    "\n",
    "        # 예측 단어를 문장에 저장\n",
    "        sentence = sentence + ' ' + word\n",
    "\n",
    "    sentence = init_word + sentence\n",
    "    return sentence"
   ]
  },
  {
   "cell_type": "code",
   "execution_count": 29,
   "id": "3af1152a",
   "metadata": {},
   "outputs": [
    {
     "name": "stdout",
     "output_type": "stream",
     "text": [
      "경마장에 있는 말이 뛰고 있다\n"
     ]
    }
   ],
   "source": [
    "#  '경마장에' 라는 단어 뒤에는 총 4개의 단어가 있으므로 4번 예측\n",
    "print(sentence_generation(model, tokenizer, '경마장에', 4))"
   ]
  },
  {
   "cell_type": "code",
   "execution_count": 33,
   "id": "780ef2d1",
   "metadata": {},
   "outputs": [
    {
     "name": "stdout",
     "output_type": "stream",
     "text": [
      "그의 말이 법이다\n"
     ]
    }
   ],
   "source": [
    "print(sentence_generation(model, tokenizer, '그의', 2))"
   ]
  },
  {
   "cell_type": "code",
   "execution_count": 34,
   "id": "0643951e",
   "metadata": {},
   "outputs": [
    {
     "name": "stdout",
     "output_type": "stream",
     "text": [
      "가는 말이 고와야 오는 말이 곱다\n"
     ]
    }
   ],
   "source": [
    "print(sentence_generation(model, tokenizer, '가는', 5))"
   ]
  },
  {
   "cell_type": "markdown",
   "id": "db0f3a36",
   "metadata": {},
   "source": [
    "- '말이' 다음 단어 정확하게 예측\n",
    "- 문장 길이에 맞게 4, 2, 5 인자값 줌\n",
    "- 그 이상 값 주면 그 다음에 올 단어를 임의로 예측"
   ]
  },
  {
   "cell_type": "code",
   "execution_count": 36,
   "id": "14412739",
   "metadata": {},
   "outputs": [
    {
     "name": "stdout",
     "output_type": "stream",
     "text": [
      "그의 말이 법이다 오는\n"
     ]
    }
   ],
   "source": [
    "print(sentence_generation(model, tokenizer, '그의', 3))"
   ]
  },
  {
   "cell_type": "markdown",
   "id": "84351a76",
   "metadata": {},
   "source": [
    "### LSTM을 이용하여 텍스트 생성하기\n",
    "- 더 많은 데이터로 텍스트 생성\n",
    "- 본질적으로는 앞 실습과 동일"
   ]
  },
  {
   "cell_type": "markdown",
   "id": "edfeebf6",
   "metadata": {},
   "source": [
    "#### 데이터에 대한 이해와 전처리\n",
    "- 데이터: 뉴욕 타임즈 기사의 제목"
   ]
  },
  {
   "cell_type": "code",
   "execution_count": 37,
   "id": "e26159e9",
   "metadata": {},
   "outputs": [],
   "source": [
    "import pandas as pd\n",
    "import numpy as np\n",
    "from string import punctuation\n",
    "\n",
    "from tensorflow.keras.preprocessing.text import Tokenizer\n",
    "from tensorflow.keras.preprocessing.sequence import pad_sequences\n",
    "from tensorflow.keras.utils import to_categorical"
   ]
  },
  {
   "cell_type": "code",
   "execution_count": 38,
   "id": "22c4504a",
   "metadata": {},
   "outputs": [],
   "source": [
    "df = pd.read_csv('ArticlesApril2018.csv')"
   ]
  },
  {
   "cell_type": "code",
   "execution_count": 39,
   "id": "986b6376",
   "metadata": {},
   "outputs": [
    {
     "data": {
      "text/html": [
       "<div>\n",
       "<style scoped>\n",
       "    .dataframe tbody tr th:only-of-type {\n",
       "        vertical-align: middle;\n",
       "    }\n",
       "\n",
       "    .dataframe tbody tr th {\n",
       "        vertical-align: top;\n",
       "    }\n",
       "\n",
       "    .dataframe thead th {\n",
       "        text-align: right;\n",
       "    }\n",
       "</style>\n",
       "<table border=\"1\" class=\"dataframe\">\n",
       "  <thead>\n",
       "    <tr style=\"text-align: right;\">\n",
       "      <th></th>\n",
       "      <th>articleID</th>\n",
       "      <th>articleWordCount</th>\n",
       "      <th>byline</th>\n",
       "      <th>documentType</th>\n",
       "      <th>headline</th>\n",
       "      <th>keywords</th>\n",
       "      <th>multimedia</th>\n",
       "      <th>newDesk</th>\n",
       "      <th>printPage</th>\n",
       "      <th>pubDate</th>\n",
       "      <th>sectionName</th>\n",
       "      <th>snippet</th>\n",
       "      <th>source</th>\n",
       "      <th>typeOfMaterial</th>\n",
       "      <th>webURL</th>\n",
       "    </tr>\n",
       "  </thead>\n",
       "  <tbody>\n",
       "    <tr>\n",
       "      <th>0</th>\n",
       "      <td>5adf6684068401528a2aa69b</td>\n",
       "      <td>781</td>\n",
       "      <td>By JOHN BRANCH</td>\n",
       "      <td>article</td>\n",
       "      <td>Former N.F.L. Cheerleaders’ Settlement Offer: ...</td>\n",
       "      <td>['Workplace Hazards and Violations', 'Football...</td>\n",
       "      <td>68</td>\n",
       "      <td>Sports</td>\n",
       "      <td>0</td>\n",
       "      <td>2018-04-24 17:16:49</td>\n",
       "      <td>Pro Football</td>\n",
       "      <td>“I understand that they could meet with us, pa...</td>\n",
       "      <td>The New York Times</td>\n",
       "      <td>News</td>\n",
       "      <td>https://www.nytimes.com/2018/04/24/sports/foot...</td>\n",
       "    </tr>\n",
       "  </tbody>\n",
       "</table>\n",
       "</div>"
      ],
      "text/plain": [
       "                  articleID  articleWordCount          byline documentType  \\\n",
       "0  5adf6684068401528a2aa69b               781  By JOHN BRANCH      article   \n",
       "\n",
       "                                            headline  \\\n",
       "0  Former N.F.L. Cheerleaders’ Settlement Offer: ...   \n",
       "\n",
       "                                            keywords  multimedia newDesk  \\\n",
       "0  ['Workplace Hazards and Violations', 'Football...          68  Sports   \n",
       "\n",
       "   printPage              pubDate   sectionName  \\\n",
       "0          0  2018-04-24 17:16:49  Pro Football   \n",
       "\n",
       "                                             snippet              source  \\\n",
       "0  “I understand that they could meet with us, pa...  The New York Times   \n",
       "\n",
       "  typeOfMaterial                                             webURL  \n",
       "0           News  https://www.nytimes.com/2018/04/24/sports/foot...  "
      ]
     },
     "execution_count": 39,
     "metadata": {},
     "output_type": "execute_result"
    }
   ],
   "source": [
    "df.head(1)"
   ]
  },
  {
   "cell_type": "code",
   "execution_count": null,
   "id": "172027d2",
   "metadata": {},
   "outputs": [],
   "source": [
    "# 15개 열 존재\n",
    "# 사용할 열 : headline 열"
   ]
  },
  {
   "cell_type": "code",
   "execution_count": 40,
   "id": "e4de5e3c",
   "metadata": {},
   "outputs": [
    {
     "name": "stdout",
     "output_type": "stream",
     "text": [
      "열의 개수:  15\n",
      "Index(['articleID', 'articleWordCount', 'byline', 'documentType', 'headline',\n",
      "       'keywords', 'multimedia', 'newDesk', 'printPage', 'pubDate',\n",
      "       'sectionName', 'snippet', 'source', 'typeOfMaterial', 'webURL'],\n",
      "      dtype='object')\n"
     ]
    }
   ],
   "source": [
    "print('열의 개수: ',len(df.columns))\n",
    "print(df.columns)"
   ]
  },
  {
   "cell_type": "code",
   "execution_count": 41,
   "id": "603611e9",
   "metadata": {},
   "outputs": [
    {
     "name": "stdout",
     "output_type": "stream",
     "text": [
      "False\n"
     ]
    }
   ],
   "source": [
    "# null 없음\n",
    "print(df['headline'].isnull().values.any())"
   ]
  },
  {
   "cell_type": "code",
   "execution_count": 42,
   "id": "f6f3b76b",
   "metadata": {},
   "outputs": [
    {
     "data": {
      "text/plain": [
       "['Former N.F.L. Cheerleaders’ Settlement Offer: $1 and a Meeting With Goodell',\n",
       " 'E.P.A. to Unveil a New Rule. Its Effect: Less Science in Policymaking.',\n",
       " 'The New Noma, Explained',\n",
       " 'Unknown',\n",
       " 'Unknown']"
      ]
     },
     "execution_count": 42,
     "metadata": {},
     "output_type": "execute_result"
    }
   ],
   "source": [
    "headline = []\n",
    "# 헤드라인의 값들을 리스트로 저장\n",
    "headline.extend(list(df.headline.values)) \n",
    "headline[:5]"
   ]
  },
  {
   "cell_type": "code",
   "execution_count": 43,
   "id": "881f7339",
   "metadata": {},
   "outputs": [],
   "source": [
    "headline = [word for word in headline if word != \"Unknown\"]"
   ]
  },
  {
   "cell_type": "code",
   "execution_count": 44,
   "id": "8882b768",
   "metadata": {},
   "outputs": [
    {
     "data": {
      "text/plain": [
       "['Former N.F.L. Cheerleaders’ Settlement Offer: $1 and a Meeting With Goodell',\n",
       " 'E.P.A. to Unveil a New Rule. Its Effect: Less Science in Policymaking.',\n",
       " 'The New Noma, Explained',\n",
       " 'How a Bag of Texas Dirt  Became a Times Tradition',\n",
       " 'Is School a Place for Self-Expression?']"
      ]
     },
     "execution_count": 44,
     "metadata": {},
     "output_type": "execute_result"
    }
   ],
   "source": [
    "headline[:5]"
   ]
  },
  {
   "cell_type": "code",
   "execution_count": 45,
   "id": "27837050",
   "metadata": {},
   "outputs": [
    {
     "data": {
      "text/plain": [
       "['former nfl cheerleaders settlement offer 1 and a meeting with goodell',\n",
       " 'epa to unveil a new rule its effect less science in policymaking',\n",
       " 'the new noma explained',\n",
       " 'how a bag of texas dirt  became a times tradition',\n",
       " 'is school a place for selfexpression']"
      ]
     },
     "execution_count": 45,
     "metadata": {},
     "output_type": "execute_result"
    }
   ],
   "source": [
    "# 구두점 제거와 단어의 소문자화\n",
    "def repreprocessing(raw_sentence):\n",
    "    preproceseed_sentence = raw_sentence.encode(\"utf8\").decode(\"ascii\",'ignore')\n",
    "    # 구두점 제거와 동시에 소문자화\n",
    "    return ''.join(word for word in preproceseed_sentence if word not in punctuation).lower()\n",
    "\n",
    "preprocessed_headline = [repreprocessing(x) for x in headline]\n",
    "preprocessed_headline[:5]"
   ]
  },
  {
   "cell_type": "code",
   "execution_count": 46,
   "id": "068f28d1",
   "metadata": {},
   "outputs": [
    {
     "name": "stdout",
     "output_type": "stream",
     "text": [
      "단어 집합의 크기 : 3494\n"
     ]
    }
   ],
   "source": [
    "# 단어 집합(vocabulary)을 만들고 크기를 확인\n",
    "tokenizer = Tokenizer()\n",
    "tokenizer.fit_on_texts(preprocessed_headline)\n",
    "vocab_size = len(tokenizer.word_index) + 1\n",
    "print('단어 집합의 크기 : %d' % vocab_size)"
   ]
  },
  {
   "cell_type": "code",
   "execution_count": 47,
   "id": "7e18d647",
   "metadata": {},
   "outputs": [
    {
     "data": {
      "text/plain": [
       "[[99, 269],\n",
       " [99, 269, 371],\n",
       " [99, 269, 371, 1115],\n",
       " [99, 269, 371, 1115, 582],\n",
       " [99, 269, 371, 1115, 582, 52],\n",
       " [99, 269, 371, 1115, 582, 52, 7],\n",
       " [99, 269, 371, 1115, 582, 52, 7, 2],\n",
       " [99, 269, 371, 1115, 582, 52, 7, 2, 372],\n",
       " [99, 269, 371, 1115, 582, 52, 7, 2, 372, 10],\n",
       " [99, 269, 371, 1115, 582, 52, 7, 2, 372, 10, 1116],\n",
       " [100, 3]]"
      ]
     },
     "execution_count": 47,
     "metadata": {},
     "output_type": "execute_result"
    }
   ],
   "source": [
    "# 훈련 데이터를 구성\n",
    "sequences = list()\n",
    "\n",
    "for sentence in preprocessed_headline:\n",
    "\n",
    "    # 각 샘플에 대한 정수 인코딩\n",
    "    encoded = tokenizer.texts_to_sequences([sentence])[0] \n",
    "    for i in range(1, len(encoded)):\n",
    "        sequence = encoded[:i+1]\n",
    "        sequences.append(sequence)\n",
    "\n",
    "sequences[:11]"
   ]
  },
  {
   "attachments": {
    "image.png": {
     "image/png": "[encoded data removed]"
    }
   },
   "cell_type": "markdown",
   "id": "62798ad8",
   "metadata": {},
   "source": [
    "- 하나의 단어를 예측하기 위해 이전에 등장한 단어들을 모두 참고\n",
    "![image.png](attachment:image.png)"
   ]
  },
  {
   "cell_type": "code",
   "execution_count": 48,
   "id": "bfd26085",
   "metadata": {},
   "outputs": [
    {
     "name": "stdout",
     "output_type": "stream",
     "text": [
      "빈도수 상위 582번 단어 : offer\n"
     ]
    }
   ],
   "source": [
    "# 어떤 정수가 어떤 단어를 의미하는지 알아보기 위해 인덱스로부터 단어를 찾는 index_to_word 생성\n",
    "index_to_word = {}\n",
    "for key, value in tokenizer.word_index.items(): # 인덱스를 단어로 바꾸기 위해 index_to_word를 생성\n",
    "    index_to_word[value] = key\n",
    "\n",
    "print('빈도수 상위 582번 단어 : {}'.format(index_to_word[582]))"
   ]
  },
  {
   "cell_type": "code",
   "execution_count": 50,
   "id": "473d0089",
   "metadata": {},
   "outputs": [
    {
     "name": "stdout",
     "output_type": "stream",
     "text": [
      "샘플의 최대 길이 : 24\n"
     ]
    }
   ],
   "source": [
    "# 전체 샘플 동일하게 만드는 패딩 작업 수행\n",
    "# 가장 긴 샘플 길이 확인\n",
    "max_len = max(len(l) for l in sequences)\n",
    "print('샘플의 최대 길이 : {}'.format(max_len))"
   ]
  },
  {
   "cell_type": "code",
   "execution_count": 51,
   "id": "91b5b990",
   "metadata": {},
   "outputs": [
    {
     "name": "stdout",
     "output_type": "stream",
     "text": [
      "[[   0    0    0    0    0    0    0    0    0    0    0    0    0    0\n",
      "     0    0    0    0    0    0    0    0   99  269]\n",
      " [   0    0    0    0    0    0    0    0    0    0    0    0    0    0\n",
      "     0    0    0    0    0    0    0   99  269  371]\n",
      " [   0    0    0    0    0    0    0    0    0    0    0    0    0    0\n",
      "     0    0    0    0    0    0   99  269  371 1115]]\n"
     ]
    }
   ],
   "source": [
    "sequences = pad_sequences(sequences, maxlen=max_len, padding='pre')\n",
    "print(sequences[:3])"
   ]
  },
  {
   "cell_type": "code",
   "execution_count": 52,
   "id": "20f28082",
   "metadata": {},
   "outputs": [],
   "source": [
    "# 레이블 분리\n",
    "sequences = np.array(sequences)\n",
    "X = sequences[:,:-1]\n",
    "y = sequences[:,-1]"
   ]
  },
  {
   "cell_type": "code",
   "execution_count": 53,
   "id": "db961881",
   "metadata": {},
   "outputs": [
    {
     "name": "stdout",
     "output_type": "stream",
     "text": [
      "[[  0   0   0   0   0   0   0   0   0   0   0   0   0   0   0   0   0   0\n",
      "    0   0   0   0  99]\n",
      " [  0   0   0   0   0   0   0   0   0   0   0   0   0   0   0   0   0   0\n",
      "    0   0   0  99 269]\n",
      " [  0   0   0   0   0   0   0   0   0   0   0   0   0   0   0   0   0   0\n",
      "    0   0  99 269 371]]\n"
     ]
    }
   ],
   "source": [
    "print(X[:3])"
   ]
  },
  {
   "cell_type": "code",
   "execution_count": 54,
   "id": "0aa39d46",
   "metadata": {},
   "outputs": [
    {
     "name": "stdout",
     "output_type": "stream",
     "text": [
      "[ 269  371 1115]\n"
     ]
    }
   ],
   "source": [
    "print(y[:3])"
   ]
  },
  {
   "cell_type": "code",
   "execution_count": 55,
   "id": "e2df2981",
   "metadata": {},
   "outputs": [],
   "source": [
    "# 레이블 원-핫 인코딩 수행\n",
    "y = to_categorical(y, num_classes=vocab_size)"
   ]
  },
  {
   "cell_type": "markdown",
   "id": "108ba7e1",
   "metadata": {},
   "source": [
    "#### 모델 설계하기"
   ]
  },
  {
   "cell_type": "code",
   "execution_count": 56,
   "id": "b515d6b1",
   "metadata": {},
   "outputs": [],
   "source": [
    "from tensorflow.keras.models import Sequential\n",
    "from tensorflow.keras.layers import Embedding, Dense, LSTM"
   ]
  },
  {
   "cell_type": "markdown",
   "id": "0a36ff37",
   "metadata": {},
   "source": [
    "- 하이퍼파라미터인 임베딩 벡터의 차원은 10, 은닉 상태의 크기는 128\n",
    "- 다 대 일 구조의 LSTM 사용\n",
    "- 나머지 조건은 위(RNN실습)와 같음"
   ]
  },
  {
   "cell_type": "code",
   "execution_count": 57,
   "id": "546a4b57",
   "metadata": {},
   "outputs": [
    {
     "name": "stdout",
     "output_type": "stream",
     "text": [
      "Epoch 1/200\n",
      "244/244 - 5s - loss: 7.6437 - accuracy: 0.0264 - 5s/epoch - 21ms/step\n",
      "Epoch 2/200\n",
      "244/244 - 3s - loss: 7.1182 - accuracy: 0.0288 - 3s/epoch - 14ms/step\n",
      "Epoch 3/200\n",
      "244/244 - 3s - loss: 6.9791 - accuracy: 0.0320 - 3s/epoch - 14ms/step\n",
      "Epoch 4/200\n",
      "244/244 - 4s - loss: 6.8567 - accuracy: 0.0411 - 4s/epoch - 15ms/step\n",
      "Epoch 5/200\n",
      "244/244 - 4s - loss: 6.7139 - accuracy: 0.0428 - 4s/epoch - 14ms/step\n",
      "Epoch 6/200\n",
      "244/244 - 3s - loss: 6.5546 - accuracy: 0.0470 - 3s/epoch - 14ms/step\n",
      "Epoch 7/200\n",
      "244/244 - 3s - loss: 6.3832 - accuracy: 0.0511 - 3s/epoch - 14ms/step\n",
      "Epoch 8/200\n",
      "244/244 - 3s - loss: 6.2037 - accuracy: 0.0556 - 3s/epoch - 14ms/step\n",
      "Epoch 9/200\n",
      "244/244 - 3s - loss: 6.0182 - accuracy: 0.0582 - 3s/epoch - 13ms/step\n",
      "Epoch 10/200\n",
      "244/244 - 3s - loss: 5.8346 - accuracy: 0.0669 - 3s/epoch - 14ms/step\n",
      "Epoch 11/200\n",
      "244/244 - 3s - loss: 5.6636 - accuracy: 0.0701 - 3s/epoch - 14ms/step\n",
      "Epoch 12/200\n",
      "244/244 - 3s - loss: 5.4975 - accuracy: 0.0741 - 3s/epoch - 14ms/step\n",
      "Epoch 13/200\n",
      "244/244 - 3s - loss: 5.3429 - accuracy: 0.0802 - 3s/epoch - 14ms/step\n",
      "Epoch 14/200\n",
      "244/244 - 4s - loss: 5.1915 - accuracy: 0.0870 - 4s/epoch - 15ms/step\n",
      "Epoch 15/200\n",
      "244/244 - 4s - loss: 5.0498 - accuracy: 0.0916 - 4s/epoch - 15ms/step\n",
      "Epoch 16/200\n",
      "244/244 - 4s - loss: 4.9109 - accuracy: 0.1024 - 4s/epoch - 15ms/step\n",
      "Epoch 17/200\n",
      "244/244 - 4s - loss: 4.7769 - accuracy: 0.1138 - 4s/epoch - 16ms/step\n",
      "Epoch 18/200\n",
      "244/244 - 4s - loss: 4.6507 - accuracy: 0.1219 - 4s/epoch - 17ms/step\n",
      "Epoch 19/200\n",
      "244/244 - 3s - loss: 4.5268 - accuracy: 0.1384 - 3s/epoch - 14ms/step\n",
      "Epoch 20/200\n",
      "244/244 - 4s - loss: 4.4061 - accuracy: 0.1538 - 4s/epoch - 15ms/step\n",
      "Epoch 21/200\n",
      "244/244 - 3s - loss: 4.2871 - accuracy: 0.1721 - 3s/epoch - 14ms/step\n",
      "Epoch 22/200\n",
      "244/244 - 4s - loss: 4.1747 - accuracy: 0.1835 - 4s/epoch - 15ms/step\n",
      "Epoch 23/200\n",
      "244/244 - 3s - loss: 4.0644 - accuracy: 0.2040 - 3s/epoch - 14ms/step\n",
      "Epoch 24/200\n",
      "244/244 - 3s - loss: 3.9590 - accuracy: 0.2218 - 3s/epoch - 14ms/step\n",
      "Epoch 25/200\n",
      "244/244 - 3s - loss: 3.8541 - accuracy: 0.2384 - 3s/epoch - 14ms/step\n",
      "Epoch 26/200\n",
      "244/244 - 4s - loss: 3.7559 - accuracy: 0.2545 - 4s/epoch - 14ms/step\n",
      "Epoch 27/200\n",
      "244/244 - 3s - loss: 3.6593 - accuracy: 0.2694 - 3s/epoch - 13ms/step\n",
      "Epoch 28/200\n",
      "244/244 - 3s - loss: 3.5666 - accuracy: 0.2880 - 3s/epoch - 14ms/step\n",
      "Epoch 29/200\n",
      "244/244 - 3s - loss: 3.4749 - accuracy: 0.3026 - 3s/epoch - 14ms/step\n",
      "Epoch 30/200\n",
      "244/244 - 3s - loss: 3.3862 - accuracy: 0.3253 - 3s/epoch - 14ms/step\n",
      "Epoch 31/200\n",
      "244/244 - 3s - loss: 3.3025 - accuracy: 0.3297 - 3s/epoch - 14ms/step\n",
      "Epoch 32/200\n",
      "244/244 - 4s - loss: 3.2206 - accuracy: 0.3506 - 4s/epoch - 14ms/step\n",
      "Epoch 33/200\n",
      "244/244 - 3s - loss: 3.1439 - accuracy: 0.3624 - 3s/epoch - 14ms/step\n",
      "Epoch 34/200\n",
      "244/244 - 3s - loss: 3.0669 - accuracy: 0.3815 - 3s/epoch - 14ms/step\n",
      "Epoch 35/200\n",
      "244/244 - 3s - loss: 2.9936 - accuracy: 0.3886 - 3s/epoch - 14ms/step\n",
      "Epoch 36/200\n",
      "244/244 - 3s - loss: 2.9233 - accuracy: 0.4046 - 3s/epoch - 14ms/step\n",
      "Epoch 37/200\n",
      "244/244 - 3s - loss: 2.8537 - accuracy: 0.4125 - 3s/epoch - 13ms/step\n",
      "Epoch 38/200\n",
      "244/244 - 3s - loss: 2.7872 - accuracy: 0.4320 - 3s/epoch - 13ms/step\n",
      "Epoch 39/200\n",
      "244/244 - 3s - loss: 2.7256 - accuracy: 0.4371 - 3s/epoch - 14ms/step\n",
      "Epoch 40/200\n",
      "244/244 - 3s - loss: 2.6631 - accuracy: 0.4553 - 3s/epoch - 14ms/step\n",
      "Epoch 41/200\n",
      "244/244 - 3s - loss: 2.6064 - accuracy: 0.4639 - 3s/epoch - 14ms/step\n",
      "Epoch 42/200\n",
      "244/244 - 3s - loss: 2.5543 - accuracy: 0.4725 - 3s/epoch - 14ms/step\n",
      "Epoch 43/200\n",
      "244/244 - 3s - loss: 2.4906 - accuracy: 0.4872 - 3s/epoch - 14ms/step\n",
      "Epoch 44/200\n",
      "244/244 - 4s - loss: 2.4359 - accuracy: 0.4943 - 4s/epoch - 14ms/step\n",
      "Epoch 45/200\n",
      "244/244 - 3s - loss: 2.3827 - accuracy: 0.5056 - 3s/epoch - 14ms/step\n",
      "Epoch 46/200\n",
      "244/244 - 4s - loss: 2.3330 - accuracy: 0.5186 - 4s/epoch - 14ms/step\n",
      "Epoch 47/200\n",
      "244/244 - 4s - loss: 2.2806 - accuracy: 0.5234 - 4s/epoch - 15ms/step\n",
      "Epoch 48/200\n",
      "244/244 - 3s - loss: 2.2328 - accuracy: 0.5340 - 3s/epoch - 14ms/step\n",
      "Epoch 49/200\n",
      "244/244 - 3s - loss: 2.1852 - accuracy: 0.5447 - 3s/epoch - 14ms/step\n",
      "Epoch 50/200\n",
      "244/244 - 3s - loss: 2.1398 - accuracy: 0.5539 - 3s/epoch - 14ms/step\n",
      "Epoch 51/200\n",
      "244/244 - 4s - loss: 2.0936 - accuracy: 0.5634 - 4s/epoch - 14ms/step\n",
      "Epoch 52/200\n",
      "244/244 - 3s - loss: 2.0496 - accuracy: 0.5731 - 3s/epoch - 14ms/step\n",
      "Epoch 53/200\n",
      "244/244 - 4s - loss: 2.0079 - accuracy: 0.5821 - 4s/epoch - 14ms/step\n",
      "Epoch 54/200\n",
      "244/244 - 3s - loss: 1.9636 - accuracy: 0.5890 - 3s/epoch - 14ms/step\n",
      "Epoch 55/200\n",
      "244/244 - 4s - loss: 1.9239 - accuracy: 0.6017 - 4s/epoch - 15ms/step\n",
      "Epoch 56/200\n",
      "244/244 - 3s - loss: 1.8845 - accuracy: 0.6086 - 3s/epoch - 14ms/step\n",
      "Epoch 57/200\n",
      "244/244 - 3s - loss: 1.8440 - accuracy: 0.6172 - 3s/epoch - 14ms/step\n",
      "Epoch 58/200\n",
      "244/244 - 4s - loss: 1.8055 - accuracy: 0.6251 - 4s/epoch - 14ms/step\n",
      "Epoch 59/200\n",
      "244/244 - 3s - loss: 1.7674 - accuracy: 0.6364 - 3s/epoch - 14ms/step\n",
      "Epoch 60/200\n",
      "244/244 - 3s - loss: 1.7300 - accuracy: 0.6448 - 3s/epoch - 14ms/step\n",
      "Epoch 61/200\n",
      "244/244 - 3s - loss: 1.6933 - accuracy: 0.6549 - 3s/epoch - 14ms/step\n",
      "Epoch 62/200\n",
      "244/244 - 3s - loss: 1.6588 - accuracy: 0.6610 - 3s/epoch - 14ms/step\n",
      "Epoch 63/200\n",
      "244/244 - 3s - loss: 1.6237 - accuracy: 0.6695 - 3s/epoch - 14ms/step\n",
      "Epoch 64/200\n",
      "244/244 - 3s - loss: 1.5906 - accuracy: 0.6756 - 3s/epoch - 14ms/step\n",
      "Epoch 65/200\n",
      "244/244 - 3s - loss: 1.5549 - accuracy: 0.6840 - 3s/epoch - 14ms/step\n",
      "Epoch 66/200\n",
      "244/244 - 4s - loss: 1.5224 - accuracy: 0.6920 - 4s/epoch - 15ms/step\n",
      "Epoch 67/200\n",
      "244/244 - 3s - loss: 1.4892 - accuracy: 0.7004 - 3s/epoch - 14ms/step\n",
      "Epoch 68/200\n",
      "244/244 - 3s - loss: 1.4595 - accuracy: 0.7075 - 3s/epoch - 14ms/step\n",
      "Epoch 69/200\n",
      "244/244 - 4s - loss: 1.4273 - accuracy: 0.7136 - 4s/epoch - 14ms/step\n",
      "Epoch 70/200\n",
      "244/244 - 4s - loss: 1.3968 - accuracy: 0.7195 - 4s/epoch - 16ms/step\n",
      "Epoch 71/200\n",
      "244/244 - 4s - loss: 1.3696 - accuracy: 0.7228 - 4s/epoch - 16ms/step\n",
      "Epoch 72/200\n",
      "244/244 - 4s - loss: 1.3388 - accuracy: 0.7323 - 4s/epoch - 15ms/step\n",
      "Epoch 73/200\n",
      "244/244 - 4s - loss: 1.3126 - accuracy: 0.7341 - 4s/epoch - 14ms/step\n",
      "Epoch 74/200\n",
      "244/244 - 3s - loss: 1.2837 - accuracy: 0.7438 - 3s/epoch - 14ms/step\n",
      "Epoch 75/200\n",
      "244/244 - 4s - loss: 1.2562 - accuracy: 0.7497 - 4s/epoch - 14ms/step\n",
      "Epoch 76/200\n",
      "244/244 - 3s - loss: 1.2298 - accuracy: 0.7516 - 3s/epoch - 14ms/step\n",
      "Epoch 77/200\n",
      "244/244 - 4s - loss: 1.2056 - accuracy: 0.7607 - 4s/epoch - 14ms/step\n",
      "Epoch 78/200\n",
      "244/244 - 3s - loss: 1.1807 - accuracy: 0.7627 - 3s/epoch - 14ms/step\n",
      "Epoch 79/200\n",
      "244/244 - 3s - loss: 1.1542 - accuracy: 0.7707 - 3s/epoch - 14ms/step\n",
      "Epoch 80/200\n",
      "244/244 - 4s - loss: 1.1292 - accuracy: 0.7770 - 4s/epoch - 15ms/step\n",
      "Epoch 81/200\n",
      "244/244 - 3s - loss: 1.1067 - accuracy: 0.7809 - 3s/epoch - 14ms/step\n",
      "Epoch 82/200\n",
      "244/244 - 4s - loss: 1.0809 - accuracy: 0.7826 - 4s/epoch - 14ms/step\n",
      "Epoch 83/200\n",
      "244/244 - 4s - loss: 1.0617 - accuracy: 0.7882 - 4s/epoch - 15ms/step\n",
      "Epoch 84/200\n",
      "244/244 - 4s - loss: 1.0377 - accuracy: 0.7934 - 4s/epoch - 15ms/step\n",
      "Epoch 85/200\n",
      "244/244 - 4s - loss: 1.0170 - accuracy: 0.7984 - 4s/epoch - 16ms/step\n",
      "Epoch 86/200\n",
      "244/244 - 4s - loss: 0.9942 - accuracy: 0.8029 - 4s/epoch - 15ms/step\n",
      "Epoch 87/200\n",
      "244/244 - 4s - loss: 0.9750 - accuracy: 0.8047 - 4s/epoch - 15ms/step\n",
      "Epoch 88/200\n",
      "244/244 - 4s - loss: 0.9536 - accuracy: 0.8116 - 4s/epoch - 15ms/step\n",
      "Epoch 89/200\n",
      "244/244 - 4s - loss: 0.9415 - accuracy: 0.8135 - 4s/epoch - 15ms/step\n",
      "Epoch 90/200\n",
      "244/244 - 4s - loss: 0.9143 - accuracy: 0.8180 - 4s/epoch - 15ms/step\n",
      "Epoch 91/200\n",
      "244/244 - 3s - loss: 0.8975 - accuracy: 0.8206 - 3s/epoch - 14ms/step\n",
      "Epoch 92/200\n",
      "244/244 - 4s - loss: 0.8770 - accuracy: 0.8279 - 4s/epoch - 15ms/step\n",
      "Epoch 93/200\n",
      "244/244 - 4s - loss: 0.8582 - accuracy: 0.8274 - 4s/epoch - 14ms/step\n",
      "Epoch 94/200\n",
      "244/244 - 3s - loss: 0.8413 - accuracy: 0.8365 - 3s/epoch - 14ms/step\n",
      "Epoch 95/200\n",
      "244/244 - 4s - loss: 0.8232 - accuracy: 0.8372 - 4s/epoch - 15ms/step\n",
      "Epoch 96/200\n",
      "244/244 - 4s - loss: 0.8089 - accuracy: 0.8389 - 4s/epoch - 16ms/step\n",
      "Epoch 97/200\n",
      "244/244 - 4s - loss: 0.7891 - accuracy: 0.8448 - 4s/epoch - 15ms/step\n",
      "Epoch 98/200\n",
      "244/244 - 4s - loss: 0.7743 - accuracy: 0.8474 - 4s/epoch - 15ms/step\n",
      "Epoch 99/200\n",
      "244/244 - 4s - loss: 0.7598 - accuracy: 0.8478 - 4s/epoch - 15ms/step\n"
     ]
    },
    {
     "name": "stdout",
     "output_type": "stream",
     "text": [
      "Epoch 100/200\n",
      "244/244 - 4s - loss: 0.7443 - accuracy: 0.8527 - 4s/epoch - 15ms/step\n",
      "Epoch 101/200\n",
      "244/244 - 4s - loss: 0.7293 - accuracy: 0.8531 - 4s/epoch - 15ms/step\n",
      "Epoch 102/200\n",
      "244/244 - 4s - loss: 0.7157 - accuracy: 0.8570 - 4s/epoch - 15ms/step\n",
      "Epoch 103/200\n",
      "244/244 - 4s - loss: 0.7001 - accuracy: 0.8616 - 4s/epoch - 15ms/step\n",
      "Epoch 104/200\n",
      "244/244 - 3s - loss: 0.6850 - accuracy: 0.8611 - 3s/epoch - 14ms/step\n",
      "Epoch 105/200\n",
      "244/244 - 4s - loss: 0.6735 - accuracy: 0.8634 - 4s/epoch - 15ms/step\n",
      "Epoch 106/200\n",
      "244/244 - 4s - loss: 0.6603 - accuracy: 0.8666 - 4s/epoch - 15ms/step\n",
      "Epoch 107/200\n",
      "244/244 - 3s - loss: 0.6492 - accuracy: 0.8697 - 3s/epoch - 14ms/step\n",
      "Epoch 108/200\n",
      "244/244 - 3s - loss: 0.6346 - accuracy: 0.8721 - 3s/epoch - 14ms/step\n",
      "Epoch 109/200\n",
      "244/244 - 3s - loss: 0.6205 - accuracy: 0.8761 - 3s/epoch - 14ms/step\n",
      "Epoch 110/200\n",
      "244/244 - 3s - loss: 0.6077 - accuracy: 0.8770 - 3s/epoch - 14ms/step\n",
      "Epoch 111/200\n",
      "244/244 - 3s - loss: 0.5963 - accuracy: 0.8794 - 3s/epoch - 14ms/step\n",
      "Epoch 112/200\n",
      "244/244 - 4s - loss: 0.5877 - accuracy: 0.8856 - 4s/epoch - 15ms/step\n",
      "Epoch 113/200\n",
      "244/244 - 3s - loss: 0.5748 - accuracy: 0.8841 - 3s/epoch - 14ms/step\n",
      "Epoch 114/200\n",
      "244/244 - 3s - loss: 0.5642 - accuracy: 0.8849 - 3s/epoch - 14ms/step\n",
      "Epoch 115/200\n",
      "244/244 - 3s - loss: 0.5554 - accuracy: 0.8854 - 3s/epoch - 14ms/step\n",
      "Epoch 116/200\n",
      "244/244 - 3s - loss: 0.5543 - accuracy: 0.8879 - 3s/epoch - 14ms/step\n",
      "Epoch 117/200\n",
      "244/244 - 3s - loss: 0.5459 - accuracy: 0.8877 - 3s/epoch - 14ms/step\n",
      "Epoch 118/200\n",
      "244/244 - 3s - loss: 0.5271 - accuracy: 0.8965 - 3s/epoch - 14ms/step\n",
      "Epoch 119/200\n",
      "244/244 - 3s - loss: 0.5142 - accuracy: 0.8950 - 3s/epoch - 14ms/step\n",
      "Epoch 120/200\n",
      "244/244 - 3s - loss: 0.5045 - accuracy: 0.8930 - 3s/epoch - 14ms/step\n",
      "Epoch 121/200\n",
      "244/244 - 3s - loss: 0.4998 - accuracy: 0.8971 - 3s/epoch - 14ms/step\n",
      "Epoch 122/200\n",
      "244/244 - 3s - loss: 0.4870 - accuracy: 0.8990 - 3s/epoch - 14ms/step\n",
      "Epoch 123/200\n",
      "244/244 - 3s - loss: 0.4774 - accuracy: 0.9004 - 3s/epoch - 14ms/step\n",
      "Epoch 124/200\n",
      "244/244 - 3s - loss: 0.4696 - accuracy: 0.9034 - 3s/epoch - 14ms/step\n",
      "Epoch 125/200\n",
      "244/244 - 3s - loss: 0.4631 - accuracy: 0.9026 - 3s/epoch - 14ms/step\n",
      "Epoch 126/200\n",
      "244/244 - 3s - loss: 0.4558 - accuracy: 0.9039 - 3s/epoch - 14ms/step\n",
      "Epoch 127/200\n",
      "244/244 - 3s - loss: 0.4465 - accuracy: 0.9043 - 3s/epoch - 14ms/step\n",
      "Epoch 128/200\n",
      "244/244 - 4s - loss: 0.4398 - accuracy: 0.9058 - 4s/epoch - 14ms/step\n",
      "Epoch 129/200\n",
      "244/244 - 3s - loss: 0.4320 - accuracy: 0.9066 - 3s/epoch - 14ms/step\n",
      "Epoch 130/200\n",
      "244/244 - 4s - loss: 0.4257 - accuracy: 0.9095 - 4s/epoch - 14ms/step\n",
      "Epoch 131/200\n",
      "244/244 - 4s - loss: 0.4164 - accuracy: 0.9085 - 4s/epoch - 14ms/step\n",
      "Epoch 132/200\n",
      "244/244 - 3s - loss: 0.4109 - accuracy: 0.9103 - 3s/epoch - 14ms/step\n",
      "Epoch 133/200\n",
      "244/244 - 3s - loss: 0.4042 - accuracy: 0.9095 - 3s/epoch - 14ms/step\n",
      "Epoch 134/200\n",
      "244/244 - 3s - loss: 0.3987 - accuracy: 0.9102 - 3s/epoch - 14ms/step\n",
      "Epoch 135/200\n",
      "244/244 - 3s - loss: 0.3926 - accuracy: 0.9108 - 3s/epoch - 14ms/step\n",
      "Epoch 136/200\n",
      "244/244 - 3s - loss: 0.3880 - accuracy: 0.9114 - 3s/epoch - 14ms/step\n",
      "Epoch 137/200\n",
      "244/244 - 3s - loss: 0.3844 - accuracy: 0.9114 - 3s/epoch - 14ms/step\n",
      "Epoch 138/200\n",
      "244/244 - 3s - loss: 0.3803 - accuracy: 0.9113 - 3s/epoch - 14ms/step\n",
      "Epoch 139/200\n",
      "244/244 - 3s - loss: 0.3733 - accuracy: 0.9123 - 3s/epoch - 14ms/step\n",
      "Epoch 140/200\n",
      "244/244 - 3s - loss: 0.3659 - accuracy: 0.9132 - 3s/epoch - 14ms/step\n",
      "Epoch 141/200\n",
      "244/244 - 3s - loss: 0.3602 - accuracy: 0.9143 - 3s/epoch - 14ms/step\n",
      "Epoch 142/200\n",
      "244/244 - 3s - loss: 0.3568 - accuracy: 0.9135 - 3s/epoch - 14ms/step\n",
      "Epoch 143/200\n",
      "244/244 - 3s - loss: 0.3608 - accuracy: 0.9158 - 3s/epoch - 14ms/step\n",
      "Epoch 144/200\n",
      "244/244 - 3s - loss: 0.3713 - accuracy: 0.9121 - 3s/epoch - 14ms/step\n",
      "Epoch 145/200\n",
      "244/244 - 3s - loss: 0.3594 - accuracy: 0.9148 - 3s/epoch - 14ms/step\n",
      "Epoch 146/200\n",
      "244/244 - 4s - loss: 0.3509 - accuracy: 0.9130 - 4s/epoch - 15ms/step\n",
      "Epoch 147/200\n",
      "244/244 - 3s - loss: 0.3410 - accuracy: 0.9145 - 3s/epoch - 14ms/step\n",
      "Epoch 148/200\n",
      "244/244 - 4s - loss: 0.3352 - accuracy: 0.9152 - 4s/epoch - 15ms/step\n",
      "Epoch 149/200\n",
      "244/244 - 3s - loss: 0.3319 - accuracy: 0.9153 - 3s/epoch - 14ms/step\n",
      "Epoch 150/200\n",
      "244/244 - 4s - loss: 0.3286 - accuracy: 0.9163 - 4s/epoch - 14ms/step\n",
      "Epoch 151/200\n",
      "244/244 - 3s - loss: 0.3250 - accuracy: 0.9150 - 3s/epoch - 14ms/step\n",
      "Epoch 152/200\n",
      "244/244 - 3s - loss: 0.3222 - accuracy: 0.9166 - 3s/epoch - 14ms/step\n",
      "Epoch 153/200\n",
      "244/244 - 3s - loss: 0.3214 - accuracy: 0.9157 - 3s/epoch - 14ms/step\n",
      "Epoch 154/200\n",
      "244/244 - 4s - loss: 0.3197 - accuracy: 0.9139 - 4s/epoch - 14ms/step\n",
      "Epoch 155/200\n",
      "244/244 - 3s - loss: 0.3135 - accuracy: 0.9185 - 3s/epoch - 14ms/step\n",
      "Epoch 156/200\n",
      "244/244 - 3s - loss: 0.3105 - accuracy: 0.9159 - 3s/epoch - 14ms/step\n",
      "Epoch 157/200\n",
      "244/244 - 4s - loss: 0.3090 - accuracy: 0.9162 - 4s/epoch - 15ms/step\n",
      "Epoch 158/200\n",
      "244/244 - 3s - loss: 0.3078 - accuracy: 0.9159 - 3s/epoch - 14ms/step\n",
      "Epoch 159/200\n",
      "244/244 - 3s - loss: 0.3054 - accuracy: 0.9164 - 3s/epoch - 14ms/step\n",
      "Epoch 160/200\n",
      "244/244 - 3s - loss: 0.3046 - accuracy: 0.9171 - 3s/epoch - 14ms/step\n",
      "Epoch 161/200\n",
      "244/244 - 3s - loss: 0.3004 - accuracy: 0.9184 - 3s/epoch - 14ms/step\n",
      "Epoch 162/200\n",
      "244/244 - 3s - loss: 0.3005 - accuracy: 0.9150 - 3s/epoch - 14ms/step\n",
      "Epoch 163/200\n",
      "244/244 - 3s - loss: 0.3062 - accuracy: 0.9153 - 3s/epoch - 14ms/step\n",
      "Epoch 164/200\n",
      "244/244 - 3s - loss: 0.3204 - accuracy: 0.9144 - 3s/epoch - 14ms/step\n",
      "Epoch 165/200\n",
      "244/244 - 3s - loss: 0.3213 - accuracy: 0.9131 - 3s/epoch - 14ms/step\n",
      "Epoch 166/200\n",
      "244/244 - 3s - loss: 0.2967 - accuracy: 0.9162 - 3s/epoch - 14ms/step\n",
      "Epoch 167/200\n",
      "244/244 - 3s - loss: 0.2897 - accuracy: 0.9176 - 3s/epoch - 14ms/step\n",
      "Epoch 168/200\n",
      "244/244 - 3s - loss: 0.2886 - accuracy: 0.9162 - 3s/epoch - 14ms/step\n",
      "Epoch 169/200\n",
      "244/244 - 3s - loss: 0.2872 - accuracy: 0.9177 - 3s/epoch - 14ms/step\n",
      "Epoch 170/200\n",
      "244/244 - 3s - loss: 0.2853 - accuracy: 0.9168 - 3s/epoch - 14ms/step\n",
      "Epoch 171/200\n",
      "244/244 - 3s - loss: 0.2852 - accuracy: 0.9167 - 3s/epoch - 14ms/step\n",
      "Epoch 172/200\n",
      "244/244 - 3s - loss: 0.2842 - accuracy: 0.9163 - 3s/epoch - 14ms/step\n",
      "Epoch 173/200\n",
      "244/244 - 3s - loss: 0.2827 - accuracy: 0.9155 - 3s/epoch - 14ms/step\n",
      "Epoch 174/200\n",
      "244/244 - 3s - loss: 0.2815 - accuracy: 0.9170 - 3s/epoch - 14ms/step\n",
      "Epoch 175/200\n",
      "244/244 - 3s - loss: 0.2809 - accuracy: 0.9173 - 3s/epoch - 14ms/step\n",
      "Epoch 176/200\n",
      "244/244 - 3s - loss: 0.2809 - accuracy: 0.9167 - 3s/epoch - 14ms/step\n",
      "Epoch 177/200\n",
      "244/244 - 3s - loss: 0.2843 - accuracy: 0.9157 - 3s/epoch - 14ms/step\n",
      "Epoch 178/200\n",
      "244/244 - 3s - loss: 0.3032 - accuracy: 0.9125 - 3s/epoch - 14ms/step\n",
      "Epoch 179/200\n",
      "244/244 - 3s - loss: 0.2891 - accuracy: 0.9166 - 3s/epoch - 14ms/step\n",
      "Epoch 180/200\n",
      "244/244 - 3s - loss: 0.2792 - accuracy: 0.9172 - 3s/epoch - 14ms/step\n",
      "Epoch 181/200\n",
      "244/244 - 3s - loss: 0.2756 - accuracy: 0.9166 - 3s/epoch - 14ms/step\n",
      "Epoch 182/200\n",
      "244/244 - 3s - loss: 0.2744 - accuracy: 0.9173 - 3s/epoch - 14ms/step\n",
      "Epoch 183/200\n",
      "244/244 - 3s - loss: 0.2743 - accuracy: 0.9158 - 3s/epoch - 14ms/step\n",
      "Epoch 184/200\n",
      "244/244 - 3s - loss: 0.2730 - accuracy: 0.9149 - 3s/epoch - 14ms/step\n",
      "Epoch 185/200\n",
      "244/244 - 3s - loss: 0.2721 - accuracy: 0.9155 - 3s/epoch - 14ms/step\n",
      "Epoch 186/200\n",
      "244/244 - 3s - loss: 0.2712 - accuracy: 0.9163 - 3s/epoch - 14ms/step\n",
      "Epoch 187/200\n",
      "244/244 - 4s - loss: 0.2708 - accuracy: 0.9164 - 4s/epoch - 14ms/step\n",
      "Epoch 188/200\n",
      "244/244 - 3s - loss: 0.2701 - accuracy: 0.9164 - 3s/epoch - 14ms/step\n",
      "Epoch 189/200\n",
      "244/244 - 3s - loss: 0.2699 - accuracy: 0.9159 - 3s/epoch - 14ms/step\n",
      "Epoch 190/200\n",
      "244/244 - 3s - loss: 0.2701 - accuracy: 0.9168 - 3s/epoch - 14ms/step\n",
      "Epoch 191/200\n",
      "244/244 - 3s - loss: 0.2709 - accuracy: 0.9162 - 3s/epoch - 14ms/step\n",
      "Epoch 192/200\n",
      "244/244 - 3s - loss: 0.2689 - accuracy: 0.9159 - 3s/epoch - 14ms/step\n",
      "Epoch 193/200\n",
      "244/244 - 3s - loss: 0.2689 - accuracy: 0.9173 - 3s/epoch - 14ms/step\n",
      "Epoch 194/200\n",
      "244/244 - 3s - loss: 0.2676 - accuracy: 0.9173 - 3s/epoch - 14ms/step\n",
      "Epoch 195/200\n",
      "244/244 - 3s - loss: 0.2670 - accuracy: 0.9162 - 3s/epoch - 14ms/step\n",
      "Epoch 196/200\n",
      "244/244 - 3s - loss: 0.2728 - accuracy: 0.9157 - 3s/epoch - 14ms/step\n",
      "Epoch 197/200\n",
      "244/244 - 3s - loss: 0.2919 - accuracy: 0.9114 - 3s/epoch - 14ms/step\n"
     ]
    },
    {
     "name": "stdout",
     "output_type": "stream",
     "text": [
      "Epoch 198/200\n",
      "244/244 - 3s - loss: 0.2791 - accuracy: 0.9158 - 3s/epoch - 14ms/step\n",
      "Epoch 199/200\n",
      "244/244 - 3s - loss: 0.2693 - accuracy: 0.9171 - 3s/epoch - 14ms/step\n",
      "Epoch 200/200\n",
      "244/244 - 3s - loss: 0.2654 - accuracy: 0.9168 - 3s/epoch - 14ms/step\n"
     ]
    },
    {
     "data": {
      "text/plain": [
       "<keras.callbacks.History at 0x20e8d981e50>"
      ]
     },
     "execution_count": 57,
     "metadata": {},
     "output_type": "execute_result"
    }
   ],
   "source": [
    "embedding_dim = 10\n",
    "hidden_units = 128\n",
    "\n",
    "model = Sequential()\n",
    "model.add(Embedding(vocab_size, embedding_dim))\n",
    "model.add(LSTM(hidden_units))\n",
    "model.add(Dense(vocab_size, activation='softmax'))\n",
    "model.compile(loss='categorical_crossentropy', optimizer='adam', metrics=['accuracy'])\n",
    "model.fit(X, y, epochs=200, verbose=2)"
   ]
  },
  {
   "cell_type": "code",
   "execution_count": 58,
   "id": "ca7255dc",
   "metadata": {},
   "outputs": [],
   "source": [
    "# 문장 생성하는 함수 생성\n",
    "def sentence_generation(model, tokenizer, current_word, n): # 모델, 토크나이저, 현재 단어, 반복할 횟수\n",
    "    init_word = current_word\n",
    "    sentence = ''\n",
    "\n",
    "    # n번 반복\n",
    "    for _ in range(n):\n",
    "        encoded = tokenizer.texts_to_sequences([current_word])[0]\n",
    "        encoded = pad_sequences([encoded], maxlen=max_len-1, padding='pre')\n",
    "\n",
    "        # 입력한 X(현재 단어)에 대해서 y를 예측하고 y(예측한 단어)를 result에 저장.\n",
    "        result = model.predict(encoded, verbose=0)\n",
    "        result = np.argmax(result, axis=1)\n",
    "\n",
    "        for word, index in tokenizer.word_index.items(): \n",
    "            # 만약 예측한 단어와 인덱스와 동일한 단어가 있다면\n",
    "            if index == result:\n",
    "                break\n",
    "\n",
    "        # 현재 단어 + ' ' + 예측 단어를 현재 단어로 변경\n",
    "        current_word = current_word + ' '  + word\n",
    "\n",
    "        # 예측 단어를 문장에 저장\n",
    "        sentence = sentence + ' ' + word\n",
    "\n",
    "    sentence = init_word + sentence\n",
    "    return sentence"
   ]
  },
  {
   "cell_type": "code",
   "execution_count": 59,
   "id": "0cabaa01",
   "metadata": {},
   "outputs": [
    {
     "name": "stdout",
     "output_type": "stream",
     "text": [
      "i disapprove of school vouchers can i still apply for them\n"
     ]
    }
   ],
   "source": [
    "print(sentence_generation(model, tokenizer, 'i', 10))"
   ]
  },
  {
   "cell_type": "code",
   "execution_count": 60,
   "id": "3669f321",
   "metadata": {},
   "outputs": [
    {
     "name": "stdout",
     "output_type": "stream",
     "text": [
      "how to prevent a racist hoodie of made a broken gun\n"
     ]
    }
   ],
   "source": [
    "print(sentence_generation(model, tokenizer, 'how', 10))"
   ]
  }
 ],
 "metadata": {
  "kernelspec": {
   "display_name": "Python 3 (ipykernel)",
   "language": "python",
   "name": "python3"
  },
  "language_info": {
   "codemirror_mode": {
    "name": "ipython",
    "version": 3
   },
   "file_extension": ".py",
   "mimetype": "text/x-python",
   "name": "python",
   "nbconvert_exporter": "python",
   "pygments_lexer": "ipython3",
   "version": "3.9.12"
  },
  "toc": {
   "base_numbering": 1,
   "nav_menu": {},
   "number_sections": true,
   "sideBar": true,
   "skip_h1_title": false,
   "title_cell": "Table of Contents",
   "title_sidebar": "Contents",
   "toc_cell": false,
   "toc_position": {},
   "toc_section_display": true,
   "toc_window_display": false
  }
 },
 "nbformat": 4,
 "nbformat_minor": 5
}
