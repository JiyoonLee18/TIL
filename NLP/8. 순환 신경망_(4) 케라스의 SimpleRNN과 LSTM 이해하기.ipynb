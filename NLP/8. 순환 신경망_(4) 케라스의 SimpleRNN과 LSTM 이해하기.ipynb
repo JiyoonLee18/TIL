{
 "cells": [
  {
   "cell_type": "markdown",
   "id": "54d6fcb6",
   "metadata": {},
   "source": [
    "## 케라스의 SimpleRNN과 LSTM 이해하기\n",
    "- https://wikidocs.net/106473"
   ]
  },
  {
   "cell_type": "markdown",
   "id": "f84ca6fa",
   "metadata": {},
   "source": [
    "### 임의의 입력 생성하기"
   ]
  },
  {
   "cell_type": "code",
   "execution_count": 1,
   "id": "36f00750",
   "metadata": {},
   "outputs": [],
   "source": [
    "import numpy as np\n",
    "import tensorflow as tf\n",
    "from tensorflow.keras.layers import SimpleRNN, LSTM, Bidirectional"
   ]
  },
  {
   "cell_type": "code",
   "execution_count": 2,
   "id": "e9ebd074",
   "metadata": {},
   "outputs": [
    {
     "name": "stdout",
     "output_type": "stream",
     "text": [
      "(4, 5)\n"
     ]
    }
   ],
   "source": [
    "# 임의의 입력\n",
    "train_X = [[0.1, 4.2, 1.5, 1.1, 2.8], [1.0, 3.1, 2.5, 0.7, 1.1], [0.3, 2.1, 1.5, 2.1, 0.1], [2.2, 1.4, 0.5, 0.9, 1.1]]\n",
    "print(np.shape(train_X))"
   ]
  },
  {
   "cell_type": "markdown",
   "id": "783abe00",
   "metadata": {},
   "source": [
    "- 단어 벡터의 차원: 5, 문장의 길이가 4인 경우를 가정한 입력\n",
    "- 4번의 시점timesteps 이 존재, 각 시점마다 5차원의 단어 벡터가 입력으로 사용"
   ]
  },
  {
   "cell_type": "code",
   "execution_count": 6,
   "id": "ff645f2e",
   "metadata": {},
   "outputs": [
    {
     "name": "stdout",
     "output_type": "stream",
     "text": [
      "(1, 4, 5)\n"
     ]
    }
   ],
   "source": [
    "# RNN은 3D텐서 입력, 배치크기 1을 추가\n",
    "# 샘플 1개 -> batch_size=1\n",
    "train_X = [[[0.1, 4.2, 1.5, 1.1, 2.8], [1.0, 3.1, 2.5, 0.7, 1.1], [0.3, 2.1, 1.5, 2.1, 0.1], [2.2, 1.4, 0.5, 0.9, 1.1]]]\n",
    "train_X = np.array(train_X, dtype=np.float32)\n",
    "print(train_X.shape)"
   ]
  },
  {
   "cell_type": "markdown",
   "id": "36c4e4a7",
   "metadata": {},
   "source": [
    "### SimpleRNN 이해하기\n",
    "- 출력값 이해\n",
    "- 대표적인 인자: return_sequences, return_state\n",
    "    - 둘 다 기본값: False\n",
    "- 은닉 상태의 크기 3으로 지정\n",
    "- 실습의 경우, 은닉상태값 자체는 매번 초기화 됨"
   ]
  },
  {
   "cell_type": "code",
   "execution_count": 7,
   "id": "0f724adc",
   "metadata": {},
   "outputs": [
    {
     "name": "stdout",
     "output_type": "stream",
     "text": [
      "hidden state : [[ 0.8263546  -0.6912391   0.24077451]], shape: (1, 3)\n"
     ]
    }
   ],
   "source": [
    "rnn = SimpleRNN(3)\n",
    "# rnn = SimpleRNN(3, return_sequences=False, return_state=False)와 동일.\n",
    "hidden_state = rnn(train_X)\n",
    "\n",
    "print('hidden state : {}, shape: {}'.format(hidden_state, hidden_state.shape))"
   ]
  },
  {
   "cell_type": "code",
   "execution_count": 10,
   "id": "9a780c72",
   "metadata": {},
   "outputs": [
    {
     "name": "stdout",
     "output_type": "stream",
     "text": [
      "hidden state : [[-0.4281334  -0.6092685   0.8491458  -0.90140414]], shape: (1, 4)\n"
     ]
    }
   ],
   "source": [
    "rnn = SimpleRNN(4)\n",
    "hidden_state = rnn(train_X)\n",
    "\n",
    "print('hidden state : {}, shape: {}'.format(hidden_state, hidden_state.shape))"
   ]
  },
  {
   "cell_type": "markdown",
   "id": "86c366a1",
   "metadata": {},
   "source": [
    "- 위 텐서는 마지막 시점의 은닉상태\n",
    "    - return_sequences가 False인 경우, 마지막 시점의 은닉 상태만 출력\n",
    "- 4개의 시점 -> (1,4,3) 텐서"
   ]
  },
  {
   "cell_type": "code",
   "execution_count": 8,
   "id": "ec44a82c",
   "metadata": {},
   "outputs": [
    {
     "name": "stdout",
     "output_type": "stream",
     "text": [
      "hidden states : [[[-0.9941249   0.99920547 -0.9999953 ]\n",
      "  [-0.80643773  0.9978798  -0.9999975 ]\n",
      "  [-0.53236294  0.97828853 -0.9999607 ]\n",
      "  [-0.03321843  0.9980576  -0.9999494 ]]], shape: (1, 4, 3)\n"
     ]
    }
   ],
   "source": [
    "# return_sequences가 True인 경우\n",
    "rnn = SimpleRNN(3, return_sequences=True)\n",
    "hidden_states = rnn(train_X)\n",
    "\n",
    "print('hidden states : {}, shape: {}'.format(hidden_states, hidden_states.shape))"
   ]
  },
  {
   "cell_type": "markdown",
   "id": "a4e7e55f",
   "metadata": {},
   "source": [
    "- return_state가 True일 경우,\n",
    "    - return_sequences의 True/False 여부와 상관없이, 마지막 시점의 은닉 상태를 출력\n",
    "- return_sequences가 True, return_state를 True로 할 경우 \n",
    "    - SimpleRNN은 두 개의 출력을 리턴\n",
    "    - 첫번째 출력은 return_sequences=True로 인한 출력으로 모든 시점의 은닉 상태\n",
    "    - 두번째 출력은 return_state=True로 인한 출력으로 마지막 시점의 은닉 상태"
   ]
  },
  {
   "cell_type": "code",
   "execution_count": 11,
   "id": "82e83884",
   "metadata": {},
   "outputs": [
    {
     "name": "stdout",
     "output_type": "stream",
     "text": [
      "hidden states : [[[-0.9786546   0.9378133   0.9992005 ]\n",
      "  [-0.96820015  0.06101577  0.9907626 ]\n",
      "  [-0.87938434  0.74833053  0.8618502 ]\n",
      "  [-0.9921206  -0.5912804   0.695062  ]]], shape: (1, 4, 3)\n",
      "last hidden state : [[-0.9921206 -0.5912804  0.695062 ]], shape: (1, 3)\n"
     ]
    }
   ],
   "source": [
    "rnn = SimpleRNN(3, return_sequences=True, return_state=True)\n",
    "hidden_states, last_state = rnn(train_X)\n",
    "\n",
    "print('hidden states : {}, shape: {}'.format(hidden_states, hidden_states.shape))\n",
    "print('last hidden state : {}, shape: {}'.format(last_state, last_state.shape))"
   ]
  },
  {
   "cell_type": "markdown",
   "id": "59e25628",
   "metadata": {},
   "source": [
    "- return_sequences는 False인데, retun_state가 True인 경우\n",
    "    - 두 개의 출력 모두 마지막 시점의 은닉 상태를 출력"
   ]
  },
  {
   "cell_type": "code",
   "execution_count": 12,
   "id": "f38c47bf",
   "metadata": {},
   "outputs": [
    {
     "name": "stdout",
     "output_type": "stream",
     "text": [
      "hidden state : [[-0.01495896  0.87626815 -0.95472646]], shape: (1, 3)\n",
      "last hidden state : [[-0.01495896  0.87626815 -0.95472646]], shape: (1, 3)\n"
     ]
    }
   ],
   "source": [
    "rnn = SimpleRNN(3, return_sequences=False, return_state=True)\n",
    "hidden_state, last_state = rnn(train_X)\n",
    "\n",
    "print('hidden state : {}, shape: {}'.format(hidden_state, hidden_state.shape))\n",
    "print('last hidden state : {}, shape: {}'.format(last_state, last_state.shape))"
   ]
  },
  {
   "cell_type": "markdown",
   "id": "466c7a16",
   "metadata": {},
   "source": [
    "### LSTM 이해하기\n",
    "- 임의의 입력에 대해서 LSTM을 사용할 경우\n",
    "- return_sequences를 False, return_state가 True인 경우\n",
    "    - SimpleRNN 때와는 달리, 세 개의 결과를 반환\n",
    "    - return_sequences가 False -> 첫번째 결과는 마지막 시점의 은닉 상태\n",
    "    - 마지막 시점의 은닉 상태뿐만 아니라 셀 상태까지 반환함"
   ]
  },
  {
   "cell_type": "code",
   "execution_count": 13,
   "id": "d98d1c64",
   "metadata": {},
   "outputs": [
    {
     "name": "stdout",
     "output_type": "stream",
     "text": [
      "hidden state : [[-0.2994898  -0.0676982  -0.06696864]], shape: (1, 3)\n",
      "last hidden state : [[-0.2994898  -0.0676982  -0.06696864]], shape: (1, 3)\n",
      "last cell state : [[-0.39478138 -0.08634433 -0.534264  ]], shape: (1, 3)\n"
     ]
    }
   ],
   "source": [
    "lstm = LSTM(3, return_sequences=False, return_state=True)\n",
    "hidden_state, last_state, last_cell_state = lstm(train_X)\n",
    "\n",
    "print('hidden state : {}, shape: {}'.format(hidden_state, hidden_state.shape))\n",
    "print('last hidden state : {}, shape: {}'.format(last_state, last_state.shape))\n",
    "print('last cell state : {}, shape: {}'.format(last_cell_state, last_cell_state.shape))"
   ]
  },
  {
   "cell_type": "markdown",
   "id": "4abdac86",
   "metadata": {},
   "source": [
    "- return_sequences를 True인 경우\n",
    "    - return_state=True -> 마지막 은닉상태 출력,\n",
    "    - 마지막 셀 상태 출력\n",
    "    - return_sequences=True -> 모든 시점의 은닉상태 출력"
   ]
  },
  {
   "cell_type": "code",
   "execution_count": 14,
   "id": "b3d37ae8",
   "metadata": {},
   "outputs": [
    {
     "name": "stdout",
     "output_type": "stream",
     "text": [
      "hidden states : [[[-0.31839642 -0.4613134   0.03274506]\n",
      "  [-0.3815911  -0.22462505  0.04618236]\n",
      "  [-0.4938481  -0.18394123 -0.00670173]\n",
      "  [-0.63974935 -0.2705685  -0.13390256]]], shape: (1, 4, 3)\n",
      "last hidden state : [[-0.63974935 -0.2705685  -0.13390256]], shape: (1, 3)\n",
      "last cell state : [[-1.311013   -1.9967332  -0.22405164]], shape: (1, 3)\n"
     ]
    }
   ],
   "source": [
    "lstm = LSTM(3, return_sequences=True, return_state=True)\n",
    "hidden_states, last_hidden_state, last_cell_state = lstm(train_X)\n",
    "\n",
    "print('hidden states : {}, shape: {}'.format(hidden_states, hidden_states.shape))\n",
    "print('last hidden state : {}, shape: {}'.format(last_hidden_state, last_hidden_state.shape))\n",
    "print('last cell state : {}, shape: {}'.format(last_cell_state, last_cell_state.shape))"
   ]
  },
  {
   "cell_type": "markdown",
   "id": "ffdcb276",
   "metadata": {},
   "source": [
    "### Bidirectional(LSTM) 이해하기\n",
    "- 양방향 LSTM 출력값 확인\n",
    "- 은닉 상태의 값 고정"
   ]
  },
  {
   "cell_type": "code",
   "execution_count": 15,
   "id": "1339412e",
   "metadata": {},
   "outputs": [],
   "source": [
    "k_init = tf.keras.initializers.Constant(value=0.1)\n",
    "b_init = tf.keras.initializers.Constant(value=0)\n",
    "r_init = tf.keras.initializers.Constant(value=0.1)"
   ]
  },
  {
   "cell_type": "markdown",
   "id": "a9b1be38",
   "metadata": {},
   "source": [
    "- return_sequences가 False, return_state가 True인 경우\n",
    "    - 첫번째 출력값: 크기 (1,6)\n",
    "        - 정방향 LSTM의 마지막 시점의 은닉 상태와 역방향 LSTM의 첫번째 시점의 은닉 상태가 연결된 채 반환\n",
    "    - return_state=True 인 경우\n",
    "        - 4가지 반환: 정방향 LSTM의 은닉상태, 셀 상태, 역방향 LSTM의 은닉상태, 셀 상태\n",
    "        - 셀 상태는 각각 forward_c와 backward_c에 저장만 하고 출력하지 않음\n",
    "        - forward_h와 backward_h: 각각 정방향 LSTM의 마지막 시점의 은닉 상태와 역방향 LSTM의 첫번째 시점의 은닉 상태값"
   ]
  },
  {
   "cell_type": "code",
   "execution_count": 17,
   "id": "54262e97",
   "metadata": {},
   "outputs": [],
   "source": [
    "# 무려 5개의 값을 반환\n",
    "# 이라고 되어 있는데 어디가 5개?"
   ]
  },
  {
   "cell_type": "code",
   "execution_count": 16,
   "id": "49d2f44f",
   "metadata": {},
   "outputs": [
    {
     "name": "stdout",
     "output_type": "stream",
     "text": [
      "hidden states : [[0.6303138 0.6303138 0.6303138 0.7038734 0.7038734 0.7038734]], shape: (1, 6)\n",
      "forward state : [[0.6303138 0.6303138 0.6303138]], shape: (1, 3)\n",
      "backward state : [[0.7038734 0.7038734 0.7038734]], shape: (1, 3)\n"
     ]
    }
   ],
   "source": [
    "bilstm = Bidirectional(LSTM(3, return_sequences=False, return_state=True, \\\n",
    "                            kernel_initializer=k_init, bias_initializer=b_init, recurrent_initializer=r_init))\n",
    "hidden_states, forward_h, forward_c, backward_h, backward_c = bilstm(train_X)\n",
    "\n",
    "print('hidden states : {}, shape: {}'.format(hidden_states, hidden_states.shape))\n",
    "print('forward state : {}, shape: {}'.format(forward_h, forward_h.shape))\n",
    "print('backward state : {}, shape: {}'.format(backward_h, backward_h.shape))"
   ]
  },
  {
   "cell_type": "markdown",
   "id": "2f2d0b25",
   "metadata": {},
   "source": [
    "- 정방향 LSTM의 마지막 시점의 은닉 상태값 : [0.6303139 0.6303139 0.6303139]\n",
    "- 역방향 LSTM의 첫번째 시점의 은닉 상태값 : [0.70387346 0.70387346 0.70387346]"
   ]
  },
  {
   "cell_type": "markdown",
   "id": "21113e37",
   "metadata": {},
   "source": [
    "- return_sequences를 True로 할 경우\n",
    "    - hidden states의 출력값에서는 이제 모든 시점의 은닉 상태가 출력\n",
    "    - 역방향 LSTM의 첫번째 시점의 은닉 상태는 더 이상 정방향 LSTM의 마지막 시점의 은닉 상태와 연결되는 것이 아니라 정방향 LSTM의 첫번째 시점의 은닉 상태와 연결됨"
   ]
  },
  {
   "attachments": {
    "image.png": {
     "image/png": "[encoded data removed]"
    }
   },
   "cell_type": "markdown",
   "id": "9b07584d",
   "metadata": {},
   "source": [
    "![image.png](attachment:image.png)"
   ]
  },
  {
   "cell_type": "code",
   "execution_count": 18,
   "id": "8cffb7fa",
   "metadata": {},
   "outputs": [],
   "source": [
    "bilstm = Bidirectional(LSTM(3, return_sequences=True, return_state=True, \\\n",
    "                            kernel_initializer=k_init, bias_initializer=b_init, recurrent_initializer=r_init))\n",
    "hidden_states, forward_h, forward_c, backward_h, backward_c = bilstm(train_X)"
   ]
  },
  {
   "cell_type": "code",
   "execution_count": 19,
   "id": "c5eb366a",
   "metadata": {},
   "outputs": [
    {
     "name": "stdout",
     "output_type": "stream",
     "text": [
      "hidden states : [[[0.35906473 0.35906473 0.35906473 0.7038734  0.7038734  0.7038734 ]\n",
      "  [0.55111325 0.55111325 0.55111325 0.58863586 0.58863586 0.58863586]\n",
      "  [0.59115744 0.59115744 0.59115744 0.3951699  0.3951699  0.3951699 ]\n",
      "  [0.6303138  0.6303138  0.6303138  0.21942244 0.21942244 0.21942244]]], shape: (1, 4, 6)\n",
      "forward state : [[0.6303138 0.6303138 0.6303138]], shape: (1, 3)\n",
      "backward state : [[0.7038734 0.7038734 0.7038734]], shape: (1, 3)\n"
     ]
    }
   ],
   "source": [
    "print('hidden states : {}, shape: {}'.format(hidden_states, hidden_states.shape))\n",
    "print('forward state : {}, shape: {}'.format(forward_h, forward_h.shape))\n",
    "print('backward state : {}, shape: {}'.format(backward_h, backward_h.shape))"
   ]
  },
  {
   "cell_type": "code",
   "execution_count": null,
   "id": "5e57fd05",
   "metadata": {},
   "outputs": [],
   "source": []
  }
 ],
 "metadata": {
  "kernelspec": {
   "display_name": "Python 3 (ipykernel)",
   "language": "python",
   "name": "python3"
  },
  "language_info": {
   "codemirror_mode": {
    "name": "ipython",
    "version": 3
   },
   "file_extension": ".py",
   "mimetype": "text/x-python",
   "name": "python",
   "nbconvert_exporter": "python",
   "pygments_lexer": "ipython3",
   "version": "3.9.12"
  },
  "toc": {
   "base_numbering": 1,
   "nav_menu": {},
   "number_sections": true,
   "sideBar": true,
   "skip_h1_title": false,
   "title_cell": "Table of Contents",
   "title_sidebar": "Contents",
   "toc_cell": false,
   "toc_position": {},
   "toc_section_display": true,
   "toc_window_display": false
  }
 },
 "nbformat": 4,
 "nbformat_minor": 5
}
