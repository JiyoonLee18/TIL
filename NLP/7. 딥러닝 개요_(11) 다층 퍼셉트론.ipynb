{
 "cells": [
  {
   "cell_type": "markdown",
   "id": "8c6d3e17",
   "metadata": {},
   "source": [
    "## 다층 퍼셉트론(MultiLayer Perceptron, MLP)으로 텍스트 분류하기"
   ]
  },
  {
   "cell_type": "markdown",
   "id": "f3b6a8f1",
   "metadata": {},
   "source": [
    "### 다층 퍼셉트론(MultiLayer Perceptron, MLP)\n",
    "- 단층 퍼셉트론의 형태에서 은닉층이 1개 이상 추가된 신경망\n",
    "- 피드 포워드 신경망(Feed Forward Neural Network, FFNN)의 가장 기본적인 형태\n",
    "- 순환 신경망(RNN)과 분산 표현(distributed representation) 없이 MLP만 활용해 자연어 처리 진행"
   ]
  },
  {
   "cell_type": "markdown",
   "id": "05dfc770",
   "metadata": {},
   "source": [
    "### 케라스의 texts_to_matrix() 이해하기\n",
    "- 케라스 Tokenizer의 texts_to_matrix()\n",
    "- texts_to_matrix(): 입력된 텍스트 데이터로부터 행렬(matrix)를 만드는 도구\n",
    "    - 총 4개의 모드를 지원\n",
    "    - 'binary', 'count', 'freq', 'tfidf'"
   ]
  },
  {
   "cell_type": "code",
   "execution_count": 1,
   "id": "5b45a670",
   "metadata": {},
   "outputs": [],
   "source": [
    "import numpy as np\n",
    "from tensorflow.keras.preprocessing.text import Tokenizer"
   ]
  },
  {
   "cell_type": "code",
   "execution_count": 2,
   "id": "fc4e73a0",
   "metadata": {},
   "outputs": [
    {
     "name": "stdout",
     "output_type": "stream",
     "text": [
      "{'바나나': 1, '먹고': 2, '싶은': 3, '사과': 4, '길고': 5, '노란': 6, '저는': 7, '과일이': 8, '좋아요': 9}\n"
     ]
    }
   ],
   "source": [
    "texts = ['먹고 싶은 사과', '먹고 싶은 바나나', '길고 노란 바나나 바나나', '저는 과일이 좋아요']\n",
    "\n",
    "# 정수 인코딩 수행\n",
    "tokenizer = Tokenizer()\n",
    "tokenizer.fit_on_texts(texts)\n",
    "print(tokenizer.word_index)"
   ]
  },
  {
   "cell_type": "markdown",
   "id": "b06c1b1b",
   "metadata": {},
   "source": [
    "- count모드: 문서 단어 행렬(Document-Term Matrix, DTM)을 생성\n",
    "    - DTM에서의 인덱스는 앞서 확인한 word_index의 결과\n",
    "    - 각 단어에 부여되는 인덱스는 1부터 시작하는 반면에 완성되는 행렬의 인덱스는 0부터 시작\n",
    "        - 단어의 개수는 9개였지만 완성된 행렬의 열의 개수는 10개\n",
    "        - 첫번째 열은 모든 행에서 값이 0"
   ]
  },
  {
   "cell_type": "code",
   "execution_count": 3,
   "id": "92753fb2",
   "metadata": {},
   "outputs": [
    {
     "name": "stdout",
     "output_type": "stream",
     "text": [
      "[[0. 0. 1. 1. 1. 0. 0. 0. 0. 0.]\n",
      " [0. 1. 1. 1. 0. 0. 0. 0. 0. 0.]\n",
      " [0. 2. 0. 0. 0. 1. 1. 0. 0. 0.]\n",
      " [0. 0. 0. 0. 0. 0. 0. 1. 1. 1.]]\n"
     ]
    }
   ],
   "source": [
    "# texts_to_matrix의 입력으로 texts를 넣고, 모드는 'count'\n",
    "print(tokenizer.texts_to_matrix(texts, mode = 'count')) "
   ]
  },
  {
   "cell_type": "markdown",
   "id": "1d7f1356",
   "metadata": {},
   "source": [
    "- binary모드: 해당 단어가 존재하면 1, 단어가 존재하지 않으면 0의 값을 가짐\n",
    "    - 즉, 단어의 존재 유무로만 행렬을 표현"
   ]
  },
  {
   "cell_type": "code",
   "execution_count": 4,
   "id": "90e0be03",
   "metadata": {},
   "outputs": [
    {
     "name": "stdout",
     "output_type": "stream",
     "text": [
      "[[0. 0. 1. 1. 1. 0. 0. 0. 0. 0.]\n",
      " [0. 1. 1. 1. 0. 0. 0. 0. 0. 0.]\n",
      " [0. 1. 0. 0. 0. 1. 1. 0. 0. 0.]\n",
      " [0. 0. 0. 0. 0. 0. 0. 1. 1. 1.]]\n"
     ]
    }
   ],
   "source": [
    "print(tokenizer.texts_to_matrix(texts, mode = 'binary'))"
   ]
  },
  {
   "cell_type": "markdown",
   "id": "6b70ecfd",
   "metadata": {},
   "source": [
    "- tfidf모드: TF-IDF 행렬을 만듦\n",
    "    - TF-IDF 실습에서 배운 기본식이나 사이킷런의 TfidfVectorizer에서 사용하는 식이랑 조금 차이가 있음\n",
    "        - 앞서 배운 기본식에서 TF는 각 문서에서의 각 단어의 빈도\n",
    "        - 'tfidf' 모드에서는 TF를 각 문서에서의 각 단어의 빈도에 자연 로그를 씌우고 1을 더한 값으로 정의\n",
    "        - idf에서는 앞서 배운 기본식에서 로그는 자연 로그를 사용하고, 로그 안의 분수에 1을 추가로 더함"
   ]
  },
  {
   "cell_type": "code",
   "execution_count": 5,
   "id": "03499479",
   "metadata": {},
   "outputs": [
    {
     "name": "stdout",
     "output_type": "stream",
     "text": [
      "[[0.   0.   0.85 0.85 1.1  0.   0.   0.   0.   0.  ]\n",
      " [0.   0.85 0.85 0.85 0.   0.   0.   0.   0.   0.  ]\n",
      " [0.   1.43 0.   0.   0.   1.1  1.1  0.   0.   0.  ]\n",
      " [0.   0.   0.   0.   0.   0.   0.   1.1  1.1  1.1 ]]\n"
     ]
    }
   ],
   "source": [
    "# 둘째 자리까지 반올림하여 출력\n",
    "print(tokenizer.texts_to_matrix(texts, mode = 'tfidf').round(2)) "
   ]
  },
  {
   "cell_type": "markdown",
   "id": "6043dae3",
   "metadata": {},
   "source": [
    "- freq모드: 각 문서에서의 각 단어의 등장 횟수를 분자로, 각 문서의 크기(각 문서에서 등장한 모든 단어의 개수의 총 합)를 분모로 하는 표현 방법\n",
    "    - 예) 세번째 행: 문서의 크기 4, 바나나 총 2번 등장 -> 0.5"
   ]
  },
  {
   "cell_type": "code",
   "execution_count": 6,
   "id": "231deb2e",
   "metadata": {},
   "outputs": [
    {
     "name": "stdout",
     "output_type": "stream",
     "text": [
      "[[0.   0.   0.33 0.33 0.33 0.   0.   0.   0.   0.  ]\n",
      " [0.   0.33 0.33 0.33 0.   0.   0.   0.   0.   0.  ]\n",
      " [0.   0.5  0.   0.   0.   0.25 0.25 0.   0.   0.  ]\n",
      " [0.   0.   0.   0.   0.   0.   0.   0.33 0.33 0.33]]\n"
     ]
    }
   ],
   "source": [
    "print(tokenizer.texts_to_matrix(texts, mode = 'freq').round(2))"
   ]
  },
  {
   "cell_type": "markdown",
   "id": "5dd91f74",
   "metadata": {},
   "source": [
    "### 20개 뉴스 그룹(Twenty Newsgroups) 데이터에 대한 이해\n",
    "- 사이킷런에서는 20개의 다른 주제를 가진 18,846개의 뉴스 그룹 이메일 데이터를 제공\n",
    "- 실습의 목적은 테스트 데이터에서 이메일 본문을 보고 20개의 주제 중 어떤 주제인지를 맞추는 것"
   ]
  },
  {
   "cell_type": "code",
   "execution_count": 7,
   "id": "d5ab622c",
   "metadata": {},
   "outputs": [],
   "source": [
    "import pandas as pd\n",
    "from sklearn.datasets import fetch_20newsgroups\n",
    "import matplotlib.pyplot as plt\n",
    "from tensorflow.keras.preprocessing.text import Tokenizer\n",
    "from tensorflow.keras.utils import to_categorical"
   ]
  },
  {
   "cell_type": "code",
   "execution_count": 8,
   "id": "5573df64",
   "metadata": {},
   "outputs": [],
   "source": [
    "newsdata = fetch_20newsgroups(subset = 'train') # 'train'을 기재하면 훈련 데이터만 리턴한다."
   ]
  },
  {
   "cell_type": "markdown",
   "id": "357bdb87",
   "metadata": {},
   "source": [
    "- subset의 값으로 'all'을 넣으면 전체 데이터인 18,846개의 샘플을 다운로드\n",
    "- train을 넣으면 훈련 데이터를, test를 넣으면 테스트 데이터를 다운로드\n",
    "- newsdata.keys(): 해당 데이터의 속성 확인 가능"
   ]
  },
  {
   "cell_type": "code",
   "execution_count": 9,
   "id": "5e3cfab4",
   "metadata": {},
   "outputs": [
    {
     "name": "stdout",
     "output_type": "stream",
     "text": [
      "dict_keys(['data', 'filenames', 'target_names', 'target', 'DESCR'])\n"
     ]
    }
   ],
   "source": [
    "print(newsdata.keys())"
   ]
  },
  {
   "cell_type": "code",
   "execution_count": 13,
   "id": "77580b63",
   "metadata": {},
   "outputs": [
    {
     "name": "stdout",
     "output_type": "stream",
     "text": [
      "훈련용 샘플의 개수 : 11314\n"
     ]
    }
   ],
   "source": [
    "# 훈련용 샘플의 개수\n",
    "print('훈련용 샘플의 개수 : {}'.format(len(newsdata.data)))"
   ]
  },
  {
   "cell_type": "code",
   "execution_count": 16,
   "id": "65ef6f33",
   "metadata": {},
   "outputs": [
    {
     "name": "stdout",
     "output_type": "stream",
     "text": [
      "총 주제의 개수 : 20\n",
      "['alt.atheism', 'comp.graphics', 'comp.os.ms-windows.misc', 'comp.sys.ibm.pc.hardware', 'comp.sys.mac.hardware', 'comp.windows.x', 'misc.forsale', 'rec.autos', 'rec.motorcycles', 'rec.sport.baseball', 'rec.sport.hockey', 'sci.crypt', 'sci.electronics', 'sci.med', 'sci.space', 'soc.religion.christian', 'talk.politics.guns', 'talk.politics.mideast', 'talk.politics.misc', 'talk.religion.misc']\n"
     ]
    }
   ],
   "source": [
    "# 어떤 주제가 있는지 확인\n",
    "print('총 주제의 개수 : {}'.format(len(newsdata.target_names)))\n",
    "print(newsdata.target_names)"
   ]
  },
  {
   "cell_type": "code",
   "execution_count": 17,
   "id": "8382cb40",
   "metadata": {},
   "outputs": [
    {
     "name": "stdout",
     "output_type": "stream",
     "text": [
      "첫번째 샘플의 레이블 : 7\n"
     ]
    }
   ],
   "source": [
    "# 첫번째 샘플의 경우에는 몇 번 주제인지 확인\n",
    "print('첫번째 샘플의 레이블 : {}'.format(newsdata.target[0]))"
   ]
  },
  {
   "cell_type": "code",
   "execution_count": 18,
   "id": "c6354a85",
   "metadata": {},
   "outputs": [
    {
     "name": "stdout",
     "output_type": "stream",
     "text": [
      "7번 레이블이 의미하는 주제 : rec.autos\n"
     ]
    }
   ],
   "source": [
    "# 7이 실제로 어떤 주제를 나타내는지는 target_names[] 안에 숫자를 입력하여 확인 가능\n",
    "print('7번 레이블이 의미하는 주제 : {}'.format(newsdata.target_names[7]))"
   ]
  },
  {
   "cell_type": "code",
   "execution_count": 19,
   "id": "9f7d4e29",
   "metadata": {},
   "outputs": [
    {
     "name": "stdout",
     "output_type": "stream",
     "text": [
      "From: lerxst@wam.umd.edu (where's my thing)\n",
      "Subject: WHAT car is this!?\n",
      "Nntp-Posting-Host: rac3.wam.umd.edu\n",
      "Organization: University of Maryland, College Park\n",
      "Lines: 15\n",
      "\n",
      " I was wondering if anyone out there could enlighten me on this car I saw\n",
      "the other day. It was a 2-door sports car, looked to be from the late 60s/\n",
      "early 70s. It was called a Bricklin. The doors were really small. In addition,\n",
      "the front bumper was separate from the rest of the body. This is \n",
      "all I know. If anyone can tellme a model name, engine specs, years\n",
      "of production, where this car is made, history, or whatever info you\n",
      "have on this funky looking car, please e-mail.\n",
      "\n",
      "Thanks,\n",
      "- IL\n",
      "   ---- brought to you by your neighborhood Lerxst ----\n",
      "\n",
      "\n",
      "\n",
      "\n",
      "\n"
     ]
    }
   ],
   "source": [
    "print(newsdata.data[0]) # 첫번째 샘플 출력\n",
    "# 이메일의 내용을 보니 스포츠 카에 대한 글"
   ]
  },
  {
   "cell_type": "code",
   "execution_count": 20,
   "id": "9cfa790d",
   "metadata": {},
   "outputs": [
    {
     "data": {
      "text/html": [
       "<div>\n",
       "<style scoped>\n",
       "    .dataframe tbody tr th:only-of-type {\n",
       "        vertical-align: middle;\n",
       "    }\n",
       "\n",
       "    .dataframe tbody tr th {\n",
       "        vertical-align: top;\n",
       "    }\n",
       "\n",
       "    .dataframe thead th {\n",
       "        text-align: right;\n",
       "    }\n",
       "</style>\n",
       "<table border=\"1\" class=\"dataframe\">\n",
       "  <thead>\n",
       "    <tr style=\"text-align: right;\">\n",
       "      <th></th>\n",
       "      <th>email</th>\n",
       "      <th>target</th>\n",
       "    </tr>\n",
       "  </thead>\n",
       "  <tbody>\n",
       "    <tr>\n",
       "      <th>0</th>\n",
       "      <td>From: lerxst@wam.umd.edu (where's my thing)\\nS...</td>\n",
       "      <td>7</td>\n",
       "    </tr>\n",
       "    <tr>\n",
       "      <th>1</th>\n",
       "      <td>From: guykuo@carson.u.washington.edu (Guy Kuo)...</td>\n",
       "      <td>4</td>\n",
       "    </tr>\n",
       "    <tr>\n",
       "      <th>2</th>\n",
       "      <td>From: twillis@ec.ecn.purdue.edu (Thomas E Will...</td>\n",
       "      <td>4</td>\n",
       "    </tr>\n",
       "    <tr>\n",
       "      <th>3</th>\n",
       "      <td>From: jgreen@amber (Joe Green)\\nSubject: Re: W...</td>\n",
       "      <td>1</td>\n",
       "    </tr>\n",
       "    <tr>\n",
       "      <th>4</th>\n",
       "      <td>From: jcm@head-cfa.harvard.edu (Jonathan McDow...</td>\n",
       "      <td>14</td>\n",
       "    </tr>\n",
       "  </tbody>\n",
       "</table>\n",
       "</div>"
      ],
      "text/plain": [
       "                                               email  target\n",
       "0  From: lerxst@wam.umd.edu (where's my thing)\\nS...       7\n",
       "1  From: guykuo@carson.u.washington.edu (Guy Kuo)...       4\n",
       "2  From: twillis@ec.ecn.purdue.edu (Thomas E Will...       4\n",
       "3  From: jgreen@amber (Joe Green)\\nSubject: Re: W...       1\n",
       "4  From: jcm@head-cfa.harvard.edu (Jonathan McDow...      14"
      ]
     },
     "execution_count": 20,
     "metadata": {},
     "output_type": "execute_result"
    }
   ],
   "source": [
    "# 훈련에 사용될 메일 본문인 data와 레이블인 target을 데이터프레임으로 생성\n",
    "# 데이터에 대한 통계적인 정보 확인\n",
    "data = pd.DataFrame(newsdata.data, columns = ['email'])\n",
    "data['target'] = pd.Series(newsdata.target)\n",
    "data[:5]"
   ]
  },
  {
   "cell_type": "code",
   "execution_count": 21,
   "id": "4846b792",
   "metadata": {},
   "outputs": [
    {
     "name": "stdout",
     "output_type": "stream",
     "text": [
      "<class 'pandas.core.frame.DataFrame'>\n",
      "RangeIndex: 11314 entries, 0 to 11313\n",
      "Data columns (total 2 columns):\n",
      " #   Column  Non-Null Count  Dtype \n",
      "---  ------  --------------  ----- \n",
      " 0   email   11314 non-null  object\n",
      " 1   target  11314 non-null  int32 \n",
      "dtypes: int32(1), object(1)\n",
      "memory usage: 132.7+ KB\n"
     ]
    }
   ],
   "source": [
    "data.info()\n",
    "# news열은 문자열, target열은 정수형 데이터"
   ]
  },
  {
   "cell_type": "code",
   "execution_count": 22,
   "id": "6c4238c5",
   "metadata": {},
   "outputs": [
    {
     "data": {
      "text/plain": [
       "False"
      ]
     },
     "execution_count": 22,
     "metadata": {},
     "output_type": "execute_result"
    }
   ],
   "source": [
    "data.isnull().values.any()\n",
    "# Null 값을 가진 샘플이 있는지 isnull().values.any()로도 확인 가능\n",
    "# false =  Null 값은 없음을 의미"
   ]
  },
  {
   "cell_type": "code",
   "execution_count": 23,
   "id": "514a31e7",
   "metadata": {},
   "outputs": [
    {
     "name": "stdout",
     "output_type": "stream",
     "text": [
      "중복을 제외한 샘플의 수 : 11314\n",
      "중복을 제외한 주제의 수 : 20\n"
     ]
    }
   ],
   "source": [
    "# nunique()를 통해 샘플 중 중복을 제거한 개수를 확인 가능\n",
    "print('중복을 제외한 샘플의 수 : {}'.format(data['email'].nunique()))\n",
    "print('중복을 제외한 주제의 수 : {}'.format(data['target'].nunique()))"
   ]
  },
  {
   "cell_type": "code",
   "execution_count": 24,
   "id": "7678d056",
   "metadata": {},
   "outputs": [
    {
     "data": {
      "image/png": "[encoded data removed]",
      "text/plain": [
       "<Figure size 432x288 with 1 Axes>"
      ]
     },
     "metadata": {
      "needs_background": "light"
     },
     "output_type": "display_data"
    }
   ],
   "source": [
    "# 레이블 값의 분포를 시각화\n",
    "data['target'].value_counts().plot(kind='bar');"
   ]
  },
  {
   "cell_type": "code",
   "execution_count": 25,
   "id": "dd057968",
   "metadata": {},
   "outputs": [],
   "source": [
    "# 데이터프레임으로부터 다시 메일 본문과 레이블을 분리\n",
    "# 테스트 데이터 또한 불러오기\n",
    "# 훈련 데이터와 테스트 데이터의 본문과 레이블을 각각 저장\n",
    "newsdata_test = fetch_20newsgroups(subset='test', shuffle=True)\n",
    "train_email = data['email']\n",
    "train_label = data['target']\n",
    "test_email = newsdata_test.data\n",
    "test_label = newsdata_test.target"
   ]
  },
  {
   "cell_type": "markdown",
   "id": "dceb54f8",
   "metadata": {},
   "source": [
    "- 케라스의 토크나이저 도구를 사용하여 전처리를 진행\n",
    "- 필요한 변수들을 정의\n",
    "    - vocab_size는 이번 실습에서 사용할 최대 단어 개수를 정의하는 변수\n",
    "    - 빈도수 순으로 인덱스를 부여하므로, 빈도수가 가장 높은 상위 vocab_size 개수만큼의 단어를 사용"
   ]
  },
  {
   "cell_type": "code",
   "execution_count": 27,
   "id": "230e1611",
   "metadata": {},
   "outputs": [],
   "source": [
    "vocab_size = 10000\n",
    "num_classes = 20"
   ]
  },
  {
   "cell_type": "code",
   "execution_count": 28,
   "id": "30012bba",
   "metadata": {},
   "outputs": [],
   "source": [
    "def prepare_data(train_data, test_data, mode): # 전처리 함수\n",
    "    tokenizer = Tokenizer(num_words = vocab_size) # vocab_size 개수만큼의 단어만 사용한다.\n",
    "    tokenizer.fit_on_texts(train_data)\n",
    "    X_train = tokenizer.texts_to_matrix(train_data, mode=mode) # 샘플 수 × vocab_size 크기의 행렬 생성\n",
    "    X_test = tokenizer.texts_to_matrix(test_data, mode=mode) # 샘플 수 × vocab_size 크기의 행렬 생성\n",
    "    return X_train, X_test, tokenizer.index_word"
   ]
  },
  {
   "cell_type": "code",
   "execution_count": 32,
   "id": "2d8c88a1",
   "metadata": {},
   "outputs": [
    {
     "data": {
      "text/plain": [
       "20"
      ]
     },
     "execution_count": 32,
     "metadata": {},
     "output_type": "execute_result"
    }
   ],
   "source": [
    "train_label.nunique()"
   ]
  },
  {
   "cell_type": "code",
   "execution_count": 33,
   "id": "a5a4124d",
   "metadata": {},
   "outputs": [],
   "source": [
    "X_train, X_test, index_to_word = prepare_data(train_email, test_email, 'binary') # binary 모드로 변환\n",
    "y_train = to_categorical(train_label, num_classes) # 원-핫 인코딩\n",
    "y_test = to_categorical(test_label, num_classes) # 원-핫 인코딩"
   ]
  },
  {
   "cell_type": "code",
   "execution_count": 34,
   "id": "64b7326f",
   "metadata": {},
   "outputs": [
    {
     "name": "stdout",
     "output_type": "stream",
     "text": [
      "훈련 샘플 본문의 크기 : (11314, 10000)\n",
      "훈련 샘플 레이블의 크기 : (11314, 20)\n",
      "테스트 샘플 본문의 크기 : (7532, 10000)\n",
      "테스트 샘플 레이블의 크기 : (7532, 20)\n"
     ]
    }
   ],
   "source": [
    "print('훈련 샘플 본문의 크기 : {}'.format(X_train.shape))\n",
    "print('훈련 샘플 레이블의 크기 : {}'.format(y_train.shape))\n",
    "print('테스트 샘플 본문의 크기 : {}'.format(X_test.shape))\n",
    "print('테스트 샘플 레이블의 크기 : {}'.format(y_test.shape))"
   ]
  },
  {
   "cell_type": "code",
   "execution_count": 35,
   "id": "901ecd6a",
   "metadata": {},
   "outputs": [
    {
     "name": "stdout",
     "output_type": "stream",
     "text": [
      "빈도수 상위 1번 단어 : the\n",
      "빈도수 상위 9999번 단어 : mic\n"
     ]
    }
   ],
   "source": [
    "# 정수 인덱스는 1부터 시작하지만, 행렬의 인덱스는 0부터 시작하여 0번 인덱스는 사용되지 않으므로\n",
    "# index_to_word[1] 확인\n",
    "# 불용어에 해당되는 단어 'the'가 빈도수 상위 1번 단어가 된 것을 확인 가능\n",
    "print('빈도수 상위 1번 단어 : {}'.format(index_to_word[1]))\n",
    "print('빈도수 상위 9999번 단어 : {}'.format(index_to_word[9999]))"
   ]
  },
  {
   "cell_type": "markdown",
   "id": "24bdd322",
   "metadata": {},
   "source": [
    "### 다층 퍼셉트론(Multilayer Perceptron, MLP)을 사용하여 텍스트 분류하기\n",
    "- 모델을 설계"
   ]
  },
  {
   "cell_type": "code",
   "execution_count": 36,
   "id": "eecb4249",
   "metadata": {},
   "outputs": [],
   "source": [
    "from tensorflow.keras.models import Sequential\n",
    "from tensorflow.keras.layers import Dense, Dropout"
   ]
  },
  {
   "cell_type": "code",
   "execution_count": 37,
   "id": "771d9a0b",
   "metadata": {},
   "outputs": [],
   "source": [
    "def fit_and_evaluate(X_train, y_train, X_test, y_test):\n",
    "    model = Sequential()\n",
    "    model.add(Dense(256, input_shape=(vocab_size,), activation='relu'))\n",
    "    model.add(Dropout(0.5))\n",
    "    model.add(Dense(128, activation='relu'))\n",
    "    model.add(Dropout(0.5))\n",
    "    model.add(Dense(num_classes, activation='softmax'))\n",
    "\n",
    "    model.compile(loss='categorical_crossentropy', optimizer='adam', metrics=['accuracy'])\n",
    "    model.fit(X_train, y_train, batch_size=128, epochs=5, verbose=1, validation_split=0.1)\n",
    "    score = model.evaluate(X_test, y_test, batch_size=128, verbose=0)\n",
    "    return score[1]"
   ]
  },
  {
   "attachments": {
    "image.png": {
     "image/png": "[encoded data removed]"
    }
   },
   "cell_type": "markdown",
   "id": "b30a6a38",
   "metadata": {},
   "source": [
    "![image.png](attachment:image.png)"
   ]
  },
  {
   "cell_type": "markdown",
   "id": "979f32b2",
   "metadata": {},
   "source": [
    "- 설계한 다층 퍼셉트론은 총 4개의 층을 가지고 있음\n",
    "- vocab_size의 크기를 가진 입력층, 256개의 뉴런을 가진 첫번째 은닉층, 128개의 뉴런을 가진 두번째 은닉층, num_classes의 크기를 가진 출력층\n",
    "- 은닉층이 2개이므로 깊은 신경망(Deep Neural Network, DNN)\n",
    "- 과적합을 막기 위해서 두 번의 드롭아웃(Dropout)을 적용\n",
    "- 다중 클래스 분류 문제\n",
    "    - 다중 클래스 분류 문제이므로 출력층의 활성화 함수로는 소프트맥스 함수를 사용\n",
    "    - 손실 함수로는 크로스 엔트로피(categorical_crossentropy) 함수를 사용"
   ]
  },
  {
   "cell_type": "markdown",
   "id": "d2a42aa0",
   "metadata": {},
   "source": [
    "- 모델 훈련\n",
    "    - texts_to_matrix()의 4개의 모드에 대해서 전부 모델의 결과를 확인\n",
    "    - freq모드에서만 정확도가 낮음, 적절한 전처리 방법이 아님"
   ]
  },
  {
   "cell_type": "code",
   "execution_count": 38,
   "id": "a400d5cb",
   "metadata": {},
   "outputs": [
    {
     "name": "stdout",
     "output_type": "stream",
     "text": [
      "Epoch 1/5\n",
      "80/80 [==============================] - 2s 18ms/step - loss: 2.3195 - accuracy: 0.3390 - val_loss: 0.9688 - val_accuracy: 0.8189\n",
      "Epoch 2/5\n",
      "80/80 [==============================] - 1s 16ms/step - loss: 0.8695 - accuracy: 0.7633 - val_loss: 0.4510 - val_accuracy: 0.8984\n",
      "Epoch 3/5\n",
      "80/80 [==============================] - 1s 15ms/step - loss: 0.4398 - accuracy: 0.8829 - val_loss: 0.3485 - val_accuracy: 0.8984\n",
      "Epoch 4/5\n",
      "80/80 [==============================] - 1s 16ms/step - loss: 0.2632 - accuracy: 0.9358 - val_loss: 0.2993 - val_accuracy: 0.9178\n",
      "Epoch 5/5\n",
      "80/80 [==============================] - 1s 16ms/step - loss: 0.1682 - accuracy: 0.9582 - val_loss: 0.2892 - val_accuracy: 0.9170\n",
      "binary 모드의 테스트 정확도: 0.8289963006973267\n",
      "Epoch 1/5\n",
      "80/80 [==============================] - 2s 18ms/step - loss: 2.7903 - accuracy: 0.2475 - val_loss: 1.5767 - val_accuracy: 0.7491\n",
      "Epoch 2/5\n",
      "80/80 [==============================] - 1s 15ms/step - loss: 1.4621 - accuracy: 0.6289 - val_loss: 0.7301 - val_accuracy: 0.8410\n",
      "Epoch 3/5\n",
      "80/80 [==============================] - 1s 15ms/step - loss: 0.7859 - accuracy: 0.8091 - val_loss: 0.5290 - val_accuracy: 0.8737\n",
      "Epoch 4/5\n",
      "80/80 [==============================] - 1s 15ms/step - loss: 0.5052 - accuracy: 0.8788 - val_loss: 0.4120 - val_accuracy: 0.8949\n",
      "Epoch 5/5\n",
      "80/80 [==============================] - 1s 16ms/step - loss: 0.3845 - accuracy: 0.9125 - val_loss: 0.4063 - val_accuracy: 0.8913\n",
      "count 모드의 테스트 정확도: 0.8142591714859009\n",
      "Epoch 1/5\n",
      "80/80 [==============================] - 2s 18ms/step - loss: 2.2847 - accuracy: 0.3439 - val_loss: 0.8317 - val_accuracy: 0.8216\n",
      "Epoch 2/5\n",
      "80/80 [==============================] - 1s 16ms/step - loss: 0.8518 - accuracy: 0.7604 - val_loss: 0.4271 - val_accuracy: 0.8887\n",
      "Epoch 3/5\n",
      "80/80 [==============================] - 1s 16ms/step - loss: 0.4683 - accuracy: 0.8806 - val_loss: 0.3625 - val_accuracy: 0.9125\n",
      "Epoch 4/5\n",
      "80/80 [==============================] - 1s 16ms/step - loss: 0.2857 - accuracy: 0.9291 - val_loss: 0.3371 - val_accuracy: 0.9152\n",
      "Epoch 5/5\n",
      "80/80 [==============================] - 1s 16ms/step - loss: 0.2007 - accuracy: 0.9541 - val_loss: 0.3040 - val_accuracy: 0.9231\n",
      "tfidf 모드의 테스트 정확도: 0.8368295431137085\n",
      "Epoch 1/5\n",
      "80/80 [==============================] - 2s 18ms/step - loss: 2.9727 - accuracy: 0.1025 - val_loss: 2.9109 - val_accuracy: 0.2615\n",
      "Epoch 2/5\n",
      "80/80 [==============================] - 1s 16ms/step - loss: 2.6757 - accuracy: 0.2183 - val_loss: 2.3280 - val_accuracy: 0.3507\n",
      "Epoch 3/5\n",
      "80/80 [==============================] - 1s 16ms/step - loss: 2.1424 - accuracy: 0.3226 - val_loss: 1.8628 - val_accuracy: 0.5822\n",
      "Epoch 4/5\n",
      "80/80 [==============================] - 1s 16ms/step - loss: 1.7225 - accuracy: 0.4654 - val_loss: 1.4673 - val_accuracy: 0.6899\n",
      "Epoch 5/5\n",
      "80/80 [==============================] - 1s 16ms/step - loss: 1.3721 - accuracy: 0.5874 - val_loss: 1.1553 - val_accuracy: 0.7288\n",
      "freq 모드의 테스트 정확도: 0.6821561455726624\n"
     ]
    }
   ],
   "source": [
    "modes = ['binary', 'count', 'tfidf', 'freq'] # 4개의 모드를 리스트에 저장.\n",
    "\n",
    "for mode in modes: # 4개의 모드에 대해서 각각 아래의 작업을 반복한다.\n",
    "    X_train, X_test, _ = prepare_data(train_email, test_email, mode) # 모드에 따라서 데이터를 전처리\n",
    "    score = fit_and_evaluate(X_train, y_train, X_test, y_test) # 모델을 훈련하고 평가.\n",
    "    print(mode+' 모드의 테스트 정확도:', score)"
   ]
  }
 ],
 "metadata": {
  "kernelspec": {
   "display_name": "Python 3 (ipykernel)",
   "language": "python",
   "name": "python3"
  },
  "language_info": {
   "codemirror_mode": {
    "name": "ipython",
    "version": 3
   },
   "file_extension": ".py",
   "mimetype": "text/x-python",
   "name": "python",
   "nbconvert_exporter": "python",
   "pygments_lexer": "ipython3",
   "version": "3.9.12"
  },
  "toc": {
   "base_numbering": 1,
   "nav_menu": {},
   "number_sections": true,
   "sideBar": true,
   "skip_h1_title": false,
   "title_cell": "Table of Contents",
   "title_sidebar": "Contents",
   "toc_cell": false,
   "toc_position": {},
   "toc_section_display": true,
   "toc_window_display": false
  }
 },
 "nbformat": 4,
 "nbformat_minor": 5
}
