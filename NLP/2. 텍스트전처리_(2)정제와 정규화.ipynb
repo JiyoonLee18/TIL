{
 "cells": [
  {
   "cell_type": "markdown",
   "id": "5e747b59",
   "metadata": {},
   "source": [
    "## 정제(Cleaning) and 정규화(Normalization)\n",
    "- 토큰화 작업 전, 후에는 텍스트 데이터를 용도에 맞게 정제(cleaning) 및 정규화(normalization)\n",
    "- 목적\n",
    "    - 정제(cleaning) : 갖고 있는 코퍼스로부터 노이즈 데이터를 제거\n",
    "    - 정규화(normalization) : 표현 방법이 다른 단어들을 통합시켜서 같은 단어로 만듦"
   ]
  },
  {
   "cell_type": "markdown",
   "id": "575ee6be",
   "metadata": {},
   "source": [
    "### 규칙에 기반한 표기가 다른 단어들의 통합\n",
    "- 같은 의미를 갖고있음에도, 표기가 다른 단어들을 하나의 단어로 정규화하 는 방법을 사용\n",
    "- ex. USA와 US는 같은 의미를 가지므로 하나의 단어로 정규화"
   ]
  },
  {
   "cell_type": "markdown",
   "id": "968e2709",
   "metadata": {},
   "source": [
    "### 대, 소문자 통합\n",
    "- 영어권 언어에서 대, 소문자를 통합하는 것은 단어의 개수를 줄일 수 있는 또 다른 정규화 방법\n",
    "- 대, 소문자 통합 작업은 대부분 대문자를 소문자로 변환하는 소문자 변환작업 진행 (소문자 변환이 더 유용)\n",
    "- 대문자와 소문자를 무작정 통합해서는 안됨\n",
    "    - ex. US미국 vs us우리\n",
    "- 일부만 소문자로 변환시키는 방법도 있음"
   ]
  },
  {
   "cell_type": "markdown",
   "id": "e118fa28",
   "metadata": {},
   "source": [
    "### 불필요한 단어의 제거\n",
    "- 노이즈 데이터(noise data)는 자연어가 아니면서 아무 의미도 갖지 않는 글자들(특수 문자 등)을 의미\n",
    "- 분석하고자 하는 목적에 맞지 않는 불필요 단어들을 노이즈 데이터라고 하기도 함\n",
    "- 불필요 단어들을 제거하는 방법으로는 불용어 제거와 등장 빈도가 적은 단어, 길이가 짧은 단어들을 제거하는 방법"
   ]
  },
  {
   "cell_type": "markdown",
   "id": "31941138",
   "metadata": {},
   "source": [
    "- (1) 등장 빈도가 적은 단어\n",
    "    - ex. 10만개의 메일 데이터에서 총 5번 밖에 등장하지 않는 단어가 있다면, 목적에 별 도움이 안될 수 있음\n",
    "- (2) 길이가 짧은 단어\n",
    "    - 영어권에서는 효과 있음. 한국어는 다름. 한 글자가 가진 의미의 크기가 다름\n",
    "    - ex. 길이가 2인 단어 제거 -> it, at, to, on, in 등"
   ]
  },
  {
   "cell_type": "code",
   "execution_count": 1,
   "id": "c95f774f",
   "metadata": {},
   "outputs": [
    {
     "name": "stdout",
     "output_type": "stream",
     "text": [
      " was wondering anyone out there could enlighten this car.\n"
     ]
    }
   ],
   "source": [
    "import re\n",
    "text = \"I was wondering if anyone out there could enlighten me on this car.\"\n",
    "\n",
    "# 길이가 1~2인 단어들을 정규 표현식을 이용하여 삭제\n",
    "shortword = re.compile(r'\\W*\\b\\w{1,2}\\b')\n",
    "print(shortword.sub('', text))"
   ]
  },
  {
   "cell_type": "markdown",
   "id": "d3430ce3",
   "metadata": {},
   "source": [
    "### 정규 표현식(Regular Expression)\n",
    "-  코퍼스에서 노이즈 데이터의 특징을 파악하여 정규표현식을 통해 제거할 수 있음\n",
    "- ex. HTML문서로부터 가져온 코퍼스의 경우, HTML 태그\n",
    "- ex. 뉴스 기사 크롤링, 게재 시간"
   ]
  }
 ],
 "metadata": {
  "kernelspec": {
   "display_name": "Python 3 (ipykernel)",
   "language": "python",
   "name": "python3"
  },
  "language_info": {
   "codemirror_mode": {
    "name": "ipython",
    "version": 3
   },
   "file_extension": ".py",
   "mimetype": "text/x-python",
   "name": "python",
   "nbconvert_exporter": "python",
   "pygments_lexer": "ipython3",
   "version": "3.9.12"
  },
  "toc": {
   "base_numbering": 1,
   "nav_menu": {},
   "number_sections": true,
   "sideBar": true,
   "skip_h1_title": false,
   "title_cell": "Table of Contents",
   "title_sidebar": "Contents",
   "toc_cell": false,
   "toc_position": {},
   "toc_section_display": true,
   "toc_window_display": false
  }
 },
 "nbformat": 4,
 "nbformat_minor": 5
}
