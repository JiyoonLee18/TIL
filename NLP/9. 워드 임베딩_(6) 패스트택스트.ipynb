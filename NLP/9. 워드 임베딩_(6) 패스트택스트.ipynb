{
 "cells": [
  {
   "cell_type": "markdown",
   "id": "b5665476",
   "metadata": {},
   "source": [
    "## 패스트텍스트(FastText)\n",
    "- https://wikidocs.net/22883\n",
    "- 단어를 벡터로 만드는 또 다른 방법으로는 페이스북에서 개발한 FastText\n",
    "- 메커니즘 자체는 Word2Vec의 확장\n",
    "    - Word2Vec와 FastText와의 가장 큰 차이점\n",
    "        - Word2Vec는 단어를 쪼개질 수 없는 단위로 생각한다면, FastText는 하나의 단어 안에도 여러 단어들이 존재하는 것으로 간주\n",
    "        - 내부 단어. 즉, 서브워드(subword)를 고려하여 학습"
   ]
  },
  {
   "cell_type": "markdown",
   "id": "5573ed5f",
   "metadata": {},
   "source": [
    "### 내부 단어(subword)의 학습\n",
    "- FastText에서는 각 단어는 글자 단위 n-gram의 구성으로 취급\n",
    "- n을 몇으로 결정하는지에 따라서 단어들이 얼마나 분리되는지 결정\n",
    "- 예) n=3, apple -> app, ppl, ple로 분리, 벡터 생성\n",
    "    - <ap, app, ppl, ple, le> \n",
    "    - <apple (특별토큰)> \n",
    "    - n = 3인 경우, FastText는 단어 apple에 대해서 6개의 토큰을 벡터화\n",
    "- 실제 사용할 때는 n의 최소값과 최대값으로 범위를 설정 가능\n",
    "- 기본값으로는 각각 3과 6으로 되어 있음\n",
    "- 단어 apple 에 대해 아래 내부 단어 벡터화 진행\n",
    "    - 벡터화: 저 단어들에 대해서 Word2Vec을 수행\n",
    "    - \"<ap, app, ppl, ppl, le>, <app, appl, pple, ple>, <appl, pple>, ..., <apple>\""
   ]
  },
  {
   "cell_type": "markdown",
   "id": "28c2de37",
   "metadata": {},
   "source": [
    "### 모르는 단어(Out Of Vocabulary, OOV)에 대한 대응\n",
    "- 장점: (데이터셋 충분하다면) 위와 같은 내부 단어(Subword)를 통해 모르는 단어(Out Of Vocabulary, OOV)에 대해서도 다른 단어와의 유사도를 계산 가능\n",
    "    - 예) birthplace 출생지란 단어 학습 x, birth, place 학습 -> FastText는 birthplace의 벡터 얻기 가능\n",
    "    - 모르는 단어에 제대로 대처할 수 없는 Word2Vec, GloVe와는 다른 점"
   ]
  },
  {
   "cell_type": "markdown",
   "id": "09d4e452",
   "metadata": {},
   "source": [
    "### 단어 집합 내 빈도 수가 적었던 단어(Rare Word)에 대한 대응\n",
    "- Word2Vec의 경우에는 등장 빈도 수가 적은 단어(rare word)에 대해서는 임베딩의 정확도가 높지 않다는 단점\n",
    "- FastText의 경우, 만약 단어가 희귀 단어라도, 그 단어의 n-gram이 다른 단어의 n-gram과 겹치는 경우라면, Word2Vec과 비교하여 비교적 높은 임베딩 벡터값\n",
    "    - 노이즈가 많은 코퍼스에서 강점 (ex. 오타 appple)    "
   ]
  },
  {
   "cell_type": "markdown",
   "id": "0afd2abc",
   "metadata": {},
   "source": [
    "### 실습으로 비교하는 Word2Vec Vs. FastText"
   ]
  },
  {
   "cell_type": "code",
   "execution_count": 1,
   "id": "0af112c5",
   "metadata": {},
   "outputs": [],
   "source": [
    "import pickle"
   ]
  },
  {
   "cell_type": "code",
   "execution_count": 2,
   "id": "e2663668",
   "metadata": {},
   "outputs": [],
   "source": [
    "with open(\"result.pickle\",\"rb\") as fi:\n",
    "    result = pickle.load(fi) #result 불러오기"
   ]
  },
  {
   "cell_type": "code",
   "execution_count": 5,
   "id": "35a175b7",
   "metadata": {},
   "outputs": [],
   "source": [
    "from gensim.models import FastText\n",
    "\n",
    "model = FastText(result, vector_size=100, window=5, min_count=5, workers=4, sg=1)"
   ]
  },
  {
   "cell_type": "code",
   "execution_count": 6,
   "id": "7d027a69",
   "metadata": {},
   "outputs": [],
   "source": [
    "# size -> vector_size"
   ]
  },
  {
   "cell_type": "code",
   "execution_count": 7,
   "id": "fc8dfa24",
   "metadata": {},
   "outputs": [
    {
     "data": {
      "text/plain": [
       "[('electrolux', 0.8671838641166687),\n",
       " ('electrolyte', 0.866204023361206),\n",
       " ('electro', 0.851755678653717),\n",
       " ('electroshock', 0.8460729718208313),\n",
       " ('electroencephalogram', 0.8371050953865051),\n",
       " ('electrochemical', 0.8337551951408386),\n",
       " ('electric', 0.8274891376495361),\n",
       " ('electronic', 0.8268327116966248),\n",
       " ('electrogram', 0.8268225789070129),\n",
       " ('electron', 0.8242252469062805)]"
      ]
     },
     "execution_count": 7,
     "metadata": {},
     "output_type": "execute_result"
    }
   ],
   "source": [
    "model.wv.most_similar(\"electrofishing\")"
   ]
  },
  {
   "cell_type": "markdown",
   "id": "c27fe294",
   "metadata": {},
   "source": [
    "### 한국어에서의 FastText\n",
    "- 한국어의 경우에도 OOV 문제를 해결하기 위해 FastText를 적용하고자 하는 시도\n",
    "- 1. 음절단위\n",
    "    - 예) n=3, '자연어처리'\n",
    "    - <자연, 자연어, 연어처, 어처리, 처리>\n",
    "- 2. 자모 단위\n",
    "    - 더 나아가 자모 단위(초성, 중성, 종성 단위)로 임베딩하는 시도\n",
    "    - 음절 단위가 아니라, 자모 단위로 가게 되면 오타나 노이즈 측면에서 더 강한 임베딩을 기대\n",
    "    - 예) 분리된 결과 : ㅈ ㅏ _ ㅇ ㅕ ㄴ ㅇ ㅓ _ ㅊ ㅓ _ ㄹ ㅣ _\n",
    "    - n=3, < ㅈ ㅏ, ㅈ ㅏ _, ㅏ _ ㅇ, ... 중략>"
   ]
  }
 ],
 "metadata": {
  "kernelspec": {
   "display_name": "Python 3 (ipykernel)",
   "language": "python",
   "name": "python3"
  },
  "language_info": {
   "codemirror_mode": {
    "name": "ipython",
    "version": 3
   },
   "file_extension": ".py",
   "mimetype": "text/x-python",
   "name": "python",
   "nbconvert_exporter": "python",
   "pygments_lexer": "ipython3",
   "version": "3.9.12"
  },
  "toc": {
   "base_numbering": 1,
   "nav_menu": {},
   "number_sections": true,
   "sideBar": true,
   "skip_h1_title": false,
   "title_cell": "Table of Contents",
   "title_sidebar": "Contents",
   "toc_cell": false,
   "toc_position": {},
   "toc_section_display": true,
   "toc_window_display": false
  }
 },
 "nbformat": 4,
 "nbformat_minor": 5
}
