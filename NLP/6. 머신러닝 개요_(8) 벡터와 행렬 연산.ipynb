{
 "cells": [
  {
   "cell_type": "markdown",
   "id": "bb57f31c",
   "metadata": {},
   "source": [
    "## 벡터와 행렬 연산\n",
    "- https://wikidocs.net/37001"
   ]
  },
  {
   "cell_type": "markdown",
   "id": "dada2f2a",
   "metadata": {},
   "source": [
    "### 벡터와 행렬과 텐서\n",
    "- 벡터: 크기와 방향을 가진 양\n",
    "    - 숫자가 나열된 형상\n",
    "    - 파이썬에서는 1차원 배열 또는 리스트로 표현\n",
    "- 행렬: 행과 열을 가지는 2차원 형상\n",
    "    - 파이썬에서는 2차원 배열로 표현\n",
    "    - 가로줄을 행(row), 세로줄을 열(column)\n",
    "- 텐서: 3차원\n",
    "    - 파이썬에서는 3차원 이상의 배열로 표현"
   ]
  },
  {
   "cell_type": "markdown",
   "id": "b1571722",
   "metadata": {},
   "source": [
    "### 텐서(Tensor)\n",
    "- 인공 신경망은 복잡한 모델 내의 연산을 주로 행렬 연산을 통해 해결\n",
    "    - 행렬 연산이란 단순히 2차원 배열을 통한 행렬 연산만을 의미하는 것이 X\n",
    "    - 머신 러닝의 입, 출력이 복잡해지면 3차원 텐서에 대한 이해가 필수로 요구\n",
    "    - ex. 인공 신경망 모델 중 하나인 RNN에서는 3차원 텐서 개념 중요"
   ]
  },
  {
   "cell_type": "code",
   "execution_count": 1,
   "id": "163a3588",
   "metadata": {},
   "outputs": [],
   "source": [
    "# numpy를 사용한 텐서 설명\n",
    "import numpy as np"
   ]
  },
  {
   "cell_type": "markdown",
   "id": "cf66b0c7",
   "metadata": {},
   "source": [
    "#### 0차원 텐서(스칼라)\n",
    "- 스칼라: 하나의 실수값으로 이루어진 데이터\n",
    "- 차원을 영어로 Dimension이라고 하므로 0D 텐서"
   ]
  },
  {
   "cell_type": "code",
   "execution_count": 2,
   "id": "223e65c3",
   "metadata": {},
   "outputs": [
    {
     "name": "stdout",
     "output_type": "stream",
     "text": [
      "텐서의 차원 : 0\n",
      "텐서의 크기(shape) : ()\n"
     ]
    }
   ],
   "source": [
    "d = np.array(5)\n",
    "print('텐서의 차원 :',d.ndim)\n",
    "print('텐서의 크기(shape) :',d.shape)"
   ]
  },
  {
   "cell_type": "markdown",
   "id": "ea4e35f6",
   "metadata": {},
   "source": [
    "- ndim을 출력했을 때 나오는 값: 축(axis)의 개수, 텐서의 차원"
   ]
  },
  {
   "cell_type": "markdown",
   "id": "31c8705a",
   "metadata": {},
   "source": [
    "#### 1차원 텐서(벡터)\n",
    "- 벡터: 숫자를 배열한 것\n",
    "    - 벡터는 1차원 텐서\n",
    "    - 벡터에서도 차원이라는 용어를 쓰는데, 벡터의 차원과 텐서의 차원은 다른 개념\n",
    "    - 1D 텐서\n",
    "- 벡터에서의 차원: 하나의 축에 놓인 원소의 개수를 의미\n",
    "- 텐서에서의 차원: 축의 개수를 의미\n",
    "- ex. 아래의 경우, 4차원 벡터(=원소의 개수), 1차원 텐서 (=축의 개수)"
   ]
  },
  {
   "cell_type": "code",
   "execution_count": 3,
   "id": "1edc1b98",
   "metadata": {},
   "outputs": [
    {
     "name": "stdout",
     "output_type": "stream",
     "text": [
      "텐서의 차원 : 1\n",
      "텐서의 크기(shape) : (4,)\n"
     ]
    }
   ],
   "source": [
    "d = np.array([1, 2, 3, 4])\n",
    "print('텐서의 차원 :',d.ndim)\n",
    "print('텐서의 크기(shape) :',d.shape)"
   ]
  },
  {
   "cell_type": "markdown",
   "id": "d3b5b90c",
   "metadata": {},
   "source": [
    "#### 2차원 텐서(행렬)\n",
    "- 행과 열이 존재하는 벡터의 배열. 즉, 행렬(matrix)\n",
    "- 2D 텐서"
   ]
  },
  {
   "cell_type": "code",
   "execution_count": 4,
   "id": "906f6e6f",
   "metadata": {},
   "outputs": [
    {
     "name": "stdout",
     "output_type": "stream",
     "text": [
      "텐서의 차원 : 2\n",
      "텐서의 크기(shape) : (3, 4)\n"
     ]
    }
   ],
   "source": [
    "# 3행 4열의 행렬\n",
    "d = np.array([[1, 2, 3, 4], [5, 6, 7, 8], [9, 10, 11, 12]])\n",
    "print('텐서의 차원 :',d.ndim)\n",
    "print('텐서의 크기(shape) :',d.shape)"
   ]
  },
  {
   "cell_type": "markdown",
   "id": "23982f76",
   "metadata": {},
   "source": [
    "- 텐서의 크기(shape): 각 축을 따라서 얼마나 많은 차원이 있는지를 나타낸 값"
   ]
  },
  {
   "cell_type": "markdown",
   "id": "918bf140",
   "metadata": {},
   "source": [
    "#### 3차원 텐서(다차원 배열)\n",
    "- 3차원 텐서: 행렬 또는 2차원 텐서를 단위로 한 번 더 배열\n",
    "- 3D 텐서\n",
    "-  3차원 이상의 텐서부터 본격적으로 텐서라고 부름"
   ]
  },
  {
   "cell_type": "code",
   "execution_count": 5,
   "id": "f68f5f21",
   "metadata": {},
   "outputs": [
    {
     "name": "stdout",
     "output_type": "stream",
     "text": [
      "텐서의 차원 : 3\n",
      "텐서의 크기(shape) : (2, 3, 5)\n"
     ]
    }
   ],
   "source": [
    "d = np.array([\n",
    "            [[1, 2, 3, 4, 5], [6, 7, 8, 9, 10], [10, 11, 12, 13, 14]],\n",
    "            [[15, 16, 17, 18, 19], [19, 20, 21, 22, 23], [23, 24, 25, 26, 27]]\n",
    "            ])\n",
    "print('텐서의 차원 :',d.ndim)\n",
    "print('텐서의 크기(shape) :',d.shape)"
   ]
  },
  {
   "cell_type": "markdown",
   "id": "6ace28e1",
   "metadata": {},
   "source": [
    "- 자연어 처리에서 자주 보게되는 것이 3D 텐서\n",
    "- 3D 텐서는 시퀀스 데이터(sequence data)를 표현할 때 자주 사용\n",
    "- 시퀀스 데이터는 주로 단어의 시퀀스를 의미, 시퀀스는 주로 문장이나 문서, 뉴스 기사 등의 텍스트가 될 수 있음\n",
    "    - 이 경우 3D 텐서는 (samples, timesteps, word_dim)\n",
    "- 배치: 일괄로 처리하기 위해 데이터를 묶는 단위\n",
    "    -  (batch_size, timesteps, word_dim)"
   ]
  },
  {
   "attachments": {
    "image.png": {
     "image/png": "[encoded data removed]"
    }
   },
   "cell_type": "markdown",
   "id": "b51c8a98",
   "metadata": {},
   "source": [
    "- 자연어 처리에서 왜 3D 텐서의 개념이 사용되는지\n",
    "- 예)\n",
    "    - 문서1 : I like NLP\n",
    "    - 문서2 : I like DL\n",
    "    - 문서3 : DL is AI\n",
    "    - 인공 신경망의 모델의 입력으로 사용하기 위해서는 -> 각 단어 벡터화 필요\n",
    "    - 단어 벡터화 방법: 원-핫 인코딩, 워드 임베딩 등\n",
    "    - 원-핫 인코딩\n",
    "    ![image.png](attachment:image.png)\n",
    "    [[[1, 0, 0, 0, 0, 0], [0, 1, 0, 0, 0, 0], [0, 0, 1, 0, 0, 0]],  \n",
    "    [[1, 0, 0, 0, 0, 0], [0, 1, 0, 0, 0, 0], [0, 0, 0, 1, 0, 0]],  \n",
    "    [[0, 0, 0, 1, 0, 0], [0, 0, 0, 0, 1, 0], [0, 0, 0, 0, 0, 1]]]  \n",
    "    - 배치(Batch): 훈련 데이터를 다수 묶어 입력으로 사용하는 것을 딥 러닝"
   ]
  },
  {
   "cell_type": "markdown",
   "id": "3a28901a",
   "metadata": {},
   "source": [
    "#### 그 이상의 텐서\n",
    "- 3차원 텐서를 배열로 합치면 4차원 텐서\n",
    "- 4차원 텐서를 배열로 합치면 5차원 텐서\n",
    "- 계속 확장 가능...."
   ]
  },
  {
   "cell_type": "markdown",
   "id": "ea0e18b6",
   "metadata": {},
   "source": [
    "#### 케라스에서의 텐서\n",
    "- 케라스에서는 신경망의 층에 입력의 크기(shape)를 인자로 줄 때 input_shape라는 인자를 사용\n",
    "- 실제 예시의 경우, input_shape는 배치 크기를 제외하고 차원을 지정\n",
    "    - input_shape(6, 5)라는 인자값을 사용, 텐서의 크기는 (?, 6, 5)을 의미\n",
    "    - 배치 크기는 지정해주기 전까지는 알 수 없기 때문에\n",
    "    - 만약 배치 크기까지 지정해주고 싶다면 batch_input_shape=(8, 2, 10)와 같이 인자를 주면 이 텐서의 크기는 (8, 2, 10)을 의미\n",
    "- 입력의 속성 수를 의미하는 input_dim, 시퀀스 데이터의 길이를 의미하는 input_length 등의 인자도 사용\n",
    "    - input_shape의 두 개의 인자는 (input_length, input_dim)"
   ]
  },
  {
   "cell_type": "markdown",
   "id": "c8c46925",
   "metadata": {},
   "source": [
    "### 벡터와 행렬의 연산\n",
    "- 기본적인 연산"
   ]
  },
  {
   "cell_type": "code",
   "execution_count": 6,
   "id": "29fd9dea",
   "metadata": {},
   "outputs": [],
   "source": [
    "import numpy as np"
   ]
  },
  {
   "attachments": {
    "image-2.png": {
     "image/png": "[encoded data removed]"
    },
    "image.png": {
     "image/png": "[encoded data removed]"
    }
   },
   "cell_type": "markdown",
   "id": "c0c413c0",
   "metadata": {},
   "source": [
    "#### 벡터와 행렬의 덧셈과 뺄셈\n",
    "- 같은 크기의 두 개의 벡터나 행렬은 덧셈과 뺄셈 가능\n",
    "- 같은 위치의 원소끼리 연산 -> 요소별(element-wise) 연산\n",
    "![image.png](attachment:image.png)\n",
    "![image-2.png](attachment:image-2.png)"
   ]
  },
  {
   "cell_type": "code",
   "execution_count": 7,
   "id": "e507d49b",
   "metadata": {},
   "outputs": [
    {
     "name": "stdout",
     "output_type": "stream",
     "text": [
      "두 벡터의 합 : [9 6 8]\n",
      "두 벡터의 차 : [7 2 2]\n"
     ]
    }
   ],
   "source": [
    "A = np.array([8, 4, 5])\n",
    "B = np.array([1, 2, 3])\n",
    "print('두 벡터의 합 :',A+B)\n",
    "print('두 벡터의 차 :',A-B)"
   ]
  },
  {
   "cell_type": "code",
   "execution_count": 8,
   "id": "c8b67256",
   "metadata": {},
   "outputs": [
    {
     "name": "stdout",
     "output_type": "stream",
     "text": [
      "두 행렬의 합 :\n",
      "[[15 26 37 48]\n",
      " [51 62 73 84]]\n",
      "두 행렬의 차 :\n",
      "[[ 5 14 23 32]\n",
      " [49 58 67 76]]\n"
     ]
    }
   ],
   "source": [
    "# 행렬도 마찬가지\n",
    "A = np.array([[10, 20, 30, 40], [50, 60, 70, 80]])\n",
    "B = np.array([[5, 6, 7, 8],[1, 2, 3, 4]])\n",
    "print('두 행렬의 합 :')\n",
    "print(A + B)\n",
    "print('두 행렬의 차 :')\n",
    "print(A - B)"
   ]
  },
  {
   "attachments": {
    "image.png": {
     "image/png": "[encoded data removed]"
    }
   },
   "cell_type": "markdown",
   "id": "50413ee5",
   "metadata": {},
   "source": [
    "#### 벡터의 내적과 행렬의 곱셈\n",
    "- 벡터의 내적\n",
    "    - 연산을 점(dot)으로 표현, a·b와 같이 표현\n",
    "    - 내적이 성립하기 위해서는, 두 벡터의 차원이 같아야 함\n",
    "    - 두 벡터 중 앞의 벡터가 행벡터(가로 방향 벡터)이고 뒤의 벡터가 열벡터(세로 방향 벡터)여야 함\n",
    "    ![image.png](attachment:image.png)"
   ]
  },
  {
   "cell_type": "code",
   "execution_count": 9,
   "id": "d6cd05d8",
   "metadata": {},
   "outputs": [
    {
     "name": "stdout",
     "output_type": "stream",
     "text": [
      "두 벡터의 내적 : 32\n"
     ]
    }
   ],
   "source": [
    "A = np.array([1, 2, 3])\n",
    "B = np.array([4, 5, 6])\n",
    "print('두 벡터의 내적 :',np.dot(A, B))"
   ]
  },
  {
   "attachments": {
    "image.png": {
     "image/png": "[encoded data removed]"
    }
   },
   "cell_type": "markdown",
   "id": "6889aa4a",
   "metadata": {},
   "source": [
    "- 행렬의 곱셈\n",
    "    - 왼쪽 행렬의 행벡터(가로 방향 벡터)와 오른쪽 행렬의 열벡터(세로 방향 벡터)의 내적(대응하는 원소들의 곱의 합)이 결과 행렬의 원소가 되는 것\n",
    "    - 두 행렬의 곱 A × B이 성립되기 위해서는 행렬 A의 열의 개수와 행렬 B의 행의 개수는 같아야 한다.\n",
    "    - 두 행렬의 곱 A × B의 결과로 나온 행렬 AB의 크기는 A의 행의 개수와 B의 열의 개수를 가진다.\n",
    "    ![image.png](attachment:image.png)"
   ]
  },
  {
   "cell_type": "code",
   "execution_count": 10,
   "id": "6299f2d3",
   "metadata": {},
   "outputs": [
    {
     "name": "stdout",
     "output_type": "stream",
     "text": [
      "두 행렬의 행렬곱 :\n",
      "[[23 31]\n",
      " [34 46]]\n"
     ]
    }
   ],
   "source": [
    "A = np.array([[1, 3],[2, 4]])\n",
    "B = np.array([[5, 7],[6, 8]])\n",
    "print('두 행렬의 행렬곱 :')\n",
    "print(np.matmul(A, B))"
   ]
  },
  {
   "attachments": {
    "image-3.png": {
     "image/png": "[encoded data removed]"
    },
    "image-4.png": {
     "image/png": "[encoded data removed]"
    },
    "image-5.png": {
     "image/png": "[encoded data removed]"
    },
    "image-6.png": {
     "image/png": "[encoded data removed]"
    },
    "image.png": {
     "image/png": "[encoded data removed]"
    }
   },
   "cell_type": "markdown",
   "id": "dd569eea",
   "metadata": {},
   "source": [
    "### 다중 선형 회귀 행렬 연산으로 이해하기\n",
    "- 다중 선형 회귀나 다중 로지스틱 회귀\n",
    "- 다중 선형 회귀\n",
    "    ![image.png](attachment:image.png)\n",
    "    ![image-3.png](attachment:image-3.png)\n",
    "    ![image-4.png](attachment:image-4.png)\n",
    "    ![image-5.png](attachment:image-5.png)\n",
    "    ![image-6.png](attachment:image-6.png)"
   ]
  },
  {
   "cell_type": "markdown",
   "id": "7d6963d9",
   "metadata": {},
   "source": [
    "### 샘플(Sample)과 특성(Feature)\n",
    "- 전에 내용과 중복이라 스킵"
   ]
  },
  {
   "attachments": {
    "image-2.png": {
     "image/png": "[encoded data removed]"
    },
    "image-3.png": {
     "image/png": "[encoded data removed]"
    },
    "image.png": {
     "image/png": "[encoded data removed]"
    }
   },
   "cell_type": "markdown",
   "id": "86f372a4",
   "metadata": {},
   "source": [
    "### 가중치와 편향 행렬의 크기 결정\n",
    "- 행렬 곱셈의 두 가지 중요 조건\n",
    "    - 두 행렬의 곱 J × K이 성립되기 위해서는 행렬 J의 열의 개수와 행렬 K의 행의 개수는 같아야 한다.\n",
    "    - 두 행렬의 곱 J × K의 결과로 나온 행렬 JK의 크기는 J의 행의 개수와 K의 열의 개수를 가진다.\n",
    "- 이로부터 입력과 출력의 행렬의 크기로부터 가중치 행렬 W와 편향 행렬 B의 크기를 찾아낼 수 있음\n",
    "- 독립 변수 행렬을 X, 종속 변수 행렬을 Y라고 하였을 때, 이때 행렬 X를 입력 행렬(Input Matrix), Y를 출력 행렬(Output Matrix)이라고 함\n",
    "![image.png](attachment:image.png)\n",
    "![image-2.png](attachment:image-2.png)\n",
    "![image-3.png](attachment:image-3.png)"
   ]
  },
  {
   "cell_type": "markdown",
   "id": "de1c5154",
   "metadata": {},
   "source": [
    "- 입력 행렬과 출력 행렬의 크기로부터 가중치 행렬과 편향 행렬의 크기를 추정할 수 있다면,\n",
    "- 딥 러닝 모델을 구현하였을 때 해당 모델에 존재하는 총 매개변수의 개수를 계산하기 용이\n",
    "- 어떤 딥 러닝 모델의 총 매개변수의 개수는 해당 모델에 존재하는 가중치 행렬과 편향 행렬의 모든 원소의 수이기 대문"
   ]
  }
 ],
 "metadata": {
  "kernelspec": {
   "display_name": "Python 3 (ipykernel)",
   "language": "python",
   "name": "python3"
  },
  "language_info": {
   "codemirror_mode": {
    "name": "ipython",
    "version": 3
   },
   "file_extension": ".py",
   "mimetype": "text/x-python",
   "name": "python",
   "nbconvert_exporter": "python",
   "pygments_lexer": "ipython3",
   "version": "3.9.12"
  },
  "toc": {
   "base_numbering": 1,
   "nav_menu": {},
   "number_sections": true,
   "sideBar": true,
   "skip_h1_title": false,
   "title_cell": "Table of Contents",
   "title_sidebar": "Contents",
   "toc_cell": false,
   "toc_position": {},
   "toc_section_display": true,
   "toc_window_display": false
  }
 },
 "nbformat": 4,
 "nbformat_minor": 5
}
